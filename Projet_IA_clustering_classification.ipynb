{
 "cells": [
  {
   "cell_type": "code",
   "execution_count": 428,
   "metadata": {},
   "outputs": [],
   "source": [
    "%matplotlib inline"
   ]
  },
  {
   "cell_type": "code",
   "execution_count": 429,
   "metadata": {},
   "outputs": [],
   "source": [
    "import pandas as pd\n",
    "import numpy as np\n",
    "import sklearn\n",
    "from sklearn import metrics\n",
    "import matplotlib.pyplot as plt\n",
    "import seaborn as sns\n",
    "from sklearn.cluster import KMeans\n",
    "import matplotlib.pyplot as plt\n",
    "from sklearn.cluster import DBSCAN"
   ]
  },
  {
   "cell_type": "markdown",
   "metadata": {},
   "source": [
    "# Read dataset GNI_Surface"
   ]
  },
  {
   "cell_type": "markdown",
   "metadata": {},
   "source": [
    "### Import dataset"
   ]
  },
  {
   "cell_type": "markdown",
   "metadata": {},
   "source": [
    "### Drop rows with missing values"
   ]
  },
  {
   "cell_type": "code",
   "execution_count": 430,
   "metadata": {},
   "outputs": [
    {
     "data": {
      "text/html": [
       "<div>\n",
       "<style scoped>\n",
       "    .dataframe tbody tr th:only-of-type {\n",
       "        vertical-align: middle;\n",
       "    }\n",
       "\n",
       "    .dataframe tbody tr th {\n",
       "        vertical-align: top;\n",
       "    }\n",
       "\n",
       "    .dataframe thead th {\n",
       "        text-align: right;\n",
       "    }\n",
       "</style>\n",
       "<table border=\"1\" class=\"dataframe\">\n",
       "  <thead>\n",
       "    <tr style=\"text-align: right;\">\n",
       "      <th></th>\n",
       "      <th>Time</th>\n",
       "      <th>Time Code</th>\n",
       "      <th>Country Name</th>\n",
       "      <th>Country Code</th>\n",
       "      <th>Surface</th>\n",
       "      <th>Population</th>\n",
       "      <th>GNI</th>\n",
       "    </tr>\n",
       "  </thead>\n",
       "  <tbody>\n",
       "    <tr>\n",
       "      <th>212</th>\n",
       "      <td>2010</td>\n",
       "      <td>YR2010</td>\n",
       "      <td>Venezuela, RB</td>\n",
       "      <td>VEN</td>\n",
       "      <td>912050.0</td>\n",
       "      <td>29028033</td>\n",
       "      <td>3.883414e+11</td>\n",
       "    </tr>\n",
       "    <tr>\n",
       "      <th>213</th>\n",
       "      <td>2010</td>\n",
       "      <td>YR2010</td>\n",
       "      <td>Virgin Islands (U.S.)</td>\n",
       "      <td>VIR</td>\n",
       "      <td>350.0</td>\n",
       "      <td>108358</td>\n",
       "      <td>NaN</td>\n",
       "    </tr>\n",
       "    <tr>\n",
       "      <th>214</th>\n",
       "      <td>2010</td>\n",
       "      <td>YR2010</td>\n",
       "      <td>Bermuda</td>\n",
       "      <td>BMU</td>\n",
       "      <td>50.0</td>\n",
       "      <td>65124</td>\n",
       "      <td>7.163899e+09</td>\n",
       "    </tr>\n",
       "    <tr>\n",
       "      <th>215</th>\n",
       "      <td>2010</td>\n",
       "      <td>YR2010</td>\n",
       "      <td>Canada</td>\n",
       "      <td>CAN</td>\n",
       "      <td>9984670.0</td>\n",
       "      <td>34005274</td>\n",
       "      <td>1.581500e+12</td>\n",
       "    </tr>\n",
       "    <tr>\n",
       "      <th>216</th>\n",
       "      <td>2010</td>\n",
       "      <td>YR2010</td>\n",
       "      <td>United States</td>\n",
       "      <td>USA</td>\n",
       "      <td>9831510.0</td>\n",
       "      <td>309338421</td>\n",
       "      <td>1.512113e+13</td>\n",
       "    </tr>\n",
       "  </tbody>\n",
       "</table>\n",
       "</div>"
      ],
      "text/plain": [
       "     Time Time Code           Country Name Country Code    Surface  \\\n",
       "212  2010    YR2010          Venezuela, RB          VEN   912050.0   \n",
       "213  2010    YR2010  Virgin Islands (U.S.)          VIR      350.0   \n",
       "214  2010    YR2010                Bermuda          BMU       50.0   \n",
       "215  2010    YR2010                 Canada          CAN  9984670.0   \n",
       "216  2010    YR2010          United States          USA  9831510.0   \n",
       "\n",
       "     Population           GNI  \n",
       "212    29028033  3.883414e+11  \n",
       "213      108358           NaN  \n",
       "214       65124  7.163899e+09  \n",
       "215    34005274  1.581500e+12  \n",
       "216   309338421  1.512113e+13  "
      ]
     },
     "execution_count": 430,
     "metadata": {},
     "output_type": "execute_result"
    }
   ],
   "source": [
    "dfgni = pd.read_csv(\"GNI_Surface_Data.txt\",sep=\"\\t\",header=0)\n",
    "dfgni.tail()"
   ]
  },
  {
   "cell_type": "code",
   "execution_count": 431,
   "metadata": {},
   "outputs": [
    {
     "data": {
      "text/html": [
       "<div>\n",
       "<style scoped>\n",
       "    .dataframe tbody tr th:only-of-type {\n",
       "        vertical-align: middle;\n",
       "    }\n",
       "\n",
       "    .dataframe tbody tr th {\n",
       "        vertical-align: top;\n",
       "    }\n",
       "\n",
       "    .dataframe thead th {\n",
       "        text-align: right;\n",
       "    }\n",
       "</style>\n",
       "<table border=\"1\" class=\"dataframe\">\n",
       "  <thead>\n",
       "    <tr style=\"text-align: right;\">\n",
       "      <th></th>\n",
       "      <th>Time</th>\n",
       "      <th>Time Code</th>\n",
       "      <th>Country Name</th>\n",
       "      <th>Country Code</th>\n",
       "      <th>Surface</th>\n",
       "      <th>Population</th>\n",
       "      <th>GNI</th>\n",
       "    </tr>\n",
       "  </thead>\n",
       "  <tbody>\n",
       "    <tr>\n",
       "      <th>0</th>\n",
       "      <td>2010</td>\n",
       "      <td>YR2010</td>\n",
       "      <td>Afghanistan</td>\n",
       "      <td>AFG</td>\n",
       "      <td>652860.0</td>\n",
       "      <td>28803167</td>\n",
       "      <td>1.599880e+10</td>\n",
       "    </tr>\n",
       "    <tr>\n",
       "      <th>1</th>\n",
       "      <td>2010</td>\n",
       "      <td>YR2010</td>\n",
       "      <td>Bangladesh</td>\n",
       "      <td>BGD</td>\n",
       "      <td>148460.0</td>\n",
       "      <td>152149102</td>\n",
       "      <td>1.246171e+11</td>\n",
       "    </tr>\n",
       "    <tr>\n",
       "      <th>2</th>\n",
       "      <td>2010</td>\n",
       "      <td>YR2010</td>\n",
       "      <td>Bhutan</td>\n",
       "      <td>BTN</td>\n",
       "      <td>38394.0</td>\n",
       "      <td>727641</td>\n",
       "      <td>1.497492e+09</td>\n",
       "    </tr>\n",
       "    <tr>\n",
       "      <th>3</th>\n",
       "      <td>2010</td>\n",
       "      <td>YR2010</td>\n",
       "      <td>India</td>\n",
       "      <td>IND</td>\n",
       "      <td>3287260.0</td>\n",
       "      <td>1230980691</td>\n",
       "      <td>1.638663e+12</td>\n",
       "    </tr>\n",
       "    <tr>\n",
       "      <th>4</th>\n",
       "      <td>2010</td>\n",
       "      <td>YR2010</td>\n",
       "      <td>Maldives</td>\n",
       "      <td>MDV</td>\n",
       "      <td>300.0</td>\n",
       "      <td>364511</td>\n",
       "      <td>2.276923e+09</td>\n",
       "    </tr>\n",
       "  </tbody>\n",
       "</table>\n",
       "</div>"
      ],
      "text/plain": [
       "   Time Time Code Country Name Country Code    Surface  Population  \\\n",
       "0  2010    YR2010  Afghanistan          AFG   652860.0    28803167   \n",
       "1  2010    YR2010   Bangladesh          BGD   148460.0   152149102   \n",
       "2  2010    YR2010       Bhutan          BTN    38394.0      727641   \n",
       "3  2010    YR2010        India          IND  3287260.0  1230980691   \n",
       "4  2010    YR2010     Maldives          MDV      300.0      364511   \n",
       "\n",
       "            GNI  \n",
       "0  1.599880e+10  \n",
       "1  1.246171e+11  \n",
       "2  1.497492e+09  \n",
       "3  1.638663e+12  \n",
       "4  2.276923e+09  "
      ]
     },
     "execution_count": 431,
     "metadata": {},
     "output_type": "execute_result"
    }
   ],
   "source": [
    "dfgni = dfgni.dropna()\n",
    "dfgni.head()"
   ]
  },
  {
   "cell_type": "code",
   "execution_count": 432,
   "metadata": {},
   "outputs": [
    {
     "data": {
      "text/plain": [
       "193"
      ]
     },
     "execution_count": 432,
     "metadata": {},
     "output_type": "execute_result"
    }
   ],
   "source": [
    "len(dfgni)"
   ]
  },
  {
   "cell_type": "markdown",
   "metadata": {},
   "source": [
    "# Read dataset "
   ]
  },
  {
   "cell_type": "markdown",
   "metadata": {},
   "source": [
    "### Import dataset"
   ]
  },
  {
   "cell_type": "code",
   "execution_count": 433,
   "metadata": {},
   "outputs": [
    {
     "data": {
      "text/html": [
       "<div>\n",
       "<style scoped>\n",
       "    .dataframe tbody tr th:only-of-type {\n",
       "        vertical-align: middle;\n",
       "    }\n",
       "\n",
       "    .dataframe tbody tr th {\n",
       "        vertical-align: top;\n",
       "    }\n",
       "\n",
       "    .dataframe thead th {\n",
       "        text-align: right;\n",
       "    }\n",
       "</style>\n",
       "<table border=\"1\" class=\"dataframe\">\n",
       "  <thead>\n",
       "    <tr style=\"text-align: right;\">\n",
       "      <th></th>\n",
       "      <th>Time</th>\n",
       "      <th>Time Code</th>\n",
       "      <th>Country Name</th>\n",
       "      <th>Country Code</th>\n",
       "      <th>Gvnt_health_exp</th>\n",
       "      <th>Food Deficit</th>\n",
       "      <th>Life expectancy</th>\n",
       "      <th>Nat_resources_rents</th>\n",
       "    </tr>\n",
       "  </thead>\n",
       "  <tbody>\n",
       "    <tr>\n",
       "      <th>212</th>\n",
       "      <td>2010</td>\n",
       "      <td>YR2010</td>\n",
       "      <td>Venezuela, RB</td>\n",
       "      <td>VEN</td>\n",
       "      <td>5.680916</td>\n",
       "      <td>19.0</td>\n",
       "      <td>73.625000</td>\n",
       "      <td>10.227491</td>\n",
       "    </tr>\n",
       "    <tr>\n",
       "      <th>213</th>\n",
       "      <td>2010</td>\n",
       "      <td>YR2010</td>\n",
       "      <td>Virgin Islands (U.S.)</td>\n",
       "      <td>VIR</td>\n",
       "      <td>NaN</td>\n",
       "      <td>NaN</td>\n",
       "      <td>77.965854</td>\n",
       "      <td>0.000000</td>\n",
       "    </tr>\n",
       "    <tr>\n",
       "      <th>214</th>\n",
       "      <td>2010</td>\n",
       "      <td>YR2010</td>\n",
       "      <td>Bermuda</td>\n",
       "      <td>BMU</td>\n",
       "      <td>NaN</td>\n",
       "      <td>NaN</td>\n",
       "      <td>79.288537</td>\n",
       "      <td>0.000000</td>\n",
       "    </tr>\n",
       "    <tr>\n",
       "      <th>215</th>\n",
       "      <td>2010</td>\n",
       "      <td>YR2010</td>\n",
       "      <td>Canada</td>\n",
       "      <td>CAN</td>\n",
       "      <td>17.842219</td>\n",
       "      <td>NaN</td>\n",
       "      <td>81.197561</td>\n",
       "      <td>2.798067</td>\n",
       "    </tr>\n",
       "    <tr>\n",
       "      <th>216</th>\n",
       "      <td>2010</td>\n",
       "      <td>YR2010</td>\n",
       "      <td>United States</td>\n",
       "      <td>USA</td>\n",
       "      <td>18.531309</td>\n",
       "      <td>NaN</td>\n",
       "      <td>78.541463</td>\n",
       "      <td>0.981585</td>\n",
       "    </tr>\n",
       "  </tbody>\n",
       "</table>\n",
       "</div>"
      ],
      "text/plain": [
       "     Time Time Code           Country Name Country Code  Gvnt_health_exp  \\\n",
       "212  2010    YR2010          Venezuela, RB          VEN         5.680916   \n",
       "213  2010    YR2010  Virgin Islands (U.S.)          VIR              NaN   \n",
       "214  2010    YR2010                Bermuda          BMU              NaN   \n",
       "215  2010    YR2010                 Canada          CAN        17.842219   \n",
       "216  2010    YR2010          United States          USA        18.531309   \n",
       "\n",
       "     Food Deficit  Life expectancy  Nat_resources_rents  \n",
       "212          19.0        73.625000            10.227491  \n",
       "213           NaN        77.965854             0.000000  \n",
       "214           NaN        79.288537             0.000000  \n",
       "215           NaN        81.197561             2.798067  \n",
       "216           NaN        78.541463             0.981585  "
      ]
     },
     "execution_count": 433,
     "metadata": {},
     "output_type": "execute_result"
    }
   ],
   "source": [
    "dfautres = pd.read_csv(\"autres_Data.txt\",sep=\"\\t\",header=0)\n",
    "dfautres.tail()"
   ]
  },
  {
   "cell_type": "markdown",
   "metadata": {},
   "source": [
    "### Drop rows with missing values"
   ]
  },
  {
   "cell_type": "code",
   "execution_count": 434,
   "metadata": {},
   "outputs": [
    {
     "data": {
      "text/html": [
       "<div>\n",
       "<style scoped>\n",
       "    .dataframe tbody tr th:only-of-type {\n",
       "        vertical-align: middle;\n",
       "    }\n",
       "\n",
       "    .dataframe tbody tr th {\n",
       "        vertical-align: top;\n",
       "    }\n",
       "\n",
       "    .dataframe thead th {\n",
       "        text-align: right;\n",
       "    }\n",
       "</style>\n",
       "<table border=\"1\" class=\"dataframe\">\n",
       "  <thead>\n",
       "    <tr style=\"text-align: right;\">\n",
       "      <th></th>\n",
       "      <th>Time</th>\n",
       "      <th>Time Code</th>\n",
       "      <th>Country Name</th>\n",
       "      <th>Country Code</th>\n",
       "      <th>Gvnt_health_exp</th>\n",
       "      <th>Food Deficit</th>\n",
       "      <th>Life expectancy</th>\n",
       "      <th>Nat_resources_rents</th>\n",
       "    </tr>\n",
       "  </thead>\n",
       "  <tbody>\n",
       "    <tr>\n",
       "      <th>0</th>\n",
       "      <td>2010</td>\n",
       "      <td>YR2010</td>\n",
       "      <td>Afghanistan</td>\n",
       "      <td>AFG</td>\n",
       "      <td>2.255471</td>\n",
       "      <td>158.0</td>\n",
       "      <td>61.226</td>\n",
       "      <td>0.732845</td>\n",
       "    </tr>\n",
       "    <tr>\n",
       "      <th>1</th>\n",
       "      <td>2010</td>\n",
       "      <td>YR2010</td>\n",
       "      <td>Bangladesh</td>\n",
       "      <td>BGD</td>\n",
       "      <td>4.071213</td>\n",
       "      <td>119.0</td>\n",
       "      <td>70.198</td>\n",
       "      <td>1.309144</td>\n",
       "    </tr>\n",
       "    <tr>\n",
       "      <th>3</th>\n",
       "      <td>2010</td>\n",
       "      <td>YR2010</td>\n",
       "      <td>India</td>\n",
       "      <td>IND</td>\n",
       "      <td>3.169405</td>\n",
       "      <td>115.0</td>\n",
       "      <td>66.625</td>\n",
       "      <td>4.671042</td>\n",
       "    </tr>\n",
       "    <tr>\n",
       "      <th>4</th>\n",
       "      <td>2010</td>\n",
       "      <td>YR2010</td>\n",
       "      <td>Maldives</td>\n",
       "      <td>MDV</td>\n",
       "      <td>13.603584</td>\n",
       "      <td>79.0</td>\n",
       "      <td>76.112</td>\n",
       "      <td>0.008966</td>\n",
       "    </tr>\n",
       "    <tr>\n",
       "      <th>5</th>\n",
       "      <td>2010</td>\n",
       "      <td>YR2010</td>\n",
       "      <td>Nepal</td>\n",
       "      <td>NPL</td>\n",
       "      <td>4.802811</td>\n",
       "      <td>74.0</td>\n",
       "      <td>67.914</td>\n",
       "      <td>1.470750</td>\n",
       "    </tr>\n",
       "  </tbody>\n",
       "</table>\n",
       "</div>"
      ],
      "text/plain": [
       "   Time Time Code Country Name Country Code  Gvnt_health_exp  Food Deficit  \\\n",
       "0  2010    YR2010  Afghanistan          AFG         2.255471         158.0   \n",
       "1  2010    YR2010   Bangladesh          BGD         4.071213         119.0   \n",
       "3  2010    YR2010        India          IND         3.169405         115.0   \n",
       "4  2010    YR2010     Maldives          MDV        13.603584          79.0   \n",
       "5  2010    YR2010        Nepal          NPL         4.802811          74.0   \n",
       "\n",
       "   Life expectancy  Nat_resources_rents  \n",
       "0           61.226             0.732845  \n",
       "1           70.198             1.309144  \n",
       "3           66.625             4.671042  \n",
       "4           76.112             0.008966  \n",
       "5           67.914             1.470750  "
      ]
     },
     "execution_count": 434,
     "metadata": {},
     "output_type": "execute_result"
    }
   ],
   "source": [
    "dfautres = dfautres.dropna()\n",
    "dfautres.head()"
   ]
  },
  {
   "cell_type": "code",
   "execution_count": 435,
   "metadata": {},
   "outputs": [
    {
     "data": {
      "text/plain": [
       "112"
      ]
     },
     "execution_count": 435,
     "metadata": {},
     "output_type": "execute_result"
    }
   ],
   "source": [
    "len(dfautres)"
   ]
  },
  {
   "cell_type": "markdown",
   "metadata": {},
   "source": [
    "# Merge datasets"
   ]
  },
  {
   "cell_type": "code",
   "execution_count": 436,
   "metadata": {},
   "outputs": [],
   "source": [
    "data = pd.merge(dfgni, dfautres, how='inner', on=['Country Name', 'Country Code'])"
   ]
  },
  {
   "cell_type": "code",
   "execution_count": 437,
   "metadata": {},
   "outputs": [],
   "source": [
    "data=data.drop(columns=['Time_x', 'Time Code_x', 'Time_y', 'Time Code_y' ])"
   ]
  },
  {
   "cell_type": "code",
   "execution_count": 438,
   "metadata": {},
   "outputs": [],
   "source": [
    "# set index with country code\n",
    "data = data.set_index('Country Code')"
   ]
  },
  {
   "cell_type": "code",
   "execution_count": 439,
   "metadata": {},
   "outputs": [
    {
     "data": {
      "text/html": [
       "<div>\n",
       "<style scoped>\n",
       "    .dataframe tbody tr th:only-of-type {\n",
       "        vertical-align: middle;\n",
       "    }\n",
       "\n",
       "    .dataframe tbody tr th {\n",
       "        vertical-align: top;\n",
       "    }\n",
       "\n",
       "    .dataframe thead th {\n",
       "        text-align: right;\n",
       "    }\n",
       "</style>\n",
       "<table border=\"1\" class=\"dataframe\">\n",
       "  <thead>\n",
       "    <tr style=\"text-align: right;\">\n",
       "      <th></th>\n",
       "      <th>Country Name</th>\n",
       "      <th>Surface</th>\n",
       "      <th>Population</th>\n",
       "      <th>GNI</th>\n",
       "      <th>Gvnt_health_exp</th>\n",
       "      <th>Food Deficit</th>\n",
       "      <th>Life expectancy</th>\n",
       "      <th>Nat_resources_rents</th>\n",
       "    </tr>\n",
       "    <tr>\n",
       "      <th>Country Code</th>\n",
       "      <th></th>\n",
       "      <th></th>\n",
       "      <th></th>\n",
       "      <th></th>\n",
       "      <th></th>\n",
       "      <th></th>\n",
       "      <th></th>\n",
       "      <th></th>\n",
       "    </tr>\n",
       "  </thead>\n",
       "  <tbody>\n",
       "    <tr>\n",
       "      <th>AFG</th>\n",
       "      <td>Afghanistan</td>\n",
       "      <td>652860.0</td>\n",
       "      <td>28803167</td>\n",
       "      <td>1.599880e+10</td>\n",
       "      <td>2.255471</td>\n",
       "      <td>158.0</td>\n",
       "      <td>61.226</td>\n",
       "      <td>0.732845</td>\n",
       "    </tr>\n",
       "    <tr>\n",
       "      <th>BGD</th>\n",
       "      <td>Bangladesh</td>\n",
       "      <td>148460.0</td>\n",
       "      <td>152149102</td>\n",
       "      <td>1.246171e+11</td>\n",
       "      <td>4.071213</td>\n",
       "      <td>119.0</td>\n",
       "      <td>70.198</td>\n",
       "      <td>1.309144</td>\n",
       "    </tr>\n",
       "    <tr>\n",
       "      <th>IND</th>\n",
       "      <td>India</td>\n",
       "      <td>3287260.0</td>\n",
       "      <td>1230980691</td>\n",
       "      <td>1.638663e+12</td>\n",
       "      <td>3.169405</td>\n",
       "      <td>115.0</td>\n",
       "      <td>66.625</td>\n",
       "      <td>4.671042</td>\n",
       "    </tr>\n",
       "    <tr>\n",
       "      <th>MDV</th>\n",
       "      <td>Maldives</td>\n",
       "      <td>300.0</td>\n",
       "      <td>364511</td>\n",
       "      <td>2.276923e+09</td>\n",
       "      <td>13.603584</td>\n",
       "      <td>79.0</td>\n",
       "      <td>76.112</td>\n",
       "      <td>0.008966</td>\n",
       "    </tr>\n",
       "    <tr>\n",
       "      <th>NPL</th>\n",
       "      <td>Nepal</td>\n",
       "      <td>147180.0</td>\n",
       "      <td>27023137</td>\n",
       "      <td>1.612497e+10</td>\n",
       "      <td>4.802811</td>\n",
       "      <td>74.0</td>\n",
       "      <td>67.914</td>\n",
       "      <td>1.470750</td>\n",
       "    </tr>\n",
       "  </tbody>\n",
       "</table>\n",
       "</div>"
      ],
      "text/plain": [
       "             Country Name    Surface  Population           GNI  \\\n",
       "Country Code                                                     \n",
       "AFG           Afghanistan   652860.0    28803167  1.599880e+10   \n",
       "BGD            Bangladesh   148460.0   152149102  1.246171e+11   \n",
       "IND                 India  3287260.0  1230980691  1.638663e+12   \n",
       "MDV              Maldives      300.0      364511  2.276923e+09   \n",
       "NPL                 Nepal   147180.0    27023137  1.612497e+10   \n",
       "\n",
       "              Gvnt_health_exp  Food Deficit  Life expectancy  \\\n",
       "Country Code                                                   \n",
       "AFG                  2.255471         158.0           61.226   \n",
       "BGD                  4.071213         119.0           70.198   \n",
       "IND                  3.169405         115.0           66.625   \n",
       "MDV                 13.603584          79.0           76.112   \n",
       "NPL                  4.802811          74.0           67.914   \n",
       "\n",
       "              Nat_resources_rents  \n",
       "Country Code                       \n",
       "AFG                      0.732845  \n",
       "BGD                      1.309144  \n",
       "IND                      4.671042  \n",
       "MDV                      0.008966  \n",
       "NPL                      1.470750  "
      ]
     },
     "execution_count": 439,
     "metadata": {},
     "output_type": "execute_result"
    }
   ],
   "source": [
    "data.head()"
   ]
  },
  {
   "cell_type": "code",
   "execution_count": 440,
   "metadata": {},
   "outputs": [
    {
     "data": {
      "text/plain": [
       "111"
      ]
     },
     "execution_count": 440,
     "metadata": {},
     "output_type": "execute_result"
    }
   ],
   "source": [
    "len(data)"
   ]
  },
  {
   "cell_type": "markdown",
   "metadata": {},
   "source": [
    "# Boxplots"
   ]
  },
  {
   "cell_type": "code",
   "execution_count": 441,
   "metadata": {},
   "outputs": [
    {
     "data": {
      "text/plain": [
       "<matplotlib.axes._subplots.AxesSubplot at 0x7f659b8492d0>"
      ]
     },
     "execution_count": 441,
     "metadata": {},
     "output_type": "execute_result"
    },
    {
     "data": {
      "image/png": "[encoded data removed]",
      "text/plain": [
       "<matplotlib.figure.Figure at 0x7f659b847a50>"
      ]
     },
     "metadata": {},
     "output_type": "display_data"
    }
   ],
   "source": [
    "# set index with country code\n",
    "dfautresn = dfautres\n",
    "dfautresn = dfautresn.set_index('Country Code')\n",
    "# boxplot with the dfautre dataset\n",
    "dfautresn = dfautresn.iloc[:,3:]\n",
    "Z_scored_dfautres = (dfautresn-dfautresn.mean())/dfautresn.std()\n",
    "sns.boxplot(Z_scored_dfautres)"
   ]
  },
  {
   "cell_type": "code",
   "execution_count": 442,
   "metadata": {},
   "outputs": [
    {
     "data": {
      "text/plain": [
       "<matplotlib.axes._subplots.AxesSubplot at 0x7f659b849290>"
      ]
     },
     "execution_count": 442,
     "metadata": {},
     "output_type": "execute_result"
    },
    {
     "data": {
      "image/png": "[encoded data removed]",
      "text/plain": [
       "<matplotlib.figure.Figure at 0x7f659b8477d0>"
      ]
     },
     "metadata": {},
     "output_type": "display_data"
    }
   ],
   "source": [
    "# boxplot with the whole dataset\n",
    "datan = data.iloc[:,1:]\n",
    "Z_scored_df = (datan-datan.mean())/datan.std()\n",
    "sns.boxplot(Z_scored_df)"
   ]
  },
  {
   "cell_type": "markdown",
   "metadata": {},
   "source": [
    "# Outliers detection"
   ]
  },
  {
   "cell_type": "markdown",
   "metadata": {},
   "source": [
    "## dfautres"
   ]
  },
  {
   "cell_type": "code",
   "execution_count": 443,
   "metadata": {},
   "outputs": [
    {
     "data": {
      "text/plain": [
       "Gvnt_health_exp          8.378800\n",
       "Food Deficit           112.348214\n",
       "Life expectancy         66.760248\n",
       "Nat_resources_rents     10.867296\n",
       "dtype: float64"
      ]
     },
     "execution_count": 443,
     "metadata": {},
     "output_type": "execute_result"
    }
   ],
   "source": [
    "dfautresn.mean(axis=0) # moyenne des lignes pour chaque colonne"
   ]
  },
  {
   "cell_type": "code",
   "execution_count": 444,
   "metadata": {},
   "outputs": [],
   "source": [
    "threshold = 2.5\n",
    "mask = np.abs(dfautresn) > dfautresn.mean()+threshold*dfautresn.std()\n",
    "outliers = dfautresn[mask.any(axis=1)]"
   ]
  },
  {
   "cell_type": "code",
   "execution_count": 445,
   "metadata": {},
   "outputs": [
    {
     "data": {
      "text/html": [
       "<div>\n",
       "<style scoped>\n",
       "    .dataframe tbody tr th:only-of-type {\n",
       "        vertical-align: middle;\n",
       "    }\n",
       "\n",
       "    .dataframe tbody tr th {\n",
       "        vertical-align: top;\n",
       "    }\n",
       "\n",
       "    .dataframe thead th {\n",
       "        text-align: right;\n",
       "    }\n",
       "</style>\n",
       "<table border=\"1\" class=\"dataframe\">\n",
       "  <thead>\n",
       "    <tr style=\"text-align: right;\">\n",
       "      <th></th>\n",
       "      <th>Gvnt_health_exp</th>\n",
       "      <th>Food Deficit</th>\n",
       "      <th>Life expectancy</th>\n",
       "      <th>Nat_resources_rents</th>\n",
       "    </tr>\n",
       "    <tr>\n",
       "      <th>Country Code</th>\n",
       "      <th></th>\n",
       "      <th></th>\n",
       "      <th></th>\n",
       "      <th></th>\n",
       "    </tr>\n",
       "  </thead>\n",
       "  <tbody>\n",
       "    <tr>\n",
       "      <th>AFG</th>\n",
       "      <td>False</td>\n",
       "      <td>False</td>\n",
       "      <td>False</td>\n",
       "      <td>False</td>\n",
       "    </tr>\n",
       "    <tr>\n",
       "      <th>BGD</th>\n",
       "      <td>False</td>\n",
       "      <td>False</td>\n",
       "      <td>False</td>\n",
       "      <td>False</td>\n",
       "    </tr>\n",
       "    <tr>\n",
       "      <th>IND</th>\n",
       "      <td>False</td>\n",
       "      <td>False</td>\n",
       "      <td>False</td>\n",
       "      <td>False</td>\n",
       "    </tr>\n",
       "    <tr>\n",
       "      <th>MDV</th>\n",
       "      <td>False</td>\n",
       "      <td>False</td>\n",
       "      <td>False</td>\n",
       "      <td>False</td>\n",
       "    </tr>\n",
       "    <tr>\n",
       "      <th>NPL</th>\n",
       "      <td>False</td>\n",
       "      <td>False</td>\n",
       "      <td>False</td>\n",
       "      <td>False</td>\n",
       "    </tr>\n",
       "  </tbody>\n",
       "</table>\n",
       "</div>"
      ],
      "text/plain": [
       "              Gvnt_health_exp  Food Deficit  Life expectancy  \\\n",
       "Country Code                                                   \n",
       "AFG                     False         False            False   \n",
       "BGD                     False         False            False   \n",
       "IND                     False         False            False   \n",
       "MDV                     False         False            False   \n",
       "NPL                     False         False            False   \n",
       "\n",
       "              Nat_resources_rents  \n",
       "Country Code                       \n",
       "AFG                         False  \n",
       "BGD                         False  \n",
       "IND                         False  \n",
       "MDV                         False  \n",
       "NPL                         False  "
      ]
     },
     "execution_count": 445,
     "metadata": {},
     "output_type": "execute_result"
    }
   ],
   "source": [
    "mask.head()"
   ]
  },
  {
   "cell_type": "code",
   "execution_count": 446,
   "metadata": {},
   "outputs": [
    {
     "data": {
      "text/plain": [
       "Gvnt_health_exp         True\n",
       "Food Deficit            True\n",
       "Life expectancy        False\n",
       "Nat_resources_rents     True\n",
       "dtype: bool"
      ]
     },
     "execution_count": 446,
     "metadata": {},
     "output_type": "execute_result"
    }
   ],
   "source": [
    "mask.any()"
   ]
  },
  {
   "cell_type": "code",
   "execution_count": 447,
   "metadata": {},
   "outputs": [
    {
     "data": {
      "text/html": [
       "<div>\n",
       "<style scoped>\n",
       "    .dataframe tbody tr th:only-of-type {\n",
       "        vertical-align: middle;\n",
       "    }\n",
       "\n",
       "    .dataframe tbody tr th {\n",
       "        vertical-align: top;\n",
       "    }\n",
       "\n",
       "    .dataframe thead th {\n",
       "        text-align: right;\n",
       "    }\n",
       "</style>\n",
       "<table border=\"1\" class=\"dataframe\">\n",
       "  <thead>\n",
       "    <tr style=\"text-align: right;\">\n",
       "      <th></th>\n",
       "      <th>Country Name</th>\n",
       "      <th>Surface</th>\n",
       "      <th>Population</th>\n",
       "      <th>GNI</th>\n",
       "      <th>Gvnt_health_exp</th>\n",
       "      <th>Food Deficit</th>\n",
       "      <th>Life expectancy</th>\n",
       "      <th>Nat_resources_rents</th>\n",
       "    </tr>\n",
       "    <tr>\n",
       "      <th>Country Code</th>\n",
       "      <th></th>\n",
       "      <th></th>\n",
       "      <th></th>\n",
       "      <th></th>\n",
       "      <th></th>\n",
       "      <th></th>\n",
       "      <th></th>\n",
       "      <th></th>\n",
       "    </tr>\n",
       "  </thead>\n",
       "  <tbody>\n",
       "    <tr>\n",
       "      <th>BLZ</th>\n",
       "      <td>Belize</td>\n",
       "      <td>22970.0</td>\n",
       "      <td>321608</td>\n",
       "      <td>1.239593e+09</td>\n",
       "      <td>41.644164</td>\n",
       "      <td>36.0</td>\n",
       "      <td>69.676</td>\n",
       "      <td>4.992062</td>\n",
       "    </tr>\n",
       "    <tr>\n",
       "      <th>COG</th>\n",
       "      <td>Congo, Rep.</td>\n",
       "      <td>342000.0</td>\n",
       "      <td>4386693</td>\n",
       "      <td>9.024207e+09</td>\n",
       "      <td>4.226890</td>\n",
       "      <td>226.0</td>\n",
       "      <td>60.473</td>\n",
       "      <td>49.144419</td>\n",
       "    </tr>\n",
       "    <tr>\n",
       "      <th>HTI</th>\n",
       "      <td>Haiti</td>\n",
       "      <td>27750.0</td>\n",
       "      <td>9999617</td>\n",
       "      <td>6.644822e+09</td>\n",
       "      <td>2.545283</td>\n",
       "      <td>524.0</td>\n",
       "      <td>61.296</td>\n",
       "      <td>1.192176</td>\n",
       "    </tr>\n",
       "    <tr>\n",
       "      <th>IRQ</th>\n",
       "      <td>Iraq</td>\n",
       "      <td>435240.0</td>\n",
       "      <td>30762701</td>\n",
       "      <td>1.401081e+11</td>\n",
       "      <td>4.814162</td>\n",
       "      <td>209.0</td>\n",
       "      <td>68.465</td>\n",
       "      <td>41.477584</td>\n",
       "    </tr>\n",
       "    <tr>\n",
       "      <th>KWT</th>\n",
       "      <td>Kuwait</td>\n",
       "      <td>17820.0</td>\n",
       "      <td>2998083</td>\n",
       "      <td>1.238811e+11</td>\n",
       "      <td>5.216216</td>\n",
       "      <td>11.0</td>\n",
       "      <td>73.979</td>\n",
       "      <td>48.295617</td>\n",
       "    </tr>\n",
       "    <tr>\n",
       "      <th>MRT</th>\n",
       "      <td>Mauritania</td>\n",
       "      <td>1030700.0</td>\n",
       "      <td>3609543</td>\n",
       "      <td>4.274665e+09</td>\n",
       "      <td>4.222889</td>\n",
       "      <td>54.0</td>\n",
       "      <td>61.997</td>\n",
       "      <td>48.699262</td>\n",
       "    </tr>\n",
       "    <tr>\n",
       "      <th>SAU</th>\n",
       "      <td>Saudi Arabia</td>\n",
       "      <td>2149690.0</td>\n",
       "      <td>27425676</td>\n",
       "      <td>5.352515e+11</td>\n",
       "      <td>6.669300</td>\n",
       "      <td>18.0</td>\n",
       "      <td>73.574</td>\n",
       "      <td>40.934170</td>\n",
       "    </tr>\n",
       "    <tr>\n",
       "      <th>ZMB</th>\n",
       "      <td>Zambia</td>\n",
       "      <td>752610.0</td>\n",
       "      <td>13850033</td>\n",
       "      <td>1.890254e+10</td>\n",
       "      <td>3.313305</td>\n",
       "      <td>455.0</td>\n",
       "      <td>56.588</td>\n",
       "      <td>21.387444</td>\n",
       "    </tr>\n",
       "  </tbody>\n",
       "</table>\n",
       "</div>"
      ],
      "text/plain": [
       "              Country Name    Surface  Population           GNI  \\\n",
       "Country Code                                                      \n",
       "BLZ                 Belize    22970.0      321608  1.239593e+09   \n",
       "COG            Congo, Rep.   342000.0     4386693  9.024207e+09   \n",
       "HTI                  Haiti    27750.0     9999617  6.644822e+09   \n",
       "IRQ                   Iraq   435240.0    30762701  1.401081e+11   \n",
       "KWT                 Kuwait    17820.0     2998083  1.238811e+11   \n",
       "MRT             Mauritania  1030700.0     3609543  4.274665e+09   \n",
       "SAU           Saudi Arabia  2149690.0    27425676  5.352515e+11   \n",
       "ZMB                 Zambia   752610.0    13850033  1.890254e+10   \n",
       "\n",
       "              Gvnt_health_exp  Food Deficit  Life expectancy  \\\n",
       "Country Code                                                   \n",
       "BLZ                 41.644164          36.0           69.676   \n",
       "COG                  4.226890         226.0           60.473   \n",
       "HTI                  2.545283         524.0           61.296   \n",
       "IRQ                  4.814162         209.0           68.465   \n",
       "KWT                  5.216216          11.0           73.979   \n",
       "MRT                  4.222889          54.0           61.997   \n",
       "SAU                  6.669300          18.0           73.574   \n",
       "ZMB                  3.313305         455.0           56.588   \n",
       "\n",
       "              Nat_resources_rents  \n",
       "Country Code                       \n",
       "BLZ                      4.992062  \n",
       "COG                     49.144419  \n",
       "HTI                      1.192176  \n",
       "IRQ                     41.477584  \n",
       "KWT                     48.295617  \n",
       "MRT                     48.699262  \n",
       "SAU                     40.934170  \n",
       "ZMB                     21.387444  "
      ]
     },
     "execution_count": 447,
     "metadata": {},
     "output_type": "execute_result"
    }
   ],
   "source": [
    "data.loc[sorted(list(set(outliers.index)))]"
   ]
  },
  {
   "cell_type": "code",
   "execution_count": 448,
   "metadata": {},
   "outputs": [
    {
     "data": {
      "text/html": [
       "<div>\n",
       "<style scoped>\n",
       "    .dataframe tbody tr th:only-of-type {\n",
       "        vertical-align: middle;\n",
       "    }\n",
       "\n",
       "    .dataframe tbody tr th {\n",
       "        vertical-align: top;\n",
       "    }\n",
       "\n",
       "    .dataframe thead th {\n",
       "        text-align: right;\n",
       "    }\n",
       "</style>\n",
       "<table border=\"1\" class=\"dataframe\">\n",
       "  <thead>\n",
       "    <tr style=\"text-align: right;\">\n",
       "      <th></th>\n",
       "      <th>Gvnt_health_exp</th>\n",
       "      <th>Food Deficit</th>\n",
       "      <th>Life expectancy</th>\n",
       "      <th>Nat_resources_rents</th>\n",
       "    </tr>\n",
       "    <tr>\n",
       "      <th>Country Code</th>\n",
       "      <th></th>\n",
       "      <th></th>\n",
       "      <th></th>\n",
       "      <th></th>\n",
       "    </tr>\n",
       "  </thead>\n",
       "  <tbody>\n",
       "    <tr>\n",
       "      <th>BLZ</th>\n",
       "      <td>True</td>\n",
       "      <td>False</td>\n",
       "      <td>False</td>\n",
       "      <td>False</td>\n",
       "    </tr>\n",
       "    <tr>\n",
       "      <th>COG</th>\n",
       "      <td>False</td>\n",
       "      <td>False</td>\n",
       "      <td>False</td>\n",
       "      <td>True</td>\n",
       "    </tr>\n",
       "    <tr>\n",
       "      <th>HTI</th>\n",
       "      <td>False</td>\n",
       "      <td>True</td>\n",
       "      <td>False</td>\n",
       "      <td>False</td>\n",
       "    </tr>\n",
       "    <tr>\n",
       "      <th>IRQ</th>\n",
       "      <td>False</td>\n",
       "      <td>False</td>\n",
       "      <td>False</td>\n",
       "      <td>True</td>\n",
       "    </tr>\n",
       "    <tr>\n",
       "      <th>KWT</th>\n",
       "      <td>False</td>\n",
       "      <td>False</td>\n",
       "      <td>False</td>\n",
       "      <td>True</td>\n",
       "    </tr>\n",
       "    <tr>\n",
       "      <th>MRT</th>\n",
       "      <td>False</td>\n",
       "      <td>False</td>\n",
       "      <td>False</td>\n",
       "      <td>True</td>\n",
       "    </tr>\n",
       "    <tr>\n",
       "      <th>SAU</th>\n",
       "      <td>False</td>\n",
       "      <td>False</td>\n",
       "      <td>False</td>\n",
       "      <td>True</td>\n",
       "    </tr>\n",
       "    <tr>\n",
       "      <th>ZMB</th>\n",
       "      <td>False</td>\n",
       "      <td>True</td>\n",
       "      <td>False</td>\n",
       "      <td>False</td>\n",
       "    </tr>\n",
       "  </tbody>\n",
       "</table>\n",
       "</div>"
      ],
      "text/plain": [
       "              Gvnt_health_exp  Food Deficit  Life expectancy  \\\n",
       "Country Code                                                   \n",
       "BLZ                      True         False            False   \n",
       "COG                     False         False            False   \n",
       "HTI                     False          True            False   \n",
       "IRQ                     False         False            False   \n",
       "KWT                     False         False            False   \n",
       "MRT                     False         False            False   \n",
       "SAU                     False         False            False   \n",
       "ZMB                     False          True            False   \n",
       "\n",
       "              Nat_resources_rents  \n",
       "Country Code                       \n",
       "BLZ                         False  \n",
       "COG                          True  \n",
       "HTI                         False  \n",
       "IRQ                          True  \n",
       "KWT                          True  \n",
       "MRT                          True  \n",
       "SAU                          True  \n",
       "ZMB                         False  "
      ]
     },
     "execution_count": 448,
     "metadata": {},
     "output_type": "execute_result"
    }
   ],
   "source": [
    "mask.loc[sorted(list(set(outliers.index)))]"
   ]
  },
  {
   "cell_type": "code",
   "execution_count": 449,
   "metadata": {},
   "outputs": [
    {
     "data": {
      "text/html": [
       "<div>\n",
       "<style scoped>\n",
       "    .dataframe tbody tr th:only-of-type {\n",
       "        vertical-align: middle;\n",
       "    }\n",
       "\n",
       "    .dataframe tbody tr th {\n",
       "        vertical-align: top;\n",
       "    }\n",
       "\n",
       "    .dataframe thead th {\n",
       "        text-align: right;\n",
       "    }\n",
       "</style>\n",
       "<table border=\"1\" class=\"dataframe\">\n",
       "  <thead>\n",
       "    <tr style=\"text-align: right;\">\n",
       "      <th></th>\n",
       "      <th>Gvnt_health_exp</th>\n",
       "      <th>Food Deficit</th>\n",
       "      <th>Life expectancy</th>\n",
       "      <th>Nat_resources_rents</th>\n",
       "    </tr>\n",
       "    <tr>\n",
       "      <th>Country Code</th>\n",
       "      <th></th>\n",
       "      <th></th>\n",
       "      <th></th>\n",
       "      <th></th>\n",
       "    </tr>\n",
       "  </thead>\n",
       "  <tbody>\n",
       "    <tr>\n",
       "      <th>ZMB</th>\n",
       "      <td>3.313305</td>\n",
       "      <td>455.0</td>\n",
       "      <td>56.588</td>\n",
       "      <td>21.387444</td>\n",
       "    </tr>\n",
       "    <tr>\n",
       "      <th>BLZ</th>\n",
       "      <td>41.644164</td>\n",
       "      <td>36.0</td>\n",
       "      <td>69.676</td>\n",
       "      <td>4.992062</td>\n",
       "    </tr>\n",
       "    <tr>\n",
       "      <th>HTI</th>\n",
       "      <td>2.545283</td>\n",
       "      <td>524.0</td>\n",
       "      <td>61.296</td>\n",
       "      <td>1.192176</td>\n",
       "    </tr>\n",
       "  </tbody>\n",
       "</table>\n",
       "</div>"
      ],
      "text/plain": [
       "              Gvnt_health_exp  Food Deficit  Life expectancy  \\\n",
       "Country Code                                                   \n",
       "ZMB                  3.313305         455.0           56.588   \n",
       "BLZ                 41.644164          36.0           69.676   \n",
       "HTI                  2.545283         524.0           61.296   \n",
       "\n",
       "              Nat_resources_rents  \n",
       "Country Code                       \n",
       "ZMB                     21.387444  \n",
       "BLZ                      4.992062  \n",
       "HTI                      1.192176  "
      ]
     },
     "execution_count": 449,
     "metadata": {},
     "output_type": "execute_result"
    }
   ],
   "source": [
    "# we keep outliers not related to nat. ressources\n",
    "maskbis=mask.iloc[:,:3]\n",
    "outliersbis = dfautresn[maskbis.any(axis=1)]\n",
    "outliersbis"
   ]
  },
  {
   "cell_type": "code",
   "execution_count": 450,
   "metadata": {},
   "outputs": [
    {
     "data": {
      "text/html": [
       "<div>\n",
       "<style scoped>\n",
       "    .dataframe tbody tr th:only-of-type {\n",
       "        vertical-align: middle;\n",
       "    }\n",
       "\n",
       "    .dataframe tbody tr th {\n",
       "        vertical-align: top;\n",
       "    }\n",
       "\n",
       "    .dataframe thead th {\n",
       "        text-align: right;\n",
       "    }\n",
       "</style>\n",
       "<table border=\"1\" class=\"dataframe\">\n",
       "  <thead>\n",
       "    <tr style=\"text-align: right;\">\n",
       "      <th></th>\n",
       "      <th>Gvnt_health_exp</th>\n",
       "      <th>Food Deficit</th>\n",
       "      <th>Life expectancy</th>\n",
       "      <th>Nat_resources_rents</th>\n",
       "    </tr>\n",
       "    <tr>\n",
       "      <th>Country Code</th>\n",
       "      <th></th>\n",
       "      <th></th>\n",
       "      <th></th>\n",
       "      <th></th>\n",
       "    </tr>\n",
       "  </thead>\n",
       "  <tbody>\n",
       "    <tr>\n",
       "      <th>AFG</th>\n",
       "      <td>2.255471</td>\n",
       "      <td>158.0</td>\n",
       "      <td>61.226</td>\n",
       "      <td>0.732845</td>\n",
       "    </tr>\n",
       "    <tr>\n",
       "      <th>AGO</th>\n",
       "      <td>4.261282</td>\n",
       "      <td>149.0</td>\n",
       "      <td>58.192</td>\n",
       "      <td>39.037754</td>\n",
       "    </tr>\n",
       "    <tr>\n",
       "      <th>ARE</th>\n",
       "      <td>8.526791</td>\n",
       "      <td>35.0</td>\n",
       "      <td>76.344</td>\n",
       "      <td>20.580810</td>\n",
       "    </tr>\n",
       "    <tr>\n",
       "      <th>ARG</th>\n",
       "      <td>11.692604</td>\n",
       "      <td>10.0</td>\n",
       "      <td>75.595</td>\n",
       "      <td>3.137998</td>\n",
       "    </tr>\n",
       "    <tr>\n",
       "      <th>ARM</th>\n",
       "      <td>6.443148</td>\n",
       "      <td>43.0</td>\n",
       "      <td>73.331</td>\n",
       "      <td>2.992090</td>\n",
       "    </tr>\n",
       "  </tbody>\n",
       "</table>\n",
       "</div>"
      ],
      "text/plain": [
       "              Gvnt_health_exp  Food Deficit  Life expectancy  \\\n",
       "Country Code                                                   \n",
       "AFG                  2.255471         158.0           61.226   \n",
       "AGO                  4.261282         149.0           58.192   \n",
       "ARE                  8.526791          35.0           76.344   \n",
       "ARG                 11.692604          10.0           75.595   \n",
       "ARM                  6.443148          43.0           73.331   \n",
       "\n",
       "              Nat_resources_rents  \n",
       "Country Code                       \n",
       "AFG                      0.732845  \n",
       "AGO                     39.037754  \n",
       "ARE                     20.580810  \n",
       "ARG                      3.137998  \n",
       "ARM                      2.992090  "
      ]
     },
     "execution_count": 450,
     "metadata": {},
     "output_type": "execute_result"
    }
   ],
   "source": [
    "dfautrestri = dfautresn.loc[sorted(list(set(dfautresn.index).difference(set(outliersbis.index))))]\n",
    "dfautrestri.head()"
   ]
  },
  {
   "cell_type": "code",
   "execution_count": 451,
   "metadata": {},
   "outputs": [
    {
     "data": {
      "text/plain": [
       "109"
      ]
     },
     "execution_count": 451,
     "metadata": {},
     "output_type": "execute_result"
    }
   ],
   "source": [
    "len(dfautrestri)"
   ]
  },
  {
   "cell_type": "markdown",
   "metadata": {},
   "source": [
    "## data"
   ]
  },
  {
   "cell_type": "code",
   "execution_count": 452,
   "metadata": {},
   "outputs": [
    {
     "data": {
      "text/plain": [
       "Surface                6.831314e+05\n",
       "Population             4.859118e+07\n",
       "GNI                    1.777908e+11\n",
       "Gvnt_health_exp        8.391488e+00\n",
       "Food Deficit           1.116667e+02\n",
       "Life expectancy        6.681770e+01\n",
       "Nat_resources_rents    1.095765e+01\n",
       "dtype: float64"
      ]
     },
     "execution_count": 452,
     "metadata": {},
     "output_type": "execute_result"
    }
   ],
   "source": [
    "datan.mean(axis=0) # moyenne des lignes pour chaque colonne"
   ]
  },
  {
   "cell_type": "code",
   "execution_count": 453,
   "metadata": {},
   "outputs": [],
   "source": [
    "threshold = 2.5\n",
    "mask2 = np.abs(datan) > datan.mean()+threshold*datan.std()\n",
    "outliers2 = datan[mask2.any(axis=1)]"
   ]
  },
  {
   "cell_type": "code",
   "execution_count": 454,
   "metadata": {},
   "outputs": [
    {
     "data": {
      "text/html": [
       "<div>\n",
       "<style scoped>\n",
       "    .dataframe tbody tr th:only-of-type {\n",
       "        vertical-align: middle;\n",
       "    }\n",
       "\n",
       "    .dataframe tbody tr th {\n",
       "        vertical-align: top;\n",
       "    }\n",
       "\n",
       "    .dataframe thead th {\n",
       "        text-align: right;\n",
       "    }\n",
       "</style>\n",
       "<table border=\"1\" class=\"dataframe\">\n",
       "  <thead>\n",
       "    <tr style=\"text-align: right;\">\n",
       "      <th></th>\n",
       "      <th>Surface</th>\n",
       "      <th>Population</th>\n",
       "      <th>GNI</th>\n",
       "      <th>Gvnt_health_exp</th>\n",
       "      <th>Food Deficit</th>\n",
       "      <th>Life expectancy</th>\n",
       "      <th>Nat_resources_rents</th>\n",
       "    </tr>\n",
       "    <tr>\n",
       "      <th>Country Code</th>\n",
       "      <th></th>\n",
       "      <th></th>\n",
       "      <th></th>\n",
       "      <th></th>\n",
       "      <th></th>\n",
       "      <th></th>\n",
       "      <th></th>\n",
       "    </tr>\n",
       "  </thead>\n",
       "  <tbody>\n",
       "    <tr>\n",
       "      <th>AFG</th>\n",
       "      <td>False</td>\n",
       "      <td>False</td>\n",
       "      <td>False</td>\n",
       "      <td>False</td>\n",
       "      <td>False</td>\n",
       "      <td>False</td>\n",
       "      <td>False</td>\n",
       "    </tr>\n",
       "    <tr>\n",
       "      <th>BGD</th>\n",
       "      <td>False</td>\n",
       "      <td>False</td>\n",
       "      <td>False</td>\n",
       "      <td>False</td>\n",
       "      <td>False</td>\n",
       "      <td>False</td>\n",
       "      <td>False</td>\n",
       "    </tr>\n",
       "    <tr>\n",
       "      <th>IND</th>\n",
       "      <td>False</td>\n",
       "      <td>True</td>\n",
       "      <td>False</td>\n",
       "      <td>False</td>\n",
       "      <td>False</td>\n",
       "      <td>False</td>\n",
       "      <td>False</td>\n",
       "    </tr>\n",
       "    <tr>\n",
       "      <th>MDV</th>\n",
       "      <td>False</td>\n",
       "      <td>False</td>\n",
       "      <td>False</td>\n",
       "      <td>False</td>\n",
       "      <td>False</td>\n",
       "      <td>False</td>\n",
       "      <td>False</td>\n",
       "    </tr>\n",
       "    <tr>\n",
       "      <th>NPL</th>\n",
       "      <td>False</td>\n",
       "      <td>False</td>\n",
       "      <td>False</td>\n",
       "      <td>False</td>\n",
       "      <td>False</td>\n",
       "      <td>False</td>\n",
       "      <td>False</td>\n",
       "    </tr>\n",
       "  </tbody>\n",
       "</table>\n",
       "</div>"
      ],
      "text/plain": [
       "              Surface  Population    GNI  Gvnt_health_exp  Food Deficit  \\\n",
       "Country Code                                                              \n",
       "AFG             False       False  False            False         False   \n",
       "BGD             False       False  False            False         False   \n",
       "IND             False        True  False            False         False   \n",
       "MDV             False       False  False            False         False   \n",
       "NPL             False       False  False            False         False   \n",
       "\n",
       "              Life expectancy  Nat_resources_rents  \n",
       "Country Code                                        \n",
       "AFG                     False                False  \n",
       "BGD                     False                False  \n",
       "IND                     False                False  \n",
       "MDV                     False                False  \n",
       "NPL                     False                False  "
      ]
     },
     "execution_count": 454,
     "metadata": {},
     "output_type": "execute_result"
    }
   ],
   "source": [
    "mask2.head()"
   ]
  },
  {
   "cell_type": "code",
   "execution_count": 455,
   "metadata": {},
   "outputs": [
    {
     "data": {
      "text/plain": [
       "Surface                 True\n",
       "Population              True\n",
       "GNI                     True\n",
       "Gvnt_health_exp         True\n",
       "Food Deficit            True\n",
       "Life expectancy        False\n",
       "Nat_resources_rents     True\n",
       "dtype: bool"
      ]
     },
     "execution_count": 455,
     "metadata": {},
     "output_type": "execute_result"
    }
   ],
   "source": [
    "mask2.any()"
   ]
  },
  {
   "cell_type": "code",
   "execution_count": 456,
   "metadata": {},
   "outputs": [
    {
     "data": {
      "text/html": [
       "<div>\n",
       "<style scoped>\n",
       "    .dataframe tbody tr th:only-of-type {\n",
       "        vertical-align: middle;\n",
       "    }\n",
       "\n",
       "    .dataframe tbody tr th {\n",
       "        vertical-align: top;\n",
       "    }\n",
       "\n",
       "    .dataframe thead th {\n",
       "        text-align: right;\n",
       "    }\n",
       "</style>\n",
       "<table border=\"1\" class=\"dataframe\">\n",
       "  <thead>\n",
       "    <tr style=\"text-align: right;\">\n",
       "      <th></th>\n",
       "      <th>Surface</th>\n",
       "      <th>Population</th>\n",
       "      <th>GNI</th>\n",
       "      <th>Gvnt_health_exp</th>\n",
       "      <th>Food Deficit</th>\n",
       "      <th>Life expectancy</th>\n",
       "      <th>Nat_resources_rents</th>\n",
       "    </tr>\n",
       "    <tr>\n",
       "      <th>Country Code</th>\n",
       "      <th></th>\n",
       "      <th></th>\n",
       "      <th></th>\n",
       "      <th></th>\n",
       "      <th></th>\n",
       "      <th></th>\n",
       "      <th></th>\n",
       "    </tr>\n",
       "  </thead>\n",
       "  <tbody>\n",
       "    <tr>\n",
       "      <th>BLZ</th>\n",
       "      <td>False</td>\n",
       "      <td>False</td>\n",
       "      <td>False</td>\n",
       "      <td>True</td>\n",
       "      <td>False</td>\n",
       "      <td>False</td>\n",
       "      <td>False</td>\n",
       "    </tr>\n",
       "    <tr>\n",
       "      <th>BRA</th>\n",
       "      <td>True</td>\n",
       "      <td>False</td>\n",
       "      <td>True</td>\n",
       "      <td>False</td>\n",
       "      <td>False</td>\n",
       "      <td>False</td>\n",
       "      <td>False</td>\n",
       "    </tr>\n",
       "    <tr>\n",
       "      <th>CHN</th>\n",
       "      <td>True</td>\n",
       "      <td>True</td>\n",
       "      <td>True</td>\n",
       "      <td>False</td>\n",
       "      <td>False</td>\n",
       "      <td>False</td>\n",
       "      <td>False</td>\n",
       "    </tr>\n",
       "    <tr>\n",
       "      <th>COG</th>\n",
       "      <td>False</td>\n",
       "      <td>False</td>\n",
       "      <td>False</td>\n",
       "      <td>False</td>\n",
       "      <td>False</td>\n",
       "      <td>False</td>\n",
       "      <td>True</td>\n",
       "    </tr>\n",
       "    <tr>\n",
       "      <th>HTI</th>\n",
       "      <td>False</td>\n",
       "      <td>False</td>\n",
       "      <td>False</td>\n",
       "      <td>False</td>\n",
       "      <td>True</td>\n",
       "      <td>False</td>\n",
       "      <td>False</td>\n",
       "    </tr>\n",
       "    <tr>\n",
       "      <th>IND</th>\n",
       "      <td>False</td>\n",
       "      <td>True</td>\n",
       "      <td>False</td>\n",
       "      <td>False</td>\n",
       "      <td>False</td>\n",
       "      <td>False</td>\n",
       "      <td>False</td>\n",
       "    </tr>\n",
       "    <tr>\n",
       "      <th>IRQ</th>\n",
       "      <td>False</td>\n",
       "      <td>False</td>\n",
       "      <td>False</td>\n",
       "      <td>False</td>\n",
       "      <td>False</td>\n",
       "      <td>False</td>\n",
       "      <td>True</td>\n",
       "    </tr>\n",
       "    <tr>\n",
       "      <th>KWT</th>\n",
       "      <td>False</td>\n",
       "      <td>False</td>\n",
       "      <td>False</td>\n",
       "      <td>False</td>\n",
       "      <td>False</td>\n",
       "      <td>False</td>\n",
       "      <td>True</td>\n",
       "    </tr>\n",
       "    <tr>\n",
       "      <th>MRT</th>\n",
       "      <td>False</td>\n",
       "      <td>False</td>\n",
       "      <td>False</td>\n",
       "      <td>False</td>\n",
       "      <td>False</td>\n",
       "      <td>False</td>\n",
       "      <td>True</td>\n",
       "    </tr>\n",
       "    <tr>\n",
       "      <th>SAU</th>\n",
       "      <td>False</td>\n",
       "      <td>False</td>\n",
       "      <td>False</td>\n",
       "      <td>False</td>\n",
       "      <td>False</td>\n",
       "      <td>False</td>\n",
       "      <td>True</td>\n",
       "    </tr>\n",
       "    <tr>\n",
       "      <th>ZMB</th>\n",
       "      <td>False</td>\n",
       "      <td>False</td>\n",
       "      <td>False</td>\n",
       "      <td>False</td>\n",
       "      <td>True</td>\n",
       "      <td>False</td>\n",
       "      <td>False</td>\n",
       "    </tr>\n",
       "  </tbody>\n",
       "</table>\n",
       "</div>"
      ],
      "text/plain": [
       "              Surface  Population    GNI  Gvnt_health_exp  Food Deficit  \\\n",
       "Country Code                                                              \n",
       "BLZ             False       False  False             True         False   \n",
       "BRA              True       False   True            False         False   \n",
       "CHN              True        True   True            False         False   \n",
       "COG             False       False  False            False         False   \n",
       "HTI             False       False  False            False          True   \n",
       "IND             False        True  False            False         False   \n",
       "IRQ             False       False  False            False         False   \n",
       "KWT             False       False  False            False         False   \n",
       "MRT             False       False  False            False         False   \n",
       "SAU             False       False  False            False         False   \n",
       "ZMB             False       False  False            False          True   \n",
       "\n",
       "              Life expectancy  Nat_resources_rents  \n",
       "Country Code                                        \n",
       "BLZ                     False                False  \n",
       "BRA                     False                False  \n",
       "CHN                     False                False  \n",
       "COG                     False                 True  \n",
       "HTI                     False                False  \n",
       "IND                     False                False  \n",
       "IRQ                     False                 True  \n",
       "KWT                     False                 True  \n",
       "MRT                     False                 True  \n",
       "SAU                     False                 True  \n",
       "ZMB                     False                False  "
      ]
     },
     "execution_count": 456,
     "metadata": {},
     "output_type": "execute_result"
    }
   ],
   "source": [
    "mask2.loc[sorted(list(set(outliers2.index)))]"
   ]
  },
  {
   "cell_type": "code",
   "execution_count": 457,
   "metadata": {},
   "outputs": [
    {
     "data": {
      "text/html": [
       "<div>\n",
       "<style scoped>\n",
       "    .dataframe tbody tr th:only-of-type {\n",
       "        vertical-align: middle;\n",
       "    }\n",
       "\n",
       "    .dataframe tbody tr th {\n",
       "        vertical-align: top;\n",
       "    }\n",
       "\n",
       "    .dataframe thead th {\n",
       "        text-align: right;\n",
       "    }\n",
       "</style>\n",
       "<table border=\"1\" class=\"dataframe\">\n",
       "  <thead>\n",
       "    <tr style=\"text-align: right;\">\n",
       "      <th></th>\n",
       "      <th>Country Name</th>\n",
       "      <th>Surface</th>\n",
       "      <th>Population</th>\n",
       "      <th>GNI</th>\n",
       "      <th>Gvnt_health_exp</th>\n",
       "      <th>Food Deficit</th>\n",
       "      <th>Life expectancy</th>\n",
       "      <th>Nat_resources_rents</th>\n",
       "    </tr>\n",
       "    <tr>\n",
       "      <th>Country Code</th>\n",
       "      <th></th>\n",
       "      <th></th>\n",
       "      <th></th>\n",
       "      <th></th>\n",
       "      <th></th>\n",
       "      <th></th>\n",
       "      <th></th>\n",
       "      <th></th>\n",
       "    </tr>\n",
       "  </thead>\n",
       "  <tbody>\n",
       "    <tr>\n",
       "      <th>BLZ</th>\n",
       "      <td>Belize</td>\n",
       "      <td>22970.0</td>\n",
       "      <td>321608</td>\n",
       "      <td>1.239593e+09</td>\n",
       "      <td>41.644164</td>\n",
       "      <td>36.0</td>\n",
       "      <td>69.676</td>\n",
       "      <td>4.992062</td>\n",
       "    </tr>\n",
       "    <tr>\n",
       "      <th>BRA</th>\n",
       "      <td>Brazil</td>\n",
       "      <td>8515770.0</td>\n",
       "      <td>196796269</td>\n",
       "      <td>2.144024e+12</td>\n",
       "      <td>8.392290</td>\n",
       "      <td>17.0</td>\n",
       "      <td>73.838</td>\n",
       "      <td>4.452136</td>\n",
       "    </tr>\n",
       "    <tr>\n",
       "      <th>CHN</th>\n",
       "      <td>China</td>\n",
       "      <td>9562911.0</td>\n",
       "      <td>1337705000</td>\n",
       "      <td>6.074549e+12</td>\n",
       "      <td>9.447319</td>\n",
       "      <td>108.0</td>\n",
       "      <td>75.236</td>\n",
       "      <td>6.249178</td>\n",
       "    </tr>\n",
       "    <tr>\n",
       "      <th>COG</th>\n",
       "      <td>Congo, Rep.</td>\n",
       "      <td>342000.0</td>\n",
       "      <td>4386693</td>\n",
       "      <td>9.024207e+09</td>\n",
       "      <td>4.226890</td>\n",
       "      <td>226.0</td>\n",
       "      <td>60.473</td>\n",
       "      <td>49.144419</td>\n",
       "    </tr>\n",
       "    <tr>\n",
       "      <th>HTI</th>\n",
       "      <td>Haiti</td>\n",
       "      <td>27750.0</td>\n",
       "      <td>9999617</td>\n",
       "      <td>6.644822e+09</td>\n",
       "      <td>2.545283</td>\n",
       "      <td>524.0</td>\n",
       "      <td>61.296</td>\n",
       "      <td>1.192176</td>\n",
       "    </tr>\n",
       "    <tr>\n",
       "      <th>IND</th>\n",
       "      <td>India</td>\n",
       "      <td>3287260.0</td>\n",
       "      <td>1230980691</td>\n",
       "      <td>1.638663e+12</td>\n",
       "      <td>3.169405</td>\n",
       "      <td>115.0</td>\n",
       "      <td>66.625</td>\n",
       "      <td>4.671042</td>\n",
       "    </tr>\n",
       "    <tr>\n",
       "      <th>IRQ</th>\n",
       "      <td>Iraq</td>\n",
       "      <td>435240.0</td>\n",
       "      <td>30762701</td>\n",
       "      <td>1.401081e+11</td>\n",
       "      <td>4.814162</td>\n",
       "      <td>209.0</td>\n",
       "      <td>68.465</td>\n",
       "      <td>41.477584</td>\n",
       "    </tr>\n",
       "    <tr>\n",
       "      <th>KWT</th>\n",
       "      <td>Kuwait</td>\n",
       "      <td>17820.0</td>\n",
       "      <td>2998083</td>\n",
       "      <td>1.238811e+11</td>\n",
       "      <td>5.216216</td>\n",
       "      <td>11.0</td>\n",
       "      <td>73.979</td>\n",
       "      <td>48.295617</td>\n",
       "    </tr>\n",
       "    <tr>\n",
       "      <th>MRT</th>\n",
       "      <td>Mauritania</td>\n",
       "      <td>1030700.0</td>\n",
       "      <td>3609543</td>\n",
       "      <td>4.274665e+09</td>\n",
       "      <td>4.222889</td>\n",
       "      <td>54.0</td>\n",
       "      <td>61.997</td>\n",
       "      <td>48.699262</td>\n",
       "    </tr>\n",
       "    <tr>\n",
       "      <th>SAU</th>\n",
       "      <td>Saudi Arabia</td>\n",
       "      <td>2149690.0</td>\n",
       "      <td>27425676</td>\n",
       "      <td>5.352515e+11</td>\n",
       "      <td>6.669300</td>\n",
       "      <td>18.0</td>\n",
       "      <td>73.574</td>\n",
       "      <td>40.934170</td>\n",
       "    </tr>\n",
       "    <tr>\n",
       "      <th>ZMB</th>\n",
       "      <td>Zambia</td>\n",
       "      <td>752610.0</td>\n",
       "      <td>13850033</td>\n",
       "      <td>1.890254e+10</td>\n",
       "      <td>3.313305</td>\n",
       "      <td>455.0</td>\n",
       "      <td>56.588</td>\n",
       "      <td>21.387444</td>\n",
       "    </tr>\n",
       "  </tbody>\n",
       "</table>\n",
       "</div>"
      ],
      "text/plain": [
       "              Country Name    Surface  Population           GNI  \\\n",
       "Country Code                                                      \n",
       "BLZ                 Belize    22970.0      321608  1.239593e+09   \n",
       "BRA                 Brazil  8515770.0   196796269  2.144024e+12   \n",
       "CHN                  China  9562911.0  1337705000  6.074549e+12   \n",
       "COG            Congo, Rep.   342000.0     4386693  9.024207e+09   \n",
       "HTI                  Haiti    27750.0     9999617  6.644822e+09   \n",
       "IND                  India  3287260.0  1230980691  1.638663e+12   \n",
       "IRQ                   Iraq   435240.0    30762701  1.401081e+11   \n",
       "KWT                 Kuwait    17820.0     2998083  1.238811e+11   \n",
       "MRT             Mauritania  1030700.0     3609543  4.274665e+09   \n",
       "SAU           Saudi Arabia  2149690.0    27425676  5.352515e+11   \n",
       "ZMB                 Zambia   752610.0    13850033  1.890254e+10   \n",
       "\n",
       "              Gvnt_health_exp  Food Deficit  Life expectancy  \\\n",
       "Country Code                                                   \n",
       "BLZ                 41.644164          36.0           69.676   \n",
       "BRA                  8.392290          17.0           73.838   \n",
       "CHN                  9.447319         108.0           75.236   \n",
       "COG                  4.226890         226.0           60.473   \n",
       "HTI                  2.545283         524.0           61.296   \n",
       "IND                  3.169405         115.0           66.625   \n",
       "IRQ                  4.814162         209.0           68.465   \n",
       "KWT                  5.216216          11.0           73.979   \n",
       "MRT                  4.222889          54.0           61.997   \n",
       "SAU                  6.669300          18.0           73.574   \n",
       "ZMB                  3.313305         455.0           56.588   \n",
       "\n",
       "              Nat_resources_rents  \n",
       "Country Code                       \n",
       "BLZ                      4.992062  \n",
       "BRA                      4.452136  \n",
       "CHN                      6.249178  \n",
       "COG                     49.144419  \n",
       "HTI                      1.192176  \n",
       "IND                      4.671042  \n",
       "IRQ                     41.477584  \n",
       "KWT                     48.295617  \n",
       "MRT                     48.699262  \n",
       "SAU                     40.934170  \n",
       "ZMB                     21.387444  "
      ]
     },
     "execution_count": 457,
     "metadata": {},
     "output_type": "execute_result"
    }
   ],
   "source": [
    "data.loc[sorted(list(set(outliers2.index)))]"
   ]
  },
  {
   "cell_type": "code",
   "execution_count": 458,
   "metadata": {},
   "outputs": [
    {
     "data": {
      "text/html": [
       "<div>\n",
       "<style scoped>\n",
       "    .dataframe tbody tr th:only-of-type {\n",
       "        vertical-align: middle;\n",
       "    }\n",
       "\n",
       "    .dataframe tbody tr th {\n",
       "        vertical-align: top;\n",
       "    }\n",
       "\n",
       "    .dataframe thead th {\n",
       "        text-align: right;\n",
       "    }\n",
       "</style>\n",
       "<table border=\"1\" class=\"dataframe\">\n",
       "  <thead>\n",
       "    <tr style=\"text-align: right;\">\n",
       "      <th></th>\n",
       "      <th>Surface</th>\n",
       "      <th>Population</th>\n",
       "      <th>GNI</th>\n",
       "      <th>Gvnt_health_exp</th>\n",
       "      <th>Food Deficit</th>\n",
       "      <th>Life expectancy</th>\n",
       "      <th>Nat_resources_rents</th>\n",
       "    </tr>\n",
       "    <tr>\n",
       "      <th>Country Code</th>\n",
       "      <th></th>\n",
       "      <th></th>\n",
       "      <th></th>\n",
       "      <th></th>\n",
       "      <th></th>\n",
       "      <th></th>\n",
       "      <th></th>\n",
       "    </tr>\n",
       "  </thead>\n",
       "  <tbody>\n",
       "    <tr>\n",
       "      <th>IND</th>\n",
       "      <td>3287260.0</td>\n",
       "      <td>1230980691</td>\n",
       "      <td>1.638663e+12</td>\n",
       "      <td>3.169405</td>\n",
       "      <td>115.0</td>\n",
       "      <td>66.625</td>\n",
       "      <td>4.671042</td>\n",
       "    </tr>\n",
       "    <tr>\n",
       "      <th>CHN</th>\n",
       "      <td>9562911.0</td>\n",
       "      <td>1337705000</td>\n",
       "      <td>6.074549e+12</td>\n",
       "      <td>9.447319</td>\n",
       "      <td>108.0</td>\n",
       "      <td>75.236</td>\n",
       "      <td>6.249178</td>\n",
       "    </tr>\n",
       "    <tr>\n",
       "      <th>ZMB</th>\n",
       "      <td>752610.0</td>\n",
       "      <td>13850033</td>\n",
       "      <td>1.890254e+10</td>\n",
       "      <td>3.313305</td>\n",
       "      <td>455.0</td>\n",
       "      <td>56.588</td>\n",
       "      <td>21.387444</td>\n",
       "    </tr>\n",
       "    <tr>\n",
       "      <th>BLZ</th>\n",
       "      <td>22970.0</td>\n",
       "      <td>321608</td>\n",
       "      <td>1.239593e+09</td>\n",
       "      <td>41.644164</td>\n",
       "      <td>36.0</td>\n",
       "      <td>69.676</td>\n",
       "      <td>4.992062</td>\n",
       "    </tr>\n",
       "    <tr>\n",
       "      <th>BRA</th>\n",
       "      <td>8515770.0</td>\n",
       "      <td>196796269</td>\n",
       "      <td>2.144024e+12</td>\n",
       "      <td>8.392290</td>\n",
       "      <td>17.0</td>\n",
       "      <td>73.838</td>\n",
       "      <td>4.452136</td>\n",
       "    </tr>\n",
       "    <tr>\n",
       "      <th>HTI</th>\n",
       "      <td>27750.0</td>\n",
       "      <td>9999617</td>\n",
       "      <td>6.644822e+09</td>\n",
       "      <td>2.545283</td>\n",
       "      <td>524.0</td>\n",
       "      <td>61.296</td>\n",
       "      <td>1.192176</td>\n",
       "    </tr>\n",
       "  </tbody>\n",
       "</table>\n",
       "</div>"
      ],
      "text/plain": [
       "                Surface  Population           GNI  Gvnt_health_exp  \\\n",
       "Country Code                                                         \n",
       "IND           3287260.0  1230980691  1.638663e+12         3.169405   \n",
       "CHN           9562911.0  1337705000  6.074549e+12         9.447319   \n",
       "ZMB            752610.0    13850033  1.890254e+10         3.313305   \n",
       "BLZ             22970.0      321608  1.239593e+09        41.644164   \n",
       "BRA           8515770.0   196796269  2.144024e+12         8.392290   \n",
       "HTI             27750.0     9999617  6.644822e+09         2.545283   \n",
       "\n",
       "              Food Deficit  Life expectancy  Nat_resources_rents  \n",
       "Country Code                                                      \n",
       "IND                  115.0           66.625             4.671042  \n",
       "CHN                  108.0           75.236             6.249178  \n",
       "ZMB                  455.0           56.588            21.387444  \n",
       "BLZ                   36.0           69.676             4.992062  \n",
       "BRA                   17.0           73.838             4.452136  \n",
       "HTI                  524.0           61.296             1.192176  "
      ]
     },
     "execution_count": 458,
     "metadata": {},
     "output_type": "execute_result"
    }
   ],
   "source": [
    "# we keep outliers not related to nat. ressources\n",
    "mask2bis=mask2.iloc[:,:6]\n",
    "outliers2bis = datan[mask2bis.any(axis=1)]\n",
    "outliers2bis"
   ]
  },
  {
   "cell_type": "markdown",
   "metadata": {},
   "source": [
    "We decided to remove both Haïti and Zambia, because they appear as outliers for our Food Deficit indicator, which is already given in kilocalories per person per day. As for the others outliers, we decided to calculate Density instead of keeping Surface and Population, and divided GNI by the population, so that it is expressed as a ratio of the total population."
   ]
  },
  {
   "cell_type": "code",
   "execution_count": 459,
   "metadata": {},
   "outputs": [],
   "source": [
    "datanbis=datan.copy(deep=True)\n",
    "Density=datanbis.iloc[:,1]/datanbis.iloc[:,0]\n",
    "datanbis.iloc[:,2]=datanbis.iloc[:,2]/datanbis.iloc[:,1]\n",
    "datanbis=datanbis.drop(columns=\"Population\")"
   ]
  },
  {
   "cell_type": "code",
   "execution_count": 460,
   "metadata": {},
   "outputs": [
    {
     "data": {
      "text/plain": [
       "111"
      ]
     },
     "execution_count": 460,
     "metadata": {},
     "output_type": "execute_result"
    }
   ],
   "source": [
    "datanbis.iloc[:,0]=Density\n",
    "datanbis=datanbis.rename({\"Surface\":\"Density\"}, axis='columns')\n",
    "len(datanbis)"
   ]
  },
  {
   "cell_type": "code",
   "execution_count": 461,
   "metadata": {},
   "outputs": [
    {
     "data": {
      "text/html": [
       "<div>\n",
       "<style scoped>\n",
       "    .dataframe tbody tr th:only-of-type {\n",
       "        vertical-align: middle;\n",
       "    }\n",
       "\n",
       "    .dataframe tbody tr th {\n",
       "        vertical-align: top;\n",
       "    }\n",
       "\n",
       "    .dataframe thead th {\n",
       "        text-align: right;\n",
       "    }\n",
       "</style>\n",
       "<table border=\"1\" class=\"dataframe\">\n",
       "  <thead>\n",
       "    <tr style=\"text-align: right;\">\n",
       "      <th></th>\n",
       "      <th>Density</th>\n",
       "      <th>GNI</th>\n",
       "      <th>Gvnt_health_exp</th>\n",
       "      <th>Food Deficit</th>\n",
       "      <th>Life expectancy</th>\n",
       "      <th>Nat_resources_rents</th>\n",
       "    </tr>\n",
       "    <tr>\n",
       "      <th>Country Code</th>\n",
       "      <th></th>\n",
       "      <th></th>\n",
       "      <th></th>\n",
       "      <th></th>\n",
       "      <th></th>\n",
       "      <th></th>\n",
       "    </tr>\n",
       "  </thead>\n",
       "  <tbody>\n",
       "    <tr>\n",
       "      <th>AFG</th>\n",
       "      <td>44.118443</td>\n",
       "      <td>555.452845</td>\n",
       "      <td>2.255471</td>\n",
       "      <td>158.0</td>\n",
       "      <td>61.226</td>\n",
       "      <td>0.732845</td>\n",
       "    </tr>\n",
       "    <tr>\n",
       "      <th>BGD</th>\n",
       "      <td>1024.849131</td>\n",
       "      <td>819.045892</td>\n",
       "      <td>4.071213</td>\n",
       "      <td>119.0</td>\n",
       "      <td>70.198</td>\n",
       "      <td>1.309144</td>\n",
       "    </tr>\n",
       "    <tr>\n",
       "      <th>IND</th>\n",
       "      <td>374.470133</td>\n",
       "      <td>1331.185348</td>\n",
       "      <td>3.169405</td>\n",
       "      <td>115.0</td>\n",
       "      <td>66.625</td>\n",
       "      <td>4.671042</td>\n",
       "    </tr>\n",
       "    <tr>\n",
       "      <th>MDV</th>\n",
       "      <td>1215.036667</td>\n",
       "      <td>6246.514208</td>\n",
       "      <td>13.603584</td>\n",
       "      <td>79.0</td>\n",
       "      <td>76.112</td>\n",
       "      <td>0.008966</td>\n",
       "    </tr>\n",
       "    <tr>\n",
       "      <th>NPL</th>\n",
       "      <td>183.606040</td>\n",
       "      <td>596.709892</td>\n",
       "      <td>4.802811</td>\n",
       "      <td>74.0</td>\n",
       "      <td>67.914</td>\n",
       "      <td>1.470750</td>\n",
       "    </tr>\n",
       "  </tbody>\n",
       "</table>\n",
       "</div>"
      ],
      "text/plain": [
       "                  Density          GNI  Gvnt_health_exp  Food Deficit  \\\n",
       "Country Code                                                            \n",
       "AFG             44.118443   555.452845         2.255471         158.0   \n",
       "BGD           1024.849131   819.045892         4.071213         119.0   \n",
       "IND            374.470133  1331.185348         3.169405         115.0   \n",
       "MDV           1215.036667  6246.514208        13.603584          79.0   \n",
       "NPL            183.606040   596.709892         4.802811          74.0   \n",
       "\n",
       "              Life expectancy  Nat_resources_rents  \n",
       "Country Code                                        \n",
       "AFG                    61.226             0.732845  \n",
       "BGD                    70.198             1.309144  \n",
       "IND                    66.625             4.671042  \n",
       "MDV                    76.112             0.008966  \n",
       "NPL                    67.914             1.470750  "
      ]
     },
     "execution_count": 461,
     "metadata": {},
     "output_type": "execute_result"
    }
   ],
   "source": [
    "datanbis.head()"
   ]
  },
  {
   "cell_type": "code",
   "execution_count": 462,
   "metadata": {},
   "outputs": [
    {
     "data": {
      "text/html": [
       "<div>\n",
       "<style scoped>\n",
       "    .dataframe tbody tr th:only-of-type {\n",
       "        vertical-align: middle;\n",
       "    }\n",
       "\n",
       "    .dataframe tbody tr th {\n",
       "        vertical-align: top;\n",
       "    }\n",
       "\n",
       "    .dataframe thead th {\n",
       "        text-align: right;\n",
       "    }\n",
       "</style>\n",
       "<table border=\"1\" class=\"dataframe\">\n",
       "  <thead>\n",
       "    <tr style=\"text-align: right;\">\n",
       "      <th></th>\n",
       "      <th>Density</th>\n",
       "      <th>GNI</th>\n",
       "      <th>Gvnt_health_exp</th>\n",
       "      <th>Food Deficit</th>\n",
       "      <th>Life expectancy</th>\n",
       "      <th>Nat_resources_rents</th>\n",
       "    </tr>\n",
       "    <tr>\n",
       "      <th>Country Code</th>\n",
       "      <th></th>\n",
       "      <th></th>\n",
       "      <th></th>\n",
       "      <th></th>\n",
       "      <th></th>\n",
       "      <th></th>\n",
       "    </tr>\n",
       "  </thead>\n",
       "  <tbody>\n",
       "    <tr>\n",
       "      <th>ARE</th>\n",
       "      <td>98.931627</td>\n",
       "      <td>35037.098572</td>\n",
       "      <td>8.526791</td>\n",
       "      <td>35.0</td>\n",
       "      <td>76.344000</td>\n",
       "      <td>20.580810</td>\n",
       "    </tr>\n",
       "    <tr>\n",
       "      <th>BGD</th>\n",
       "      <td>1024.849131</td>\n",
       "      <td>819.045892</td>\n",
       "      <td>4.071213</td>\n",
       "      <td>119.0</td>\n",
       "      <td>70.198000</td>\n",
       "      <td>1.309144</td>\n",
       "    </tr>\n",
       "    <tr>\n",
       "      <th>BLZ</th>\n",
       "      <td>14.001219</td>\n",
       "      <td>3854.358722</td>\n",
       "      <td>41.644164</td>\n",
       "      <td>36.0</td>\n",
       "      <td>69.676000</td>\n",
       "      <td>4.992062</td>\n",
       "    </tr>\n",
       "    <tr>\n",
       "      <th>BRB</th>\n",
       "      <td>650.160465</td>\n",
       "      <td>15602.767117</td>\n",
       "      <td>9.003511</td>\n",
       "      <td>32.0</td>\n",
       "      <td>74.973000</td>\n",
       "      <td>0.357216</td>\n",
       "    </tr>\n",
       "    <tr>\n",
       "      <th>BRN</th>\n",
       "      <td>67.359099</td>\n",
       "      <td>35009.581649</td>\n",
       "      <td>5.776835</td>\n",
       "      <td>18.0</td>\n",
       "      <td>76.719000</td>\n",
       "      <td>19.628028</td>\n",
       "    </tr>\n",
       "    <tr>\n",
       "      <th>HTI</th>\n",
       "      <td>360.346559</td>\n",
       "      <td>664.507604</td>\n",
       "      <td>2.545283</td>\n",
       "      <td>524.0</td>\n",
       "      <td>61.296000</td>\n",
       "      <td>1.192176</td>\n",
       "    </tr>\n",
       "    <tr>\n",
       "      <th>KWT</th>\n",
       "      <td>168.242593</td>\n",
       "      <td>41320.087183</td>\n",
       "      <td>5.216216</td>\n",
       "      <td>11.0</td>\n",
       "      <td>73.979000</td>\n",
       "      <td>48.295617</td>\n",
       "    </tr>\n",
       "    <tr>\n",
       "      <th>MDV</th>\n",
       "      <td>1215.036667</td>\n",
       "      <td>6246.514208</td>\n",
       "      <td>13.603584</td>\n",
       "      <td>79.0</td>\n",
       "      <td>76.112000</td>\n",
       "      <td>0.008966</td>\n",
       "    </tr>\n",
       "    <tr>\n",
       "      <th>MUS</th>\n",
       "      <td>612.941176</td>\n",
       "      <td>8095.978692</td>\n",
       "      <td>8.087430</td>\n",
       "      <td>37.0</td>\n",
       "      <td>72.967317</td>\n",
       "      <td>0.006834</td>\n",
       "    </tr>\n",
       "    <tr>\n",
       "      <th>ZMB</th>\n",
       "      <td>18.402669</td>\n",
       "      <td>1364.801384</td>\n",
       "      <td>3.313305</td>\n",
       "      <td>455.0</td>\n",
       "      <td>56.588000</td>\n",
       "      <td>21.387444</td>\n",
       "    </tr>\n",
       "  </tbody>\n",
       "</table>\n",
       "</div>"
      ],
      "text/plain": [
       "                  Density           GNI  Gvnt_health_exp  Food Deficit  \\\n",
       "Country Code                                                             \n",
       "ARE             98.931627  35037.098572         8.526791          35.0   \n",
       "BGD           1024.849131    819.045892         4.071213         119.0   \n",
       "BLZ             14.001219   3854.358722        41.644164          36.0   \n",
       "BRB            650.160465  15602.767117         9.003511          32.0   \n",
       "BRN             67.359099  35009.581649         5.776835          18.0   \n",
       "HTI            360.346559    664.507604         2.545283         524.0   \n",
       "KWT            168.242593  41320.087183         5.216216          11.0   \n",
       "MDV           1215.036667   6246.514208        13.603584          79.0   \n",
       "MUS            612.941176   8095.978692         8.087430          37.0   \n",
       "ZMB             18.402669   1364.801384         3.313305         455.0   \n",
       "\n",
       "              Life expectancy  Nat_resources_rents  \n",
       "Country Code                                        \n",
       "ARE                 76.344000            20.580810  \n",
       "BGD                 70.198000             1.309144  \n",
       "BLZ                 69.676000             4.992062  \n",
       "BRB                 74.973000             0.357216  \n",
       "BRN                 76.719000            19.628028  \n",
       "HTI                 61.296000             1.192176  \n",
       "KWT                 73.979000            48.295617  \n",
       "MDV                 76.112000             0.008966  \n",
       "MUS                 72.967317             0.006834  \n",
       "ZMB                 56.588000            21.387444  "
      ]
     },
     "execution_count": 462,
     "metadata": {},
     "output_type": "execute_result"
    }
   ],
   "source": [
    "threshold = 2.5\n",
    "mask3 = np.abs(datanbis) > datanbis.mean()+threshold*datanbis.std()\n",
    "outliers3 = datanbis[mask3.any(axis=1)]\n",
    "# we keep outliers not related to nat. ressources\n",
    "mask3=mask3.iloc[:,:5]\n",
    "outliers3 = datanbis[mask3.any(axis=1)]\n",
    "outliers3.loc[sorted(list(set(outliers3.index)))]"
   ]
  },
  {
   "cell_type": "code",
   "execution_count": 463,
   "metadata": {},
   "outputs": [
    {
     "data": {
      "text/html": [
       "<div>\n",
       "<style scoped>\n",
       "    .dataframe tbody tr th:only-of-type {\n",
       "        vertical-align: middle;\n",
       "    }\n",
       "\n",
       "    .dataframe tbody tr th {\n",
       "        vertical-align: top;\n",
       "    }\n",
       "\n",
       "    .dataframe thead th {\n",
       "        text-align: right;\n",
       "    }\n",
       "</style>\n",
       "<table border=\"1\" class=\"dataframe\">\n",
       "  <thead>\n",
       "    <tr style=\"text-align: right;\">\n",
       "      <th></th>\n",
       "      <th>Density</th>\n",
       "      <th>GNI</th>\n",
       "      <th>Gvnt_health_exp</th>\n",
       "      <th>Food Deficit</th>\n",
       "      <th>Life expectancy</th>\n",
       "    </tr>\n",
       "    <tr>\n",
       "      <th>Country Code</th>\n",
       "      <th></th>\n",
       "      <th></th>\n",
       "      <th></th>\n",
       "      <th></th>\n",
       "      <th></th>\n",
       "    </tr>\n",
       "  </thead>\n",
       "  <tbody>\n",
       "    <tr>\n",
       "      <th>ARE</th>\n",
       "      <td>False</td>\n",
       "      <td>True</td>\n",
       "      <td>False</td>\n",
       "      <td>False</td>\n",
       "      <td>False</td>\n",
       "    </tr>\n",
       "    <tr>\n",
       "      <th>BGD</th>\n",
       "      <td>True</td>\n",
       "      <td>False</td>\n",
       "      <td>False</td>\n",
       "      <td>False</td>\n",
       "      <td>False</td>\n",
       "    </tr>\n",
       "    <tr>\n",
       "      <th>BLZ</th>\n",
       "      <td>False</td>\n",
       "      <td>False</td>\n",
       "      <td>True</td>\n",
       "      <td>False</td>\n",
       "      <td>False</td>\n",
       "    </tr>\n",
       "    <tr>\n",
       "      <th>BRB</th>\n",
       "      <td>True</td>\n",
       "      <td>False</td>\n",
       "      <td>False</td>\n",
       "      <td>False</td>\n",
       "      <td>False</td>\n",
       "    </tr>\n",
       "    <tr>\n",
       "      <th>BRN</th>\n",
       "      <td>False</td>\n",
       "      <td>True</td>\n",
       "      <td>False</td>\n",
       "      <td>False</td>\n",
       "      <td>False</td>\n",
       "    </tr>\n",
       "    <tr>\n",
       "      <th>HTI</th>\n",
       "      <td>False</td>\n",
       "      <td>False</td>\n",
       "      <td>False</td>\n",
       "      <td>True</td>\n",
       "      <td>False</td>\n",
       "    </tr>\n",
       "    <tr>\n",
       "      <th>KWT</th>\n",
       "      <td>False</td>\n",
       "      <td>True</td>\n",
       "      <td>False</td>\n",
       "      <td>False</td>\n",
       "      <td>False</td>\n",
       "    </tr>\n",
       "    <tr>\n",
       "      <th>MDV</th>\n",
       "      <td>True</td>\n",
       "      <td>False</td>\n",
       "      <td>False</td>\n",
       "      <td>False</td>\n",
       "      <td>False</td>\n",
       "    </tr>\n",
       "    <tr>\n",
       "      <th>MUS</th>\n",
       "      <td>True</td>\n",
       "      <td>False</td>\n",
       "      <td>False</td>\n",
       "      <td>False</td>\n",
       "      <td>False</td>\n",
       "    </tr>\n",
       "    <tr>\n",
       "      <th>ZMB</th>\n",
       "      <td>False</td>\n",
       "      <td>False</td>\n",
       "      <td>False</td>\n",
       "      <td>True</td>\n",
       "      <td>False</td>\n",
       "    </tr>\n",
       "  </tbody>\n",
       "</table>\n",
       "</div>"
      ],
      "text/plain": [
       "              Density    GNI  Gvnt_health_exp  Food Deficit  Life expectancy\n",
       "Country Code                                                                \n",
       "ARE             False   True            False         False            False\n",
       "BGD              True  False            False         False            False\n",
       "BLZ             False  False             True         False            False\n",
       "BRB              True  False            False         False            False\n",
       "BRN             False   True            False         False            False\n",
       "HTI             False  False            False          True            False\n",
       "KWT             False   True            False         False            False\n",
       "MDV              True  False            False         False            False\n",
       "MUS              True  False            False         False            False\n",
       "ZMB             False  False            False          True            False"
      ]
     },
     "execution_count": 463,
     "metadata": {},
     "output_type": "execute_result"
    }
   ],
   "source": [
    "mask3.loc[sorted(list(set(outliers3.index)))]"
   ]
  },
  {
   "cell_type": "markdown",
   "metadata": {},
   "source": [
    "As there are even more outliers with transformed data, we keep the former dataframe and remove the outliers previously identified"
   ]
  },
  {
   "cell_type": "code",
   "execution_count": 464,
   "metadata": {
    "scrolled": true
   },
   "outputs": [
    {
     "data": {
      "text/html": [
       "<div>\n",
       "<style scoped>\n",
       "    .dataframe tbody tr th:only-of-type {\n",
       "        vertical-align: middle;\n",
       "    }\n",
       "\n",
       "    .dataframe tbody tr th {\n",
       "        vertical-align: top;\n",
       "    }\n",
       "\n",
       "    .dataframe thead th {\n",
       "        text-align: right;\n",
       "    }\n",
       "</style>\n",
       "<table border=\"1\" class=\"dataframe\">\n",
       "  <thead>\n",
       "    <tr style=\"text-align: right;\">\n",
       "      <th></th>\n",
       "      <th>Surface</th>\n",
       "      <th>Population</th>\n",
       "      <th>GNI</th>\n",
       "      <th>Gvnt_health_exp</th>\n",
       "      <th>Food Deficit</th>\n",
       "      <th>Life expectancy</th>\n",
       "      <th>Nat_resources_rents</th>\n",
       "    </tr>\n",
       "    <tr>\n",
       "      <th>Country Code</th>\n",
       "      <th></th>\n",
       "      <th></th>\n",
       "      <th></th>\n",
       "      <th></th>\n",
       "      <th></th>\n",
       "      <th></th>\n",
       "      <th></th>\n",
       "    </tr>\n",
       "  </thead>\n",
       "  <tbody>\n",
       "    <tr>\n",
       "      <th>IND</th>\n",
       "      <td>3287260.0</td>\n",
       "      <td>1230980691</td>\n",
       "      <td>1.638663e+12</td>\n",
       "      <td>3.169405</td>\n",
       "      <td>115.0</td>\n",
       "      <td>66.625</td>\n",
       "      <td>4.671042</td>\n",
       "    </tr>\n",
       "    <tr>\n",
       "      <th>CHN</th>\n",
       "      <td>9562911.0</td>\n",
       "      <td>1337705000</td>\n",
       "      <td>6.074549e+12</td>\n",
       "      <td>9.447319</td>\n",
       "      <td>108.0</td>\n",
       "      <td>75.236</td>\n",
       "      <td>6.249178</td>\n",
       "    </tr>\n",
       "    <tr>\n",
       "      <th>ZMB</th>\n",
       "      <td>752610.0</td>\n",
       "      <td>13850033</td>\n",
       "      <td>1.890254e+10</td>\n",
       "      <td>3.313305</td>\n",
       "      <td>455.0</td>\n",
       "      <td>56.588</td>\n",
       "      <td>21.387444</td>\n",
       "    </tr>\n",
       "    <tr>\n",
       "      <th>BLZ</th>\n",
       "      <td>22970.0</td>\n",
       "      <td>321608</td>\n",
       "      <td>1.239593e+09</td>\n",
       "      <td>41.644164</td>\n",
       "      <td>36.0</td>\n",
       "      <td>69.676</td>\n",
       "      <td>4.992062</td>\n",
       "    </tr>\n",
       "    <tr>\n",
       "      <th>BRA</th>\n",
       "      <td>8515770.0</td>\n",
       "      <td>196796269</td>\n",
       "      <td>2.144024e+12</td>\n",
       "      <td>8.392290</td>\n",
       "      <td>17.0</td>\n",
       "      <td>73.838</td>\n",
       "      <td>4.452136</td>\n",
       "    </tr>\n",
       "    <tr>\n",
       "      <th>HTI</th>\n",
       "      <td>27750.0</td>\n",
       "      <td>9999617</td>\n",
       "      <td>6.644822e+09</td>\n",
       "      <td>2.545283</td>\n",
       "      <td>524.0</td>\n",
       "      <td>61.296</td>\n",
       "      <td>1.192176</td>\n",
       "    </tr>\n",
       "  </tbody>\n",
       "</table>\n",
       "</div>"
      ],
      "text/plain": [
       "                Surface  Population           GNI  Gvnt_health_exp  \\\n",
       "Country Code                                                         \n",
       "IND           3287260.0  1230980691  1.638663e+12         3.169405   \n",
       "CHN           9562911.0  1337705000  6.074549e+12         9.447319   \n",
       "ZMB            752610.0    13850033  1.890254e+10         3.313305   \n",
       "BLZ             22970.0      321608  1.239593e+09        41.644164   \n",
       "BRA           8515770.0   196796269  2.144024e+12         8.392290   \n",
       "HTI             27750.0     9999617  6.644822e+09         2.545283   \n",
       "\n",
       "              Food Deficit  Life expectancy  Nat_resources_rents  \n",
       "Country Code                                                      \n",
       "IND                  115.0           66.625             4.671042  \n",
       "CHN                  108.0           75.236             6.249178  \n",
       "ZMB                  455.0           56.588            21.387444  \n",
       "BLZ                   36.0           69.676             4.992062  \n",
       "BRA                   17.0           73.838             4.452136  \n",
       "HTI                  524.0           61.296             1.192176  "
      ]
     },
     "execution_count": 464,
     "metadata": {},
     "output_type": "execute_result"
    }
   ],
   "source": [
    "outliers2bis"
   ]
  },
  {
   "cell_type": "code",
   "execution_count": 465,
   "metadata": {},
   "outputs": [
    {
     "data": {
      "text/html": [
       "<div>\n",
       "<style scoped>\n",
       "    .dataframe tbody tr th:only-of-type {\n",
       "        vertical-align: middle;\n",
       "    }\n",
       "\n",
       "    .dataframe tbody tr th {\n",
       "        vertical-align: top;\n",
       "    }\n",
       "\n",
       "    .dataframe thead th {\n",
       "        text-align: right;\n",
       "    }\n",
       "</style>\n",
       "<table border=\"1\" class=\"dataframe\">\n",
       "  <thead>\n",
       "    <tr style=\"text-align: right;\">\n",
       "      <th></th>\n",
       "      <th>Surface</th>\n",
       "      <th>Population</th>\n",
       "      <th>GNI</th>\n",
       "      <th>Gvnt_health_exp</th>\n",
       "      <th>Food Deficit</th>\n",
       "      <th>Life expectancy</th>\n",
       "      <th>Nat_resources_rents</th>\n",
       "    </tr>\n",
       "    <tr>\n",
       "      <th>Country Code</th>\n",
       "      <th></th>\n",
       "      <th></th>\n",
       "      <th></th>\n",
       "      <th></th>\n",
       "      <th></th>\n",
       "      <th></th>\n",
       "      <th></th>\n",
       "    </tr>\n",
       "  </thead>\n",
       "  <tbody>\n",
       "    <tr>\n",
       "      <th>AFG</th>\n",
       "      <td>652860.0</td>\n",
       "      <td>28803167</td>\n",
       "      <td>1.599880e+10</td>\n",
       "      <td>2.255471</td>\n",
       "      <td>158.0</td>\n",
       "      <td>61.226</td>\n",
       "      <td>0.732845</td>\n",
       "    </tr>\n",
       "    <tr>\n",
       "      <th>AGO</th>\n",
       "      <td>1246700.0</td>\n",
       "      <td>23369131</td>\n",
       "      <td>7.443928e+10</td>\n",
       "      <td>4.261282</td>\n",
       "      <td>149.0</td>\n",
       "      <td>58.192</td>\n",
       "      <td>39.037754</td>\n",
       "    </tr>\n",
       "    <tr>\n",
       "      <th>ARE</th>\n",
       "      <td>83600.0</td>\n",
       "      <td>8270684</td>\n",
       "      <td>2.897808e+11</td>\n",
       "      <td>8.526791</td>\n",
       "      <td>35.0</td>\n",
       "      <td>76.344</td>\n",
       "      <td>20.580810</td>\n",
       "    </tr>\n",
       "    <tr>\n",
       "      <th>ARG</th>\n",
       "      <td>2780400.0</td>\n",
       "      <td>41223889</td>\n",
       "      <td>4.091479e+11</td>\n",
       "      <td>11.692604</td>\n",
       "      <td>10.0</td>\n",
       "      <td>75.595</td>\n",
       "      <td>3.137998</td>\n",
       "    </tr>\n",
       "    <tr>\n",
       "      <th>ARM</th>\n",
       "      <td>29740.0</td>\n",
       "      <td>2877311</td>\n",
       "      <td>9.718566e+09</td>\n",
       "      <td>6.443148</td>\n",
       "      <td>43.0</td>\n",
       "      <td>73.331</td>\n",
       "      <td>2.992090</td>\n",
       "    </tr>\n",
       "  </tbody>\n",
       "</table>\n",
       "</div>"
      ],
      "text/plain": [
       "                Surface  Population           GNI  Gvnt_health_exp  \\\n",
       "Country Code                                                         \n",
       "AFG            652860.0    28803167  1.599880e+10         2.255471   \n",
       "AGO           1246700.0    23369131  7.443928e+10         4.261282   \n",
       "ARE             83600.0     8270684  2.897808e+11         8.526791   \n",
       "ARG           2780400.0    41223889  4.091479e+11        11.692604   \n",
       "ARM             29740.0     2877311  9.718566e+09         6.443148   \n",
       "\n",
       "              Food Deficit  Life expectancy  Nat_resources_rents  \n",
       "Country Code                                                      \n",
       "AFG                  158.0           61.226             0.732845  \n",
       "AGO                  149.0           58.192            39.037754  \n",
       "ARE                   35.0           76.344            20.580810  \n",
       "ARG                   10.0           75.595             3.137998  \n",
       "ARM                   43.0           73.331             2.992090  "
      ]
     },
     "execution_count": 465,
     "metadata": {},
     "output_type": "execute_result"
    }
   ],
   "source": [
    "datatri = datan.loc[sorted(list(set(datan.index).difference(set(outliers2bis.index))))]\n",
    "datatri.head()"
   ]
  },
  {
   "cell_type": "code",
   "execution_count": 466,
   "metadata": {},
   "outputs": [
    {
     "data": {
      "text/plain": [
       "105"
      ]
     },
     "execution_count": 466,
     "metadata": {},
     "output_type": "execute_result"
    }
   ],
   "source": [
    "len(datatri)"
   ]
  },
  {
   "cell_type": "markdown",
   "metadata": {},
   "source": [
    "# Correlation"
   ]
  },
  {
   "cell_type": "markdown",
   "metadata": {},
   "source": [
    "## dfautrestri"
   ]
  },
  {
   "cell_type": "code",
   "execution_count": 467,
   "metadata": {},
   "outputs": [
    {
     "data": {
      "text/plain": [
       "<matplotlib.axes._subplots.AxesSubplot at 0x7f659b71b990>"
      ]
     },
     "execution_count": 467,
     "metadata": {},
     "output_type": "execute_result"
    },
    {
     "data": {
      "image/png": "[encoded data removed]",
      "text/plain": [
       "<matplotlib.figure.Figure at 0x7f659b77f750>"
      ]
     },
     "metadata": {},
     "output_type": "display_data"
    }
   ],
   "source": [
    "sns.heatmap(dfautrestri.corr(),annot=True)"
   ]
  },
  {
   "cell_type": "markdown",
   "metadata": {},
   "source": [
    "## datatri"
   ]
  },
  {
   "cell_type": "code",
   "execution_count": 468,
   "metadata": {},
   "outputs": [
    {
     "data": {
      "text/plain": [
       "<matplotlib.axes._subplots.AxesSubplot at 0x7f659b5e9390>"
      ]
     },
     "execution_count": 468,
     "metadata": {},
     "output_type": "execute_result"
    },
    {
     "data": {
      "image/png": "[encoded data removed]",
      "text/plain": [
       "<matplotlib.figure.Figure at 0x7f659b5f5390>"
      ]
     },
     "metadata": {},
     "output_type": "display_data"
    }
   ],
   "source": [
    "sns.heatmap(datatri.corr(),annot=True)"
   ]
  },
  {
   "cell_type": "markdown",
   "metadata": {},
   "source": [
    "# Normalize data "
   ]
  },
  {
   "cell_type": "markdown",
   "metadata": {},
   "source": [
    "## dfautrestri"
   ]
  },
  {
   "cell_type": "code",
   "execution_count": 469,
   "metadata": {},
   "outputs": [],
   "source": [
    "Z_dfautrestri = (dfautrestri - dfautrestri.mean())/dfautrestri.std()"
   ]
  },
  {
   "cell_type": "code",
   "execution_count": 470,
   "metadata": {},
   "outputs": [
    {
     "ename": "KeyError",
     "evalue": "'Country Code'",
     "output_type": "error",
     "traceback": [
      "\u001b[0;31m---------------------------------------------------------------------------\u001b[0m",
      "\u001b[0;31mKeyError\u001b[0m                                  Traceback (most recent call last)",
      "\u001b[0;32m<ipython-input-470-6ce2cc942d13>\u001b[0m in \u001b[0;36m<module>\u001b[0;34m()\u001b[0m\n\u001b[1;32m      1\u001b[0m \u001b[0;31m# Represent the data using the parallel coordinates method\u001b[0m\u001b[0;34m\u001b[0m\u001b[0;34m\u001b[0m\u001b[0m\n\u001b[1;32m      2\u001b[0m \u001b[0;32mfrom\u001b[0m \u001b[0mpandas\u001b[0m\u001b[0;34m.\u001b[0m\u001b[0mplotting\u001b[0m \u001b[0;32mimport\u001b[0m \u001b[0mparallel_coordinates\u001b[0m\u001b[0;34m\u001b[0m\u001b[0m\n\u001b[0;32m----> 3\u001b[0;31m \u001b[0mparallel_coordinates\u001b[0m\u001b[0;34m(\u001b[0m\u001b[0mdfautresn\u001b[0m\u001b[0;34m,\u001b[0m\u001b[0;34m'Country Code'\u001b[0m\u001b[0;34m,\u001b[0m \u001b[0malpha\u001b[0m\u001b[0;34m=\u001b[0m\u001b[0;36m0.2\u001b[0m\u001b[0;34m)\u001b[0m\u001b[0;34m\u001b[0m\u001b[0m\n\u001b[0m\u001b[1;32m      4\u001b[0m \u001b[0mplt\u001b[0m\u001b[0;34m.\u001b[0m\u001b[0mshow\u001b[0m\u001b[0;34m(\u001b[0m\u001b[0;34m)\u001b[0m\u001b[0;34m\u001b[0m\u001b[0m\n",
      "\u001b[0;32m/usr/lib64/python2.7/site-packages/pandas/util/_decorators.pyc\u001b[0m in \u001b[0;36mwrapper\u001b[0;34m(*args, **kwargs)\u001b[0m\n\u001b[1;32m    116\u001b[0m                 \u001b[0;32melse\u001b[0m\u001b[0;34m:\u001b[0m\u001b[0;34m\u001b[0m\u001b[0m\n\u001b[1;32m    117\u001b[0m                     \u001b[0mkwargs\u001b[0m\u001b[0;34m[\u001b[0m\u001b[0mnew_arg_name\u001b[0m\u001b[0;34m]\u001b[0m \u001b[0;34m=\u001b[0m \u001b[0mnew_arg_value\u001b[0m\u001b[0;34m\u001b[0m\u001b[0m\n\u001b[0;32m--> 118\u001b[0;31m             \u001b[0;32mreturn\u001b[0m \u001b[0mfunc\u001b[0m\u001b[0;34m(\u001b[0m\u001b[0;34m*\u001b[0m\u001b[0margs\u001b[0m\u001b[0;34m,\u001b[0m \u001b[0;34m**\u001b[0m\u001b[0mkwargs\u001b[0m\u001b[0;34m)\u001b[0m\u001b[0;34m\u001b[0m\u001b[0m\n\u001b[0m\u001b[1;32m    119\u001b[0m         \u001b[0;32mreturn\u001b[0m \u001b[0mwrapper\u001b[0m\u001b[0;34m\u001b[0m\u001b[0m\n\u001b[1;32m    120\u001b[0m     \u001b[0;32mreturn\u001b[0m \u001b[0m_deprecate_kwarg\u001b[0m\u001b[0;34m\u001b[0m\u001b[0m\n",
      "\u001b[0;32m/usr/lib64/python2.7/site-packages/pandas/util/_decorators.pyc\u001b[0m in \u001b[0;36mwrapper\u001b[0;34m(*args, **kwargs)\u001b[0m\n\u001b[1;32m    116\u001b[0m                 \u001b[0;32melse\u001b[0m\u001b[0;34m:\u001b[0m\u001b[0;34m\u001b[0m\u001b[0m\n\u001b[1;32m    117\u001b[0m                     \u001b[0mkwargs\u001b[0m\u001b[0;34m[\u001b[0m\u001b[0mnew_arg_name\u001b[0m\u001b[0;34m]\u001b[0m \u001b[0;34m=\u001b[0m \u001b[0mnew_arg_value\u001b[0m\u001b[0;34m\u001b[0m\u001b[0m\n\u001b[0;32m--> 118\u001b[0;31m             \u001b[0;32mreturn\u001b[0m \u001b[0mfunc\u001b[0m\u001b[0;34m(\u001b[0m\u001b[0;34m*\u001b[0m\u001b[0margs\u001b[0m\u001b[0;34m,\u001b[0m \u001b[0;34m**\u001b[0m\u001b[0mkwargs\u001b[0m\u001b[0;34m)\u001b[0m\u001b[0;34m\u001b[0m\u001b[0m\n\u001b[0m\u001b[1;32m    119\u001b[0m         \u001b[0;32mreturn\u001b[0m \u001b[0mwrapper\u001b[0m\u001b[0;34m\u001b[0m\u001b[0m\n\u001b[1;32m    120\u001b[0m     \u001b[0;32mreturn\u001b[0m \u001b[0m_deprecate_kwarg\u001b[0m\u001b[0;34m\u001b[0m\u001b[0m\n",
      "\u001b[0;32m/usr/lib64/python2.7/site-packages/pandas/plotting/_misc.pyc\u001b[0m in \u001b[0;36mparallel_coordinates\u001b[0;34m(frame, class_column, cols, ax, color, use_columns, xticks, colormap, axvlines, axvlines_kwds, sort_labels, **kwds)\u001b[0m\n\u001b[1;32m    441\u001b[0m \u001b[0;34m\u001b[0m\u001b[0m\n\u001b[1;32m    442\u001b[0m     \u001b[0mn\u001b[0m \u001b[0;34m=\u001b[0m \u001b[0mlen\u001b[0m\u001b[0;34m(\u001b[0m\u001b[0mframe\u001b[0m\u001b[0;34m)\u001b[0m\u001b[0;34m\u001b[0m\u001b[0m\n\u001b[0;32m--> 443\u001b[0;31m     \u001b[0mclasses\u001b[0m \u001b[0;34m=\u001b[0m \u001b[0mframe\u001b[0m\u001b[0;34m[\u001b[0m\u001b[0mclass_column\u001b[0m\u001b[0;34m]\u001b[0m\u001b[0;34m.\u001b[0m\u001b[0mdrop_duplicates\u001b[0m\u001b[0;34m(\u001b[0m\u001b[0;34m)\u001b[0m\u001b[0;34m\u001b[0m\u001b[0m\n\u001b[0m\u001b[1;32m    444\u001b[0m     \u001b[0mclass_col\u001b[0m \u001b[0;34m=\u001b[0m \u001b[0mframe\u001b[0m\u001b[0;34m[\u001b[0m\u001b[0mclass_column\u001b[0m\u001b[0;34m]\u001b[0m\u001b[0;34m\u001b[0m\u001b[0m\n\u001b[1;32m    445\u001b[0m \u001b[0;34m\u001b[0m\u001b[0m\n",
      "\u001b[0;32m/usr/lib64/python2.7/site-packages/pandas/core/frame.pyc\u001b[0m in \u001b[0;36m__getitem__\u001b[0;34m(self, key)\u001b[0m\n\u001b[1;32m   2137\u001b[0m             \u001b[0;32mreturn\u001b[0m \u001b[0mself\u001b[0m\u001b[0;34m.\u001b[0m\u001b[0m_getitem_multilevel\u001b[0m\u001b[0;34m(\u001b[0m\u001b[0mkey\u001b[0m\u001b[0;34m)\u001b[0m\u001b[0;34m\u001b[0m\u001b[0m\n\u001b[1;32m   2138\u001b[0m         \u001b[0;32melse\u001b[0m\u001b[0;34m:\u001b[0m\u001b[0;34m\u001b[0m\u001b[0m\n\u001b[0;32m-> 2139\u001b[0;31m             \u001b[0;32mreturn\u001b[0m \u001b[0mself\u001b[0m\u001b[0;34m.\u001b[0m\u001b[0m_getitem_column\u001b[0m\u001b[0;34m(\u001b[0m\u001b[0mkey\u001b[0m\u001b[0;34m)\u001b[0m\u001b[0;34m\u001b[0m\u001b[0m\n\u001b[0m\u001b[1;32m   2140\u001b[0m \u001b[0;34m\u001b[0m\u001b[0m\n\u001b[1;32m   2141\u001b[0m     \u001b[0;32mdef\u001b[0m \u001b[0m_getitem_column\u001b[0m\u001b[0;34m(\u001b[0m\u001b[0mself\u001b[0m\u001b[0;34m,\u001b[0m \u001b[0mkey\u001b[0m\u001b[0;34m)\u001b[0m\u001b[0;34m:\u001b[0m\u001b[0;34m\u001b[0m\u001b[0m\n",
      "\u001b[0;32m/usr/lib64/python2.7/site-packages/pandas/core/frame.pyc\u001b[0m in \u001b[0;36m_getitem_column\u001b[0;34m(self, key)\u001b[0m\n\u001b[1;32m   2144\u001b[0m         \u001b[0;31m# get column\u001b[0m\u001b[0;34m\u001b[0m\u001b[0;34m\u001b[0m\u001b[0m\n\u001b[1;32m   2145\u001b[0m         \u001b[0;32mif\u001b[0m \u001b[0mself\u001b[0m\u001b[0;34m.\u001b[0m\u001b[0mcolumns\u001b[0m\u001b[0;34m.\u001b[0m\u001b[0mis_unique\u001b[0m\u001b[0;34m:\u001b[0m\u001b[0;34m\u001b[0m\u001b[0m\n\u001b[0;32m-> 2146\u001b[0;31m             \u001b[0;32mreturn\u001b[0m \u001b[0mself\u001b[0m\u001b[0;34m.\u001b[0m\u001b[0m_get_item_cache\u001b[0m\u001b[0;34m(\u001b[0m\u001b[0mkey\u001b[0m\u001b[0;34m)\u001b[0m\u001b[0;34m\u001b[0m\u001b[0m\n\u001b[0m\u001b[1;32m   2147\u001b[0m \u001b[0;34m\u001b[0m\u001b[0m\n\u001b[1;32m   2148\u001b[0m         \u001b[0;31m# duplicate columns & possible reduce dimensionality\u001b[0m\u001b[0;34m\u001b[0m\u001b[0;34m\u001b[0m\u001b[0m\n",
      "\u001b[0;32m/usr/lib64/python2.7/site-packages/pandas/core/generic.pyc\u001b[0m in \u001b[0;36m_get_item_cache\u001b[0;34m(self, item)\u001b[0m\n\u001b[1;32m   1840\u001b[0m         \u001b[0mres\u001b[0m \u001b[0;34m=\u001b[0m \u001b[0mcache\u001b[0m\u001b[0;34m.\u001b[0m\u001b[0mget\u001b[0m\u001b[0;34m(\u001b[0m\u001b[0mitem\u001b[0m\u001b[0;34m)\u001b[0m\u001b[0;34m\u001b[0m\u001b[0m\n\u001b[1;32m   1841\u001b[0m         \u001b[0;32mif\u001b[0m \u001b[0mres\u001b[0m \u001b[0;32mis\u001b[0m \u001b[0mNone\u001b[0m\u001b[0;34m:\u001b[0m\u001b[0;34m\u001b[0m\u001b[0m\n\u001b[0;32m-> 1842\u001b[0;31m             \u001b[0mvalues\u001b[0m \u001b[0;34m=\u001b[0m \u001b[0mself\u001b[0m\u001b[0;34m.\u001b[0m\u001b[0m_data\u001b[0m\u001b[0;34m.\u001b[0m\u001b[0mget\u001b[0m\u001b[0;34m(\u001b[0m\u001b[0mitem\u001b[0m\u001b[0;34m)\u001b[0m\u001b[0;34m\u001b[0m\u001b[0m\n\u001b[0m\u001b[1;32m   1843\u001b[0m             \u001b[0mres\u001b[0m \u001b[0;34m=\u001b[0m \u001b[0mself\u001b[0m\u001b[0;34m.\u001b[0m\u001b[0m_box_item_values\u001b[0m\u001b[0;34m(\u001b[0m\u001b[0mitem\u001b[0m\u001b[0;34m,\u001b[0m \u001b[0mvalues\u001b[0m\u001b[0;34m)\u001b[0m\u001b[0;34m\u001b[0m\u001b[0m\n\u001b[1;32m   1844\u001b[0m             \u001b[0mcache\u001b[0m\u001b[0;34m[\u001b[0m\u001b[0mitem\u001b[0m\u001b[0;34m]\u001b[0m \u001b[0;34m=\u001b[0m \u001b[0mres\u001b[0m\u001b[0;34m\u001b[0m\u001b[0m\n",
      "\u001b[0;32m/usr/lib64/python2.7/site-packages/pandas/core/internals.pyc\u001b[0m in \u001b[0;36mget\u001b[0;34m(self, item, fastpath)\u001b[0m\n\u001b[1;32m   3841\u001b[0m \u001b[0;34m\u001b[0m\u001b[0m\n\u001b[1;32m   3842\u001b[0m             \u001b[0;32mif\u001b[0m \u001b[0;32mnot\u001b[0m \u001b[0misna\u001b[0m\u001b[0;34m(\u001b[0m\u001b[0mitem\u001b[0m\u001b[0;34m)\u001b[0m\u001b[0;34m:\u001b[0m\u001b[0;34m\u001b[0m\u001b[0m\n\u001b[0;32m-> 3843\u001b[0;31m                 \u001b[0mloc\u001b[0m \u001b[0;34m=\u001b[0m \u001b[0mself\u001b[0m\u001b[0;34m.\u001b[0m\u001b[0mitems\u001b[0m\u001b[0;34m.\u001b[0m\u001b[0mget_loc\u001b[0m\u001b[0;34m(\u001b[0m\u001b[0mitem\u001b[0m\u001b[0;34m)\u001b[0m\u001b[0;34m\u001b[0m\u001b[0m\n\u001b[0m\u001b[1;32m   3844\u001b[0m             \u001b[0;32melse\u001b[0m\u001b[0;34m:\u001b[0m\u001b[0;34m\u001b[0m\u001b[0m\n\u001b[1;32m   3845\u001b[0m                 \u001b[0mindexer\u001b[0m \u001b[0;34m=\u001b[0m \u001b[0mnp\u001b[0m\u001b[0;34m.\u001b[0m\u001b[0marange\u001b[0m\u001b[0;34m(\u001b[0m\u001b[0mlen\u001b[0m\u001b[0;34m(\u001b[0m\u001b[0mself\u001b[0m\u001b[0;34m.\u001b[0m\u001b[0mitems\u001b[0m\u001b[0;34m)\u001b[0m\u001b[0;34m)\u001b[0m\u001b[0;34m[\u001b[0m\u001b[0misna\u001b[0m\u001b[0;34m(\u001b[0m\u001b[0mself\u001b[0m\u001b[0;34m.\u001b[0m\u001b[0mitems\u001b[0m\u001b[0;34m)\u001b[0m\u001b[0;34m]\u001b[0m\u001b[0;34m\u001b[0m\u001b[0m\n",
      "\u001b[0;32m/usr/lib64/python2.7/site-packages/pandas/core/indexes/base.pyc\u001b[0m in \u001b[0;36mget_loc\u001b[0;34m(self, key, method, tolerance)\u001b[0m\n\u001b[1;32m   2525\u001b[0m                 \u001b[0;32mreturn\u001b[0m \u001b[0mself\u001b[0m\u001b[0;34m.\u001b[0m\u001b[0m_engine\u001b[0m\u001b[0;34m.\u001b[0m\u001b[0mget_loc\u001b[0m\u001b[0;34m(\u001b[0m\u001b[0mkey\u001b[0m\u001b[0;34m)\u001b[0m\u001b[0;34m\u001b[0m\u001b[0m\n\u001b[1;32m   2526\u001b[0m             \u001b[0;32mexcept\u001b[0m \u001b[0mKeyError\u001b[0m\u001b[0;34m:\u001b[0m\u001b[0;34m\u001b[0m\u001b[0m\n\u001b[0;32m-> 2527\u001b[0;31m                 \u001b[0;32mreturn\u001b[0m \u001b[0mself\u001b[0m\u001b[0;34m.\u001b[0m\u001b[0m_engine\u001b[0m\u001b[0;34m.\u001b[0m\u001b[0mget_loc\u001b[0m\u001b[0;34m(\u001b[0m\u001b[0mself\u001b[0m\u001b[0;34m.\u001b[0m\u001b[0m_maybe_cast_indexer\u001b[0m\u001b[0;34m(\u001b[0m\u001b[0mkey\u001b[0m\u001b[0;34m)\u001b[0m\u001b[0;34m)\u001b[0m\u001b[0;34m\u001b[0m\u001b[0m\n\u001b[0m\u001b[1;32m   2528\u001b[0m \u001b[0;34m\u001b[0m\u001b[0m\n\u001b[1;32m   2529\u001b[0m         \u001b[0mindexer\u001b[0m \u001b[0;34m=\u001b[0m \u001b[0mself\u001b[0m\u001b[0;34m.\u001b[0m\u001b[0mget_indexer\u001b[0m\u001b[0;34m(\u001b[0m\u001b[0;34m[\u001b[0m\u001b[0mkey\u001b[0m\u001b[0;34m]\u001b[0m\u001b[0;34m,\u001b[0m \u001b[0mmethod\u001b[0m\u001b[0;34m=\u001b[0m\u001b[0mmethod\u001b[0m\u001b[0;34m,\u001b[0m \u001b[0mtolerance\u001b[0m\u001b[0;34m=\u001b[0m\u001b[0mtolerance\u001b[0m\u001b[0;34m)\u001b[0m\u001b[0;34m\u001b[0m\u001b[0m\n",
      "\u001b[0;32mpandas/_libs/index.pyx\u001b[0m in \u001b[0;36mpandas._libs.index.IndexEngine.get_loc\u001b[0;34m()\u001b[0m\n",
      "\u001b[0;32mpandas/_libs/index.pyx\u001b[0m in \u001b[0;36mpandas._libs.index.IndexEngine.get_loc\u001b[0;34m()\u001b[0m\n",
      "\u001b[0;32mpandas/_libs/hashtable_class_helper.pxi\u001b[0m in \u001b[0;36mpandas._libs.hashtable.PyObjectHashTable.get_item\u001b[0;34m()\u001b[0m\n",
      "\u001b[0;32mpandas/_libs/hashtable_class_helper.pxi\u001b[0m in \u001b[0;36mpandas._libs.hashtable.PyObjectHashTable.get_item\u001b[0;34m()\u001b[0m\n",
      "\u001b[0;31mKeyError\u001b[0m: 'Country Code'"
     ]
    }
   ],
   "source": [
    "# Represent the data using the parallel coordinates method\n",
    "from pandas.plotting import parallel_coordinates\n",
    "parallel_coordinates(dfautresn,'Country Code', alpha=0.2)\n",
    "plt.show()"
   ]
  },
  {
   "cell_type": "markdown",
   "metadata": {},
   "source": [
    "## datatri"
   ]
  },
  {
   "cell_type": "code",
   "execution_count": 36,
   "metadata": {},
   "outputs": [],
   "source": [
    "Z_datatri = (datatri - datatri.mean())/datatri.std()"
   ]
  },
  {
   "cell_type": "markdown",
   "metadata": {},
   "source": [
    "# Clustering (dfautrestri)"
   ]
  },
  {
   "cell_type": "markdown",
   "metadata": {},
   "source": [
    "## Hierarchical clustering"
   ]
  },
  {
   "cell_type": "code",
   "execution_count": 35,
   "metadata": {},
   "outputs": [
    {
     "data": {
      "text/plain": [
       "<seaborn.matrix.ClusterGrid at 0x7f54d5a37ed0>"
      ]
     },
     "execution_count": 35,
     "metadata": {},
     "output_type": "execute_result"
    },
    {
     "data": {
      "image/png": "[encoded data removed]",
      "text/plain": [
       "<matplotlib.figure.Figure at 0x7f54d59cb050>"
      ]
     },
     "metadata": {},
     "output_type": "display_data"
    }
   ],
   "source": [
    "sns.clustermap(Z_dfautrestri.T,method='complete')"
   ]
  },
  {
   "cell_type": "markdown",
   "metadata": {},
   "source": [
    "## Kmeans"
   ]
  },
  {
   "cell_type": "code",
   "execution_count": 38,
   "metadata": {},
   "outputs": [],
   "source": [
    "## test du nombre de cluster:\n",
    "SSE = [] #stockage des SSE pour chaque nombre de cluster\n",
    "silh = [] #stockage des coeff silhouettes pour chaque nombre de cluster\n",
    "for i in range(2,10):\n",
    "    kmeans = KMeans(i)\n",
    "    kmeans = kmeans.fit(Z_dfautrestri)\n",
    "    Z_dfautrestri[\"cluster\"] = kmeans.predict(Z_dfautrestri)\n",
    "    SSE.append(kmeans.inertia_)\n",
    "    silh.append(metrics.silhouette_score(Z_dfautrestri, Z_dfautrestri[\"cluster\"], metric='euclidean', sample_size=None))"
   ]
  },
  {
   "cell_type": "code",
   "execution_count": 86,
   "metadata": {},
   "outputs": [
    {
     "data": {
      "text/plain": [
       "<matplotlib.text.Text at 0x7f549bb4e990>"
      ]
     },
     "execution_count": 86,
     "metadata": {},
     "output_type": "execute_result"
    },
    {
     "data": {
      "image/png": "[encoded data removed]",
      "text/plain": [
       "<matplotlib.figure.Figure at 0x7f549ba57cd0>"
      ]
     },
     "metadata": {},
     "output_type": "display_data"
    }
   ],
   "source": [
    "## graphe de la SSE:\n",
    "plt.plot(range(2,10),SSE)\n",
    "plt.plot([4,4],[100,700])\n",
    "plt.xlabel(\"$k$\",fontsize=20)\n",
    "plt.ylabel(\"SSE\",fontsize=14)"
   ]
  },
  {
   "cell_type": "code",
   "execution_count": 85,
   "metadata": {},
   "outputs": [
    {
     "data": {
      "text/plain": [
       "<matplotlib.text.Text at 0x7f549bbe5b10>"
      ]
     },
     "execution_count": 85,
     "metadata": {},
     "output_type": "execute_result"
    },
    {
     "data": {
      "image/png": "[encoded data removed]",
      "text/plain": [
       "<matplotlib.figure.Figure at 0x7f549bc3e390>"
      ]
     },
     "metadata": {},
     "output_type": "display_data"
    }
   ],
   "source": [
    "## coeff silhouette:\n",
    "plt.plot(range(2,10),silh)\n",
    "plt.plot([4,4],[0.15,0.5])\n",
    "plt.xlabel(\"$k$\",fontsize=20)\n",
    "plt.ylabel(\"coef silhouette\",fontsize=14)"
   ]
  },
  {
   "cell_type": "code",
   "execution_count": 54,
   "metadata": {},
   "outputs": [],
   "source": [
    "from sklearn.cluster import KMeans\n",
    "kmeans = KMeans(4)\n",
    "kmeans = kmeans.fit(Z_dfautrestri)\n",
    "Z_dfautrestri[\"cluster\"] = kmeans.predict(Z_dfautrestri)"
   ]
  },
  {
   "cell_type": "code",
   "execution_count": 55,
   "metadata": {},
   "outputs": [
    {
     "data": {
      "text/plain": [
       "0.3632687160936854"
      ]
     },
     "execution_count": 55,
     "metadata": {},
     "output_type": "execute_result"
    }
   ],
   "source": [
    "metrics.silhouette_score(Z_dfautrestri, Z_dfautrestri[\"cluster\"], metric='euclidean', sample_size=None)"
   ]
  },
  {
   "cell_type": "code",
   "execution_count": 56,
   "metadata": {},
   "outputs": [
    {
     "name": "stdout",
     "output_type": "stream",
     "text": [
      "sse = 255.77693423181725\n"
     ]
    }
   ],
   "source": [
    "sse = kmeans.inertia_\n",
    "print \"sse =\", sse"
   ]
  },
  {
   "cell_type": "code",
   "execution_count": 57,
   "metadata": {},
   "outputs": [
    {
     "data": {
      "text/plain": [
       "<seaborn.axisgrid.PairGrid at 0x7f54a1a27310>"
      ]
     },
     "execution_count": 57,
     "metadata": {},
     "output_type": "execute_result"
    },
    {
     "data": {
      "image/png": "[encoded data removed]",
      "text/plain": [
       "<matplotlib.figure.Figure at 0x7f54a1a27390>"
      ]
     },
     "metadata": {},
     "output_type": "display_data"
    }
   ],
   "source": [
    "sns.pairplot(Z_dfautrestri,vars=[\"Gvnt_health_exp\",\"Life Expectancy\",\"Food Deficit\"],hue=\"cluster\")"
   ]
  },
  {
   "cell_type": "code",
   "execution_count": 58,
   "metadata": {},
   "outputs": [
    {
     "data": {
      "text/plain": [
       "<seaborn.axisgrid.PairGrid at 0x7f54a15b5210>"
      ]
     },
     "execution_count": 58,
     "metadata": {},
     "output_type": "execute_result"
    },
    {
     "data": {
      "image/png": "[encoded data removed]",
      "text/plain": [
       "<matplotlib.figure.Figure at 0x7f54a10c4b10>"
      ]
     },
     "metadata": {},
     "output_type": "display_data"
    }
   ],
   "source": [
    "sns.pairplot(Z_dfautrestri,vars=[\"Gvnt_health_exp\",\"Nat_resources_rents\"],hue=\"cluster\")"
   ]
  },
  {
   "cell_type": "markdown",
   "metadata": {},
   "source": [
    "### Stability"
   ]
  },
  {
   "cell_type": "code",
   "execution_count": 69,
   "metadata": {},
   "outputs": [],
   "source": [
    "silhouette_coef = []\n",
    "sse = []\n",
    "k = 4\n",
    "n_init=1\n",
    "for i in range(100):\n",
    "    km = KMeans(n_clusters=k, n_init=n_init, random_state=i) # create a KMeans object\n",
    "    km.fit(Z_dfautrestri)\n",
    "    labels = km.predict(Z_dfautrestri)\n",
    "    sse.append(km.inertia_)\n",
    "    silhouette_coef.append(silhouette_score(Z_dfautrestri, labels, metric='euclidean', sample_size=None))"
   ]
  },
  {
   "cell_type": "code",
   "execution_count": 70,
   "metadata": {},
   "outputs": [
    {
     "data": {
      "text/plain": [
       "(array([67.,  0., 10.,  1., 12.,  3.,  1.,  0.,  3.,  3.]),\n",
       " array([239.39160583, 245.47072402, 251.54984221, 257.6289604 ,\n",
       "        263.70807859, 269.78719678, 275.86631496, 281.94543315,\n",
       "        288.02455134, 294.10366953, 300.18278772]),\n",
       " <a list of 10 Patch objects>)"
      ]
     },
     "execution_count": 70,
     "metadata": {},
     "output_type": "execute_result"
    },
    {
     "data": {
      "image/png": "[encoded data removed]",
      "text/plain": [
       "<matplotlib.figure.Figure at 0x7f54a05d8410>"
      ]
     },
     "metadata": {},
     "output_type": "display_data"
    }
   ],
   "source": [
    "plt.hist(sse)"
   ]
  },
  {
   "cell_type": "code",
   "execution_count": 71,
   "metadata": {},
   "outputs": [
    {
     "data": {
      "text/plain": [
       "(array([ 3.,  1.,  3.,  5., 47., 29.,  6.,  0.,  0.,  6.]),\n",
       " array([0.3035186 , 0.31739732, 0.33127604, 0.34515477, 0.35903349,\n",
       "        0.37291221, 0.38679093, 0.40066965, 0.41454838, 0.4284271 ,\n",
       "        0.44230582]),\n",
       " <a list of 10 Patch objects>)"
      ]
     },
     "execution_count": 71,
     "metadata": {},
     "output_type": "execute_result"
    },
    {
     "data": {
      "image/png": "[encoded data removed]",
      "text/plain": [
       "<matplotlib.figure.Figure at 0x7f54a0624890>"
      ]
     },
     "metadata": {},
     "output_type": "display_data"
    }
   ],
   "source": [
    "plt.hist(silhouette_coef)"
   ]
  },
  {
   "cell_type": "code",
   "execution_count": 72,
   "metadata": {},
   "outputs": [],
   "source": [
    "def compute_stability(k,df,iterations=100):\n",
    "    silhouette_coef = []\n",
    "    for i in range(iterations):\n",
    "        km = KMeans(n_clusters=k, n_init=1, random_state=i) # create a KMeans object\n",
    "        km.fit(df)\n",
    "        labels = km.predict(df)\n",
    "        silhouette_coef.append(silhouette_score(df, labels, metric='euclidean', sample_size=None))\n",
    "    silhouette_coef = np.asarray(silhouette_coef)\n",
    "    return(silhouette_coef.std())"
   ]
  },
  {
   "cell_type": "code",
   "execution_count": 73,
   "metadata": {},
   "outputs": [],
   "source": [
    "stability = []\n",
    "Ks = range(2,30)\n",
    "for k in Ks:\n",
    "    stability.append(compute_stability(k,Z_dfautrestri))"
   ]
  },
  {
   "cell_type": "code",
   "execution_count": 84,
   "metadata": {},
   "outputs": [
    {
     "data": {
      "text/plain": [
       "<matplotlib.text.Text at 0x7f549be2a050>"
      ]
     },
     "execution_count": 84,
     "metadata": {},
     "output_type": "execute_result"
    },
    {
     "data": {
      "image/png": "[encoded data removed]",
      "text/plain": [
       "<matplotlib.figure.Figure at 0x7f549bb77490>"
      ]
     },
     "metadata": {},
     "output_type": "display_data"
    }
   ],
   "source": [
    "plt.plot(Ks,stability,\"o-\")\n",
    "plt.plot([4,4],[0.02,0.050])\n",
    "plt.xlabel(\"$k$\",fontsize=20)\n",
    "plt.ylabel(\"Instability: std(Silhouette Coef. 100 iterations)\")"
   ]
  },
  {
   "cell_type": "markdown",
   "metadata": {},
   "source": [
    "###### ==> we'll keep 4 clusters"
   ]
  },
  {
   "cell_type": "markdown",
   "metadata": {},
   "source": [
    "## DBSCAN"
   ]
  },
  {
   "cell_type": "code",
   "execution_count": null,
   "metadata": {},
   "outputs": [],
   "source": []
  }
 ],
 "metadata": {
  "kernelspec": {
   "display_name": "Python 2.7",
   "language": "python",
   "name": "python_2.7"
  },
  "language_info": {
   "codemirror_mode": {
    "name": "ipython",
    "version": 2
   },
   "file_extension": ".py",
   "mimetype": "text/x-python",
   "name": "python",
   "nbconvert_exporter": "python",
   "pygments_lexer": "ipython2",
   "version": "2.7.14"
  }
 },
 "nbformat": 4,
 "nbformat_minor": 2
}
