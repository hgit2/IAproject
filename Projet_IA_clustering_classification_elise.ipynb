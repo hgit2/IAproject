{
 "cells": [
  {
   "cell_type": "code",
   "execution_count": 13,
   "metadata": {},
   "outputs": [],
   "source": [
    "%matplotlib inline"
   ]
  },
  {
   "cell_type": "code",
   "execution_count": 14,
   "metadata": {},
   "outputs": [],
   "source": [
    "import pandas as pd\n",
    "import numpy as np\n",
    "import sklearn\n",
    "from sklearn import metrics\n",
    "import matplotlib.pyplot as plt\n",
    "import seaborn as sns\n",
    "from sklearn.cluster import KMeans\n",
    "import matplotlib.pyplot as plt\n",
    "from sklearn.cluster import DBSCAN\n",
    "from sklearn.cluster import AgglomerativeClustering\n",
    "from plot_sklearn_dendrogram import plot_sklearn_dendrogram # local python file to view dendrogram"
   ]
  },
  {
   "cell_type": "markdown",
   "metadata": {},
   "source": [
    "Our data are separated into two datasets : \n",
    " - The first one will be used for clustering. It gathers information on four variables for each country : \n",
    " The government health expenditures (% of GNI), the Food Deficit (kcal/day/pers), the life expectancy (years) and the natural ressources rents (% of GNI)\n",
    " - The second one contains complementary information that will be added to the previous dataset for the classification. Three variables will be added : \n",
    " The surface area (m²), the population and the GNI (US \\$)"
   ]
  },
  {
   "cell_type": "markdown",
   "metadata": {},
   "source": [
    "# Read dataset GNI_Surface"
   ]
  },
  {
   "cell_type": "markdown",
   "metadata": {},
   "source": [
    "### Import dataset"
   ]
  },
  {
   "cell_type": "code",
   "execution_count": 8,
   "metadata": {},
   "outputs": [],
   "source": [
    "dfgni = pd.read_csv(\"GNI_Surface_Data.txt\",sep=\"\\t\",header=0)\n",
    "dfgni = dfgni.dropna()"
   ]
  },
  {
   "cell_type": "code",
   "execution_count": 9,
   "metadata": {},
   "outputs": [
    {
     "data": {
      "text/html": [
       "<div>\n",
       "<style scoped>\n",
       "    .dataframe tbody tr th:only-of-type {\n",
       "        vertical-align: middle;\n",
       "    }\n",
       "\n",
       "    .dataframe tbody tr th {\n",
       "        vertical-align: top;\n",
       "    }\n",
       "\n",
       "    .dataframe thead th {\n",
       "        text-align: right;\n",
       "    }\n",
       "</style>\n",
       "<table border=\"1\" class=\"dataframe\">\n",
       "  <thead>\n",
       "    <tr style=\"text-align: right;\">\n",
       "      <th></th>\n",
       "      <th>Time</th>\n",
       "      <th>Time Code</th>\n",
       "      <th>Country Name</th>\n",
       "      <th>Country Code</th>\n",
       "      <th>Surface</th>\n",
       "      <th>Population</th>\n",
       "      <th>GNI</th>\n",
       "    </tr>\n",
       "  </thead>\n",
       "  <tbody>\n",
       "    <tr>\n",
       "      <th>0</th>\n",
       "      <td>2010</td>\n",
       "      <td>YR2010</td>\n",
       "      <td>Afghanistan</td>\n",
       "      <td>AFG</td>\n",
       "      <td>652860.0</td>\n",
       "      <td>28803167</td>\n",
       "      <td>1.599880e+10</td>\n",
       "    </tr>\n",
       "    <tr>\n",
       "      <th>1</th>\n",
       "      <td>2010</td>\n",
       "      <td>YR2010</td>\n",
       "      <td>Bangladesh</td>\n",
       "      <td>BGD</td>\n",
       "      <td>148460.0</td>\n",
       "      <td>152149102</td>\n",
       "      <td>1.246171e+11</td>\n",
       "    </tr>\n",
       "    <tr>\n",
       "      <th>2</th>\n",
       "      <td>2010</td>\n",
       "      <td>YR2010</td>\n",
       "      <td>Bhutan</td>\n",
       "      <td>BTN</td>\n",
       "      <td>38394.0</td>\n",
       "      <td>727641</td>\n",
       "      <td>1.497492e+09</td>\n",
       "    </tr>\n",
       "    <tr>\n",
       "      <th>3</th>\n",
       "      <td>2010</td>\n",
       "      <td>YR2010</td>\n",
       "      <td>India</td>\n",
       "      <td>IND</td>\n",
       "      <td>3287260.0</td>\n",
       "      <td>1230980691</td>\n",
       "      <td>1.638663e+12</td>\n",
       "    </tr>\n",
       "    <tr>\n",
       "      <th>4</th>\n",
       "      <td>2010</td>\n",
       "      <td>YR2010</td>\n",
       "      <td>Maldives</td>\n",
       "      <td>MDV</td>\n",
       "      <td>300.0</td>\n",
       "      <td>364511</td>\n",
       "      <td>2.276923e+09</td>\n",
       "    </tr>\n",
       "  </tbody>\n",
       "</table>\n",
       "</div>"
      ],
      "text/plain": [
       "   Time Time Code Country Name Country Code    Surface  Population  \\\n",
       "0  2010    YR2010  Afghanistan          AFG   652860.0    28803167   \n",
       "1  2010    YR2010   Bangladesh          BGD   148460.0   152149102   \n",
       "2  2010    YR2010       Bhutan          BTN    38394.0      727641   \n",
       "3  2010    YR2010        India          IND  3287260.0  1230980691   \n",
       "4  2010    YR2010     Maldives          MDV      300.0      364511   \n",
       "\n",
       "            GNI  \n",
       "0  1.599880e+10  \n",
       "1  1.246171e+11  \n",
       "2  1.497492e+09  \n",
       "3  1.638663e+12  \n",
       "4  2.276923e+09  "
      ]
     },
     "execution_count": 9,
     "metadata": {},
     "output_type": "execute_result"
    }
   ],
   "source": [
    "dfgni.head()"
   ]
  },
  {
   "cell_type": "code",
   "execution_count": 10,
   "metadata": {},
   "outputs": [
    {
     "data": {
      "text/plain": [
       "193"
      ]
     },
     "execution_count": 10,
     "metadata": {},
     "output_type": "execute_result"
    }
   ],
   "source": [
    "len(dfgni)"
   ]
  },
  {
   "cell_type": "markdown",
   "metadata": {},
   "source": [
    "After removing all rows with missing values, we have 193 countries left, which is enough to complete our analysis."
   ]
  },
  {
   "cell_type": "markdown",
   "metadata": {},
   "source": [
    "# Read dataset "
   ]
  },
  {
   "cell_type": "markdown",
   "metadata": {},
   "source": [
    "### Import dataset"
   ]
  },
  {
   "cell_type": "code",
   "execution_count": 18,
   "metadata": {},
   "outputs": [],
   "source": [
    "dfautres = pd.read_csv(\"autres_Data.txt\",sep=\"\\t\",header=0)\n",
    "dfautres = dfautres.dropna()"
   ]
  },
  {
   "cell_type": "code",
   "execution_count": 20,
   "metadata": {},
   "outputs": [
    {
     "data": {
      "text/html": [
       "<div>\n",
       "<style scoped>\n",
       "    .dataframe tbody tr th:only-of-type {\n",
       "        vertical-align: middle;\n",
       "    }\n",
       "\n",
       "    .dataframe tbody tr th {\n",
       "        vertical-align: top;\n",
       "    }\n",
       "\n",
       "    .dataframe thead th {\n",
       "        text-align: right;\n",
       "    }\n",
       "</style>\n",
       "<table border=\"1\" class=\"dataframe\">\n",
       "  <thead>\n",
       "    <tr style=\"text-align: right;\">\n",
       "      <th></th>\n",
       "      <th>Time</th>\n",
       "      <th>Time Code</th>\n",
       "      <th>Country Name</th>\n",
       "      <th>Country Code</th>\n",
       "      <th>Gvnt_health_exp</th>\n",
       "      <th>Food Deficit</th>\n",
       "      <th>Life expectancy</th>\n",
       "      <th>Nat_resources_rents</th>\n",
       "    </tr>\n",
       "  </thead>\n",
       "  <tbody>\n",
       "    <tr>\n",
       "      <th>0</th>\n",
       "      <td>2010</td>\n",
       "      <td>YR2010</td>\n",
       "      <td>Afghanistan</td>\n",
       "      <td>AFG</td>\n",
       "      <td>2.255471</td>\n",
       "      <td>158.0</td>\n",
       "      <td>61.226</td>\n",
       "      <td>0.732845</td>\n",
       "    </tr>\n",
       "    <tr>\n",
       "      <th>1</th>\n",
       "      <td>2010</td>\n",
       "      <td>YR2010</td>\n",
       "      <td>Bangladesh</td>\n",
       "      <td>BGD</td>\n",
       "      <td>4.071213</td>\n",
       "      <td>119.0</td>\n",
       "      <td>70.198</td>\n",
       "      <td>1.309144</td>\n",
       "    </tr>\n",
       "    <tr>\n",
       "      <th>3</th>\n",
       "      <td>2010</td>\n",
       "      <td>YR2010</td>\n",
       "      <td>India</td>\n",
       "      <td>IND</td>\n",
       "      <td>3.169405</td>\n",
       "      <td>115.0</td>\n",
       "      <td>66.625</td>\n",
       "      <td>4.671042</td>\n",
       "    </tr>\n",
       "    <tr>\n",
       "      <th>4</th>\n",
       "      <td>2010</td>\n",
       "      <td>YR2010</td>\n",
       "      <td>Maldives</td>\n",
       "      <td>MDV</td>\n",
       "      <td>13.603584</td>\n",
       "      <td>79.0</td>\n",
       "      <td>76.112</td>\n",
       "      <td>0.008966</td>\n",
       "    </tr>\n",
       "    <tr>\n",
       "      <th>5</th>\n",
       "      <td>2010</td>\n",
       "      <td>YR2010</td>\n",
       "      <td>Nepal</td>\n",
       "      <td>NPL</td>\n",
       "      <td>4.802811</td>\n",
       "      <td>74.0</td>\n",
       "      <td>67.914</td>\n",
       "      <td>1.470750</td>\n",
       "    </tr>\n",
       "  </tbody>\n",
       "</table>\n",
       "</div>"
      ],
      "text/plain": [
       "   Time Time Code Country Name Country Code  Gvnt_health_exp  Food Deficit  \\\n",
       "0  2010    YR2010  Afghanistan          AFG         2.255471         158.0   \n",
       "1  2010    YR2010   Bangladesh          BGD         4.071213         119.0   \n",
       "3  2010    YR2010        India          IND         3.169405         115.0   \n",
       "4  2010    YR2010     Maldives          MDV        13.603584          79.0   \n",
       "5  2010    YR2010        Nepal          NPL         4.802811          74.0   \n",
       "\n",
       "   Life expectancy  Nat_resources_rents  \n",
       "0           61.226             0.732845  \n",
       "1           70.198             1.309144  \n",
       "3           66.625             4.671042  \n",
       "4           76.112             0.008966  \n",
       "5           67.914             1.470750  "
      ]
     },
     "execution_count": 20,
     "metadata": {},
     "output_type": "execute_result"
    }
   ],
   "source": [
    "dfautres.head()"
   ]
  },
  {
   "cell_type": "code",
   "execution_count": 21,
   "metadata": {},
   "outputs": [
    {
     "data": {
      "text/plain": [
       "112"
      ]
     },
     "execution_count": 21,
     "metadata": {},
     "output_type": "execute_result"
    }
   ],
   "source": [
    "len(dfautres)"
   ]
  },
  {
   "cell_type": "markdown",
   "metadata": {},
   "source": [
    "This time there were a few more rows with missing values, but once all removed we still have more than 100 countries. Assuming that we don't remove too much outliers, this number would be enough for our analysis"
   ]
  },
  {
   "cell_type": "markdown",
   "metadata": {},
   "source": [
    "# Merge datasets\n",
    "\n",
    "We now merge the two datasets according to the country code, in order to obtain a full dataset to use for the classification"
   ]
  },
  {
   "cell_type": "code",
   "execution_count": 22,
   "metadata": {},
   "outputs": [],
   "source": [
    "data = pd.merge(dfgni, dfautres, how='inner', on=['Country Name', 'Country Code'])"
   ]
  },
  {
   "cell_type": "code",
   "execution_count": 23,
   "metadata": {},
   "outputs": [],
   "source": [
    "data=data.drop(columns=['Time_x', 'Time Code_x', 'Time_y', 'Time Code_y' ])"
   ]
  },
  {
   "cell_type": "code",
   "execution_count": 24,
   "metadata": {},
   "outputs": [],
   "source": [
    "# set index with country code\n",
    "data = data.set_index('Country Code')"
   ]
  },
  {
   "cell_type": "code",
   "execution_count": 25,
   "metadata": {},
   "outputs": [
    {
     "data": {
      "text/html": [
       "<div>\n",
       "<style scoped>\n",
       "    .dataframe tbody tr th:only-of-type {\n",
       "        vertical-align: middle;\n",
       "    }\n",
       "\n",
       "    .dataframe tbody tr th {\n",
       "        vertical-align: top;\n",
       "    }\n",
       "\n",
       "    .dataframe thead th {\n",
       "        text-align: right;\n",
       "    }\n",
       "</style>\n",
       "<table border=\"1\" class=\"dataframe\">\n",
       "  <thead>\n",
       "    <tr style=\"text-align: right;\">\n",
       "      <th></th>\n",
       "      <th>Country Name</th>\n",
       "      <th>Surface</th>\n",
       "      <th>Population</th>\n",
       "      <th>GNI</th>\n",
       "      <th>Gvnt_health_exp</th>\n",
       "      <th>Food Deficit</th>\n",
       "      <th>Life expectancy</th>\n",
       "      <th>Nat_resources_rents</th>\n",
       "    </tr>\n",
       "    <tr>\n",
       "      <th>Country Code</th>\n",
       "      <th></th>\n",
       "      <th></th>\n",
       "      <th></th>\n",
       "      <th></th>\n",
       "      <th></th>\n",
       "      <th></th>\n",
       "      <th></th>\n",
       "      <th></th>\n",
       "    </tr>\n",
       "  </thead>\n",
       "  <tbody>\n",
       "    <tr>\n",
       "      <th>AFG</th>\n",
       "      <td>Afghanistan</td>\n",
       "      <td>652860.0</td>\n",
       "      <td>28803167</td>\n",
       "      <td>1.599880e+10</td>\n",
       "      <td>2.255471</td>\n",
       "      <td>158.0</td>\n",
       "      <td>61.226</td>\n",
       "      <td>0.732845</td>\n",
       "    </tr>\n",
       "    <tr>\n",
       "      <th>BGD</th>\n",
       "      <td>Bangladesh</td>\n",
       "      <td>148460.0</td>\n",
       "      <td>152149102</td>\n",
       "      <td>1.246171e+11</td>\n",
       "      <td>4.071213</td>\n",
       "      <td>119.0</td>\n",
       "      <td>70.198</td>\n",
       "      <td>1.309144</td>\n",
       "    </tr>\n",
       "    <tr>\n",
       "      <th>IND</th>\n",
       "      <td>India</td>\n",
       "      <td>3287260.0</td>\n",
       "      <td>1230980691</td>\n",
       "      <td>1.638663e+12</td>\n",
       "      <td>3.169405</td>\n",
       "      <td>115.0</td>\n",
       "      <td>66.625</td>\n",
       "      <td>4.671042</td>\n",
       "    </tr>\n",
       "    <tr>\n",
       "      <th>MDV</th>\n",
       "      <td>Maldives</td>\n",
       "      <td>300.0</td>\n",
       "      <td>364511</td>\n",
       "      <td>2.276923e+09</td>\n",
       "      <td>13.603584</td>\n",
       "      <td>79.0</td>\n",
       "      <td>76.112</td>\n",
       "      <td>0.008966</td>\n",
       "    </tr>\n",
       "    <tr>\n",
       "      <th>NPL</th>\n",
       "      <td>Nepal</td>\n",
       "      <td>147180.0</td>\n",
       "      <td>27023137</td>\n",
       "      <td>1.612497e+10</td>\n",
       "      <td>4.802811</td>\n",
       "      <td>74.0</td>\n",
       "      <td>67.914</td>\n",
       "      <td>1.470750</td>\n",
       "    </tr>\n",
       "  </tbody>\n",
       "</table>\n",
       "</div>"
      ],
      "text/plain": [
       "             Country Name    Surface  Population           GNI  \\\n",
       "Country Code                                                     \n",
       "AFG           Afghanistan   652860.0    28803167  1.599880e+10   \n",
       "BGD            Bangladesh   148460.0   152149102  1.246171e+11   \n",
       "IND                 India  3287260.0  1230980691  1.638663e+12   \n",
       "MDV              Maldives      300.0      364511  2.276923e+09   \n",
       "NPL                 Nepal   147180.0    27023137  1.612497e+10   \n",
       "\n",
       "              Gvnt_health_exp  Food Deficit  Life expectancy  \\\n",
       "Country Code                                                   \n",
       "AFG                  2.255471         158.0           61.226   \n",
       "BGD                  4.071213         119.0           70.198   \n",
       "IND                  3.169405         115.0           66.625   \n",
       "MDV                 13.603584          79.0           76.112   \n",
       "NPL                  4.802811          74.0           67.914   \n",
       "\n",
       "              Nat_resources_rents  \n",
       "Country Code                       \n",
       "AFG                      0.732845  \n",
       "BGD                      1.309144  \n",
       "IND                      4.671042  \n",
       "MDV                      0.008966  \n",
       "NPL                      1.470750  "
      ]
     },
     "execution_count": 25,
     "metadata": {},
     "output_type": "execute_result"
    }
   ],
   "source": [
    "data.head()"
   ]
  },
  {
   "cell_type": "code",
   "execution_count": 26,
   "metadata": {},
   "outputs": [
    {
     "data": {
      "text/plain": [
       "111"
      ]
     },
     "execution_count": 26,
     "metadata": {},
     "output_type": "execute_result"
    }
   ],
   "source": [
    "len(data)"
   ]
  },
  {
   "cell_type": "markdown",
   "metadata": {},
   "source": [
    "# Boxplots\n",
    "\n",
    "We will now use a normalisation of our data column by column, so we can visualize and detect outliers"
   ]
  },
  {
   "cell_type": "code",
   "execution_count": 30,
   "metadata": {},
   "outputs": [
    {
     "data": {
      "text/plain": [
       "<matplotlib.axes._subplots.AxesSubplot at 0x7efefb862d90>"
      ]
     },
     "execution_count": 30,
     "metadata": {},
     "output_type": "execute_result"
    },
    {
     "data": {
      "image/png": "[encoded data removed]",
      "text/plain": [
       "<matplotlib.figure.Figure at 0x7efeff1a3cd0>"
      ]
     },
     "metadata": {},
     "output_type": "display_data"
    }
   ],
   "source": [
    "# set index with country code\n",
    "dfautresn = dfautres\n",
    "dfautresn = dfautresn.set_index('Country Code')\n",
    "# boxplot of the clustering data\n",
    "dfautresn = dfautresn.iloc[:,3:]\n",
    "Z_scored_dfautres = (dfautresn-dfautresn.mean())/dfautresn.std()\n",
    "sns.boxplot(Z_scored_dfautres)"
   ]
  },
  {
   "cell_type": "code",
   "execution_count": 32,
   "metadata": {},
   "outputs": [
    {
     "data": {
      "text/plain": [
       "<matplotlib.axes._subplots.AxesSubplot at 0x7efefb7792d0>"
      ]
     },
     "execution_count": 32,
     "metadata": {},
     "output_type": "execute_result"
    },
    {
     "data": {
      "image/png": "[encoded data removed]",
      "text/plain": [
       "<matplotlib.figure.Figure at 0x7efefb5fd6d0>"
      ]
     },
     "metadata": {},
     "output_type": "display_data"
    }
   ],
   "source": [
    "# boxplot with the whole dataset (classification)\n",
    "datan = data.iloc[:,1:]\n",
    "Z_scored_df = (datan-datan.mean())/datan.std()\n",
    "sns.boxplot(Z_scored_df)"
   ]
  },
  {
   "cell_type": "markdown",
   "metadata": {},
   "source": [
    "# Outliers detection\n",
    "\n",
    "As we could previously see, some values seems to be out of range, and might have an influence on our future classification and clusters. We defined a threshold, so that all values above it should be considered as an outlier and removed from the dataset"
   ]
  },
  {
   "cell_type": "markdown",
   "metadata": {},
   "source": [
    "## dfautres"
   ]
  },
  {
   "cell_type": "code",
   "execution_count": 33,
   "metadata": {},
   "outputs": [
    {
     "data": {
      "text/plain": [
       "Gvnt_health_exp          8.378800\n",
       "Food Deficit           112.348214\n",
       "Life expectancy         66.760248\n",
       "Nat_resources_rents     10.867296\n",
       "dtype: float64"
      ]
     },
     "execution_count": 33,
     "metadata": {},
     "output_type": "execute_result"
    }
   ],
   "source": [
    "dfautresn.mean(axis=0)"
   ]
  },
  {
   "cell_type": "code",
   "execution_count": 34,
   "metadata": {},
   "outputs": [],
   "source": [
    "threshold = 2.5\n",
    "mask = np.abs(dfautresn) > dfautresn.mean()+threshold*dfautresn.std()\n",
    "outliers = dfautresn[mask.any(axis=1)]"
   ]
  },
  {
   "cell_type": "code",
   "execution_count": 35,
   "metadata": {},
   "outputs": [
    {
     "data": {
      "text/plain": [
       "Gvnt_health_exp         True\n",
       "Food Deficit            True\n",
       "Life expectancy        False\n",
       "Nat_resources_rents     True\n",
       "dtype: bool"
      ]
     },
     "execution_count": 35,
     "metadata": {},
     "output_type": "execute_result"
    }
   ],
   "source": [
    "mask.any()"
   ]
  },
  {
   "cell_type": "code",
   "execution_count": 36,
   "metadata": {},
   "outputs": [
    {
     "data": {
      "text/html": [
       "<div>\n",
       "<style scoped>\n",
       "    .dataframe tbody tr th:only-of-type {\n",
       "        vertical-align: middle;\n",
       "    }\n",
       "\n",
       "    .dataframe tbody tr th {\n",
       "        vertical-align: top;\n",
       "    }\n",
       "\n",
       "    .dataframe thead th {\n",
       "        text-align: right;\n",
       "    }\n",
       "</style>\n",
       "<table border=\"1\" class=\"dataframe\">\n",
       "  <thead>\n",
       "    <tr style=\"text-align: right;\">\n",
       "      <th></th>\n",
       "      <th>Gvnt_health_exp</th>\n",
       "      <th>Food Deficit</th>\n",
       "      <th>Life expectancy</th>\n",
       "      <th>Nat_resources_rents</th>\n",
       "    </tr>\n",
       "    <tr>\n",
       "      <th>Country Code</th>\n",
       "      <th></th>\n",
       "      <th></th>\n",
       "      <th></th>\n",
       "      <th></th>\n",
       "    </tr>\n",
       "  </thead>\n",
       "  <tbody>\n",
       "    <tr>\n",
       "      <th>BLZ</th>\n",
       "      <td>True</td>\n",
       "      <td>False</td>\n",
       "      <td>False</td>\n",
       "      <td>False</td>\n",
       "    </tr>\n",
       "    <tr>\n",
       "      <th>COG</th>\n",
       "      <td>False</td>\n",
       "      <td>False</td>\n",
       "      <td>False</td>\n",
       "      <td>True</td>\n",
       "    </tr>\n",
       "    <tr>\n",
       "      <th>HTI</th>\n",
       "      <td>False</td>\n",
       "      <td>True</td>\n",
       "      <td>False</td>\n",
       "      <td>False</td>\n",
       "    </tr>\n",
       "    <tr>\n",
       "      <th>IRQ</th>\n",
       "      <td>False</td>\n",
       "      <td>False</td>\n",
       "      <td>False</td>\n",
       "      <td>True</td>\n",
       "    </tr>\n",
       "    <tr>\n",
       "      <th>KWT</th>\n",
       "      <td>False</td>\n",
       "      <td>False</td>\n",
       "      <td>False</td>\n",
       "      <td>True</td>\n",
       "    </tr>\n",
       "    <tr>\n",
       "      <th>MRT</th>\n",
       "      <td>False</td>\n",
       "      <td>False</td>\n",
       "      <td>False</td>\n",
       "      <td>True</td>\n",
       "    </tr>\n",
       "    <tr>\n",
       "      <th>SAU</th>\n",
       "      <td>False</td>\n",
       "      <td>False</td>\n",
       "      <td>False</td>\n",
       "      <td>True</td>\n",
       "    </tr>\n",
       "    <tr>\n",
       "      <th>ZMB</th>\n",
       "      <td>False</td>\n",
       "      <td>True</td>\n",
       "      <td>False</td>\n",
       "      <td>False</td>\n",
       "    </tr>\n",
       "  </tbody>\n",
       "</table>\n",
       "</div>"
      ],
      "text/plain": [
       "              Gvnt_health_exp  Food Deficit  Life expectancy  \\\n",
       "Country Code                                                   \n",
       "BLZ                      True         False            False   \n",
       "COG                     False         False            False   \n",
       "HTI                     False          True            False   \n",
       "IRQ                     False         False            False   \n",
       "KWT                     False         False            False   \n",
       "MRT                     False         False            False   \n",
       "SAU                     False         False            False   \n",
       "ZMB                     False          True            False   \n",
       "\n",
       "              Nat_resources_rents  \n",
       "Country Code                       \n",
       "BLZ                         False  \n",
       "COG                          True  \n",
       "HTI                         False  \n",
       "IRQ                          True  \n",
       "KWT                          True  \n",
       "MRT                          True  \n",
       "SAU                          True  \n",
       "ZMB                         False  "
      ]
     },
     "execution_count": 36,
     "metadata": {},
     "output_type": "execute_result"
    }
   ],
   "source": [
    "mask.loc[sorted(list(set(outliers.index)))]"
   ]
  },
  {
   "cell_type": "markdown",
   "metadata": {},
   "source": [
    "The previous countries are considered as outliers, according to our threshold, but different variables are impacted. Since we would like to keep the oil-producing countries on our analysis, we decided to ignore outliers that are only related to this variable. As to the 3 remaining, we decided to remove them, so our final dataset contains 109 countries."
   ]
  },
  {
   "cell_type": "code",
   "execution_count": 42,
   "metadata": {},
   "outputs": [],
   "source": [
    "maskbis=mask.iloc[:,:3]\n",
    "outliersbis = dfautresn[maskbis.any(axis=1)]"
   ]
  },
  {
   "cell_type": "code",
   "execution_count": 43,
   "metadata": {},
   "outputs": [],
   "source": [
    "dfautrestri = dfautresn.loc[sorted(list(set(dfautresn.index).difference(set(outliersbis.index))))]"
   ]
  },
  {
   "cell_type": "code",
   "execution_count": 44,
   "metadata": {},
   "outputs": [
    {
     "data": {
      "text/plain": [
       "109"
      ]
     },
     "execution_count": 44,
     "metadata": {},
     "output_type": "execute_result"
    }
   ],
   "source": [
    "len(dfautrestri)"
   ]
  },
  {
   "cell_type": "markdown",
   "metadata": {},
   "source": [
    "## data\n",
    "\n",
    "We repete the same procedure on the dataset used for classification"
   ]
  },
  {
   "cell_type": "code",
   "execution_count": 45,
   "metadata": {},
   "outputs": [
    {
     "data": {
      "text/plain": [
       "Surface                6.831314e+05\n",
       "Population             4.859118e+07\n",
       "GNI                    1.777908e+11\n",
       "Gvnt_health_exp        8.391488e+00\n",
       "Food Deficit           1.116667e+02\n",
       "Life expectancy        6.681770e+01\n",
       "Nat_resources_rents    1.095765e+01\n",
       "dtype: float64"
      ]
     },
     "execution_count": 45,
     "metadata": {},
     "output_type": "execute_result"
    }
   ],
   "source": [
    "datan.mean(axis=0)"
   ]
  },
  {
   "cell_type": "code",
   "execution_count": 46,
   "metadata": {},
   "outputs": [],
   "source": [
    "threshold = 2.5\n",
    "mask2 = np.abs(datan) > datan.mean()+threshold*datan.std()\n",
    "outliers2 = datan[mask2.any(axis=1)]"
   ]
  },
  {
   "cell_type": "code",
   "execution_count": 48,
   "metadata": {},
   "outputs": [
    {
     "data": {
      "text/plain": [
       "Surface                 True\n",
       "Population              True\n",
       "GNI                     True\n",
       "Gvnt_health_exp         True\n",
       "Food Deficit            True\n",
       "Life expectancy        False\n",
       "Nat_resources_rents     True\n",
       "dtype: bool"
      ]
     },
     "execution_count": 48,
     "metadata": {},
     "output_type": "execute_result"
    }
   ],
   "source": [
    "mask2.any()"
   ]
  },
  {
   "cell_type": "markdown",
   "metadata": {},
   "source": [
    "As we previously did, we ignore the outliers related to natural ressources rent"
   ]
  },
  {
   "cell_type": "code",
   "execution_count": 50,
   "metadata": {},
   "outputs": [
    {
     "data": {
      "text/html": [
       "<div>\n",
       "<style scoped>\n",
       "    .dataframe tbody tr th:only-of-type {\n",
       "        vertical-align: middle;\n",
       "    }\n",
       "\n",
       "    .dataframe tbody tr th {\n",
       "        vertical-align: top;\n",
       "    }\n",
       "\n",
       "    .dataframe thead th {\n",
       "        text-align: right;\n",
       "    }\n",
       "</style>\n",
       "<table border=\"1\" class=\"dataframe\">\n",
       "  <thead>\n",
       "    <tr style=\"text-align: right;\">\n",
       "      <th></th>\n",
       "      <th>Surface</th>\n",
       "      <th>Population</th>\n",
       "      <th>GNI</th>\n",
       "      <th>Gvnt_health_exp</th>\n",
       "      <th>Food Deficit</th>\n",
       "      <th>Life expectancy</th>\n",
       "      <th>Nat_resources_rents</th>\n",
       "    </tr>\n",
       "    <tr>\n",
       "      <th>Country Code</th>\n",
       "      <th></th>\n",
       "      <th></th>\n",
       "      <th></th>\n",
       "      <th></th>\n",
       "      <th></th>\n",
       "      <th></th>\n",
       "      <th></th>\n",
       "    </tr>\n",
       "  </thead>\n",
       "  <tbody>\n",
       "    <tr>\n",
       "      <th>IND</th>\n",
       "      <td>3287260.0</td>\n",
       "      <td>1230980691</td>\n",
       "      <td>1.638663e+12</td>\n",
       "      <td>3.169405</td>\n",
       "      <td>115.0</td>\n",
       "      <td>66.625</td>\n",
       "      <td>4.671042</td>\n",
       "    </tr>\n",
       "    <tr>\n",
       "      <th>CHN</th>\n",
       "      <td>9562911.0</td>\n",
       "      <td>1337705000</td>\n",
       "      <td>6.074549e+12</td>\n",
       "      <td>9.447319</td>\n",
       "      <td>108.0</td>\n",
       "      <td>75.236</td>\n",
       "      <td>6.249178</td>\n",
       "    </tr>\n",
       "    <tr>\n",
       "      <th>ZMB</th>\n",
       "      <td>752610.0</td>\n",
       "      <td>13850033</td>\n",
       "      <td>1.890254e+10</td>\n",
       "      <td>3.313305</td>\n",
       "      <td>455.0</td>\n",
       "      <td>56.588</td>\n",
       "      <td>21.387444</td>\n",
       "    </tr>\n",
       "    <tr>\n",
       "      <th>BLZ</th>\n",
       "      <td>22970.0</td>\n",
       "      <td>321608</td>\n",
       "      <td>1.239593e+09</td>\n",
       "      <td>41.644164</td>\n",
       "      <td>36.0</td>\n",
       "      <td>69.676</td>\n",
       "      <td>4.992062</td>\n",
       "    </tr>\n",
       "    <tr>\n",
       "      <th>BRA</th>\n",
       "      <td>8515770.0</td>\n",
       "      <td>196796269</td>\n",
       "      <td>2.144024e+12</td>\n",
       "      <td>8.392290</td>\n",
       "      <td>17.0</td>\n",
       "      <td>73.838</td>\n",
       "      <td>4.452136</td>\n",
       "    </tr>\n",
       "    <tr>\n",
       "      <th>HTI</th>\n",
       "      <td>27750.0</td>\n",
       "      <td>9999617</td>\n",
       "      <td>6.644822e+09</td>\n",
       "      <td>2.545283</td>\n",
       "      <td>524.0</td>\n",
       "      <td>61.296</td>\n",
       "      <td>1.192176</td>\n",
       "    </tr>\n",
       "  </tbody>\n",
       "</table>\n",
       "</div>"
      ],
      "text/plain": [
       "                Surface  Population           GNI  Gvnt_health_exp  \\\n",
       "Country Code                                                         \n",
       "IND           3287260.0  1230980691  1.638663e+12         3.169405   \n",
       "CHN           9562911.0  1337705000  6.074549e+12         9.447319   \n",
       "ZMB            752610.0    13850033  1.890254e+10         3.313305   \n",
       "BLZ             22970.0      321608  1.239593e+09        41.644164   \n",
       "BRA           8515770.0   196796269  2.144024e+12         8.392290   \n",
       "HTI             27750.0     9999617  6.644822e+09         2.545283   \n",
       "\n",
       "              Food Deficit  Life expectancy  Nat_resources_rents  \n",
       "Country Code                                                      \n",
       "IND                  115.0           66.625             4.671042  \n",
       "CHN                  108.0           75.236             6.249178  \n",
       "ZMB                  455.0           56.588            21.387444  \n",
       "BLZ                   36.0           69.676             4.992062  \n",
       "BRA                   17.0           73.838             4.452136  \n",
       "HTI                  524.0           61.296             1.192176  "
      ]
     },
     "execution_count": 50,
     "metadata": {},
     "output_type": "execute_result"
    }
   ],
   "source": [
    "mask2bis=mask2.iloc[:,:6]\n",
    "outliers2bis = datan[mask2bis.any(axis=1)]\n",
    "outliers2bis"
   ]
  },
  {
   "cell_type": "markdown",
   "metadata": {},
   "source": [
    "We decided to remove both Haïti and Zambia, because they appear as outliers for our Food Deficit indicator, which is already given in kilocalories per person per day. As for the others outliers, we decided to calculate Density instead of keeping Surface and Population, and divided GNI by the population, so that it is expressed as a ratio of the total population."
   ]
  },
  {
   "cell_type": "code",
   "execution_count": 51,
   "metadata": {},
   "outputs": [],
   "source": [
    "datanbis=datan.copy(deep=True)\n",
    "Density=datanbis.iloc[:,1]/datanbis.iloc[:,0]\n",
    "datanbis.iloc[:,2]=datanbis.iloc[:,2]/datanbis.iloc[:,1]\n",
    "datanbis=datanbis.drop(columns=\"Population\")"
   ]
  },
  {
   "cell_type": "code",
   "execution_count": 52,
   "metadata": {},
   "outputs": [
    {
     "data": {
      "text/plain": [
       "111"
      ]
     },
     "execution_count": 52,
     "metadata": {},
     "output_type": "execute_result"
    }
   ],
   "source": [
    "datanbis.iloc[:,0]=Density\n",
    "datanbis=datanbis.rename({\"Surface\":\"Density\"}, axis='columns')\n",
    "len(datanbis)"
   ]
  },
  {
   "cell_type": "code",
   "execution_count": 57,
   "metadata": {},
   "outputs": [],
   "source": [
    "threshold = 2.5\n",
    "mask3 = np.abs(datanbis) > datanbis.mean()+threshold*datanbis.std()\n",
    "outliers3 = datanbis[mask3.any(axis=1)]\n",
    "# we keep outliers not related to nat. ressources\n",
    "mask3=mask3.iloc[:,:5]\n",
    "outliers3 = datanbis[mask3.any(axis=1)]"
   ]
  },
  {
   "cell_type": "code",
   "execution_count": 58,
   "metadata": {},
   "outputs": [
    {
     "data": {
      "text/html": [
       "<div>\n",
       "<style scoped>\n",
       "    .dataframe tbody tr th:only-of-type {\n",
       "        vertical-align: middle;\n",
       "    }\n",
       "\n",
       "    .dataframe tbody tr th {\n",
       "        vertical-align: top;\n",
       "    }\n",
       "\n",
       "    .dataframe thead th {\n",
       "        text-align: right;\n",
       "    }\n",
       "</style>\n",
       "<table border=\"1\" class=\"dataframe\">\n",
       "  <thead>\n",
       "    <tr style=\"text-align: right;\">\n",
       "      <th></th>\n",
       "      <th>Density</th>\n",
       "      <th>GNI</th>\n",
       "      <th>Gvnt_health_exp</th>\n",
       "      <th>Food Deficit</th>\n",
       "      <th>Life expectancy</th>\n",
       "    </tr>\n",
       "    <tr>\n",
       "      <th>Country Code</th>\n",
       "      <th></th>\n",
       "      <th></th>\n",
       "      <th></th>\n",
       "      <th></th>\n",
       "      <th></th>\n",
       "    </tr>\n",
       "  </thead>\n",
       "  <tbody>\n",
       "    <tr>\n",
       "      <th>ARE</th>\n",
       "      <td>False</td>\n",
       "      <td>True</td>\n",
       "      <td>False</td>\n",
       "      <td>False</td>\n",
       "      <td>False</td>\n",
       "    </tr>\n",
       "    <tr>\n",
       "      <th>BGD</th>\n",
       "      <td>True</td>\n",
       "      <td>False</td>\n",
       "      <td>False</td>\n",
       "      <td>False</td>\n",
       "      <td>False</td>\n",
       "    </tr>\n",
       "    <tr>\n",
       "      <th>BLZ</th>\n",
       "      <td>False</td>\n",
       "      <td>False</td>\n",
       "      <td>True</td>\n",
       "      <td>False</td>\n",
       "      <td>False</td>\n",
       "    </tr>\n",
       "    <tr>\n",
       "      <th>BRB</th>\n",
       "      <td>True</td>\n",
       "      <td>False</td>\n",
       "      <td>False</td>\n",
       "      <td>False</td>\n",
       "      <td>False</td>\n",
       "    </tr>\n",
       "    <tr>\n",
       "      <th>BRN</th>\n",
       "      <td>False</td>\n",
       "      <td>True</td>\n",
       "      <td>False</td>\n",
       "      <td>False</td>\n",
       "      <td>False</td>\n",
       "    </tr>\n",
       "    <tr>\n",
       "      <th>HTI</th>\n",
       "      <td>False</td>\n",
       "      <td>False</td>\n",
       "      <td>False</td>\n",
       "      <td>True</td>\n",
       "      <td>False</td>\n",
       "    </tr>\n",
       "    <tr>\n",
       "      <th>KWT</th>\n",
       "      <td>False</td>\n",
       "      <td>True</td>\n",
       "      <td>False</td>\n",
       "      <td>False</td>\n",
       "      <td>False</td>\n",
       "    </tr>\n",
       "    <tr>\n",
       "      <th>MDV</th>\n",
       "      <td>True</td>\n",
       "      <td>False</td>\n",
       "      <td>False</td>\n",
       "      <td>False</td>\n",
       "      <td>False</td>\n",
       "    </tr>\n",
       "    <tr>\n",
       "      <th>MUS</th>\n",
       "      <td>True</td>\n",
       "      <td>False</td>\n",
       "      <td>False</td>\n",
       "      <td>False</td>\n",
       "      <td>False</td>\n",
       "    </tr>\n",
       "    <tr>\n",
       "      <th>ZMB</th>\n",
       "      <td>False</td>\n",
       "      <td>False</td>\n",
       "      <td>False</td>\n",
       "      <td>True</td>\n",
       "      <td>False</td>\n",
       "    </tr>\n",
       "  </tbody>\n",
       "</table>\n",
       "</div>"
      ],
      "text/plain": [
       "              Density    GNI  Gvnt_health_exp  Food Deficit  Life expectancy\n",
       "Country Code                                                                \n",
       "ARE             False   True            False         False            False\n",
       "BGD              True  False            False         False            False\n",
       "BLZ             False  False             True         False            False\n",
       "BRB              True  False            False         False            False\n",
       "BRN             False   True            False         False            False\n",
       "HTI             False  False            False          True            False\n",
       "KWT             False   True            False         False            False\n",
       "MDV              True  False            False         False            False\n",
       "MUS              True  False            False         False            False\n",
       "ZMB             False  False            False          True            False"
      ]
     },
     "execution_count": 58,
     "metadata": {},
     "output_type": "execute_result"
    }
   ],
   "source": [
    "mask3.loc[sorted(list(set(outliers3.index)))]"
   ]
  },
  {
   "cell_type": "markdown",
   "metadata": {},
   "source": [
    "As there are even more outliers with transformed data, we decided to keep the former dataframe and remove the outliers previously identified"
   ]
  },
  {
   "cell_type": "code",
   "execution_count": 59,
   "metadata": {
    "scrolled": true
   },
   "outputs": [
    {
     "data": {
      "text/html": [
       "<div>\n",
       "<style scoped>\n",
       "    .dataframe tbody tr th:only-of-type {\n",
       "        vertical-align: middle;\n",
       "    }\n",
       "\n",
       "    .dataframe tbody tr th {\n",
       "        vertical-align: top;\n",
       "    }\n",
       "\n",
       "    .dataframe thead th {\n",
       "        text-align: right;\n",
       "    }\n",
       "</style>\n",
       "<table border=\"1\" class=\"dataframe\">\n",
       "  <thead>\n",
       "    <tr style=\"text-align: right;\">\n",
       "      <th></th>\n",
       "      <th>Surface</th>\n",
       "      <th>Population</th>\n",
       "      <th>GNI</th>\n",
       "      <th>Gvnt_health_exp</th>\n",
       "      <th>Food Deficit</th>\n",
       "      <th>Life expectancy</th>\n",
       "      <th>Nat_resources_rents</th>\n",
       "    </tr>\n",
       "    <tr>\n",
       "      <th>Country Code</th>\n",
       "      <th></th>\n",
       "      <th></th>\n",
       "      <th></th>\n",
       "      <th></th>\n",
       "      <th></th>\n",
       "      <th></th>\n",
       "      <th></th>\n",
       "    </tr>\n",
       "  </thead>\n",
       "  <tbody>\n",
       "    <tr>\n",
       "      <th>IND</th>\n",
       "      <td>3287260.0</td>\n",
       "      <td>1230980691</td>\n",
       "      <td>1.638663e+12</td>\n",
       "      <td>3.169405</td>\n",
       "      <td>115.0</td>\n",
       "      <td>66.625</td>\n",
       "      <td>4.671042</td>\n",
       "    </tr>\n",
       "    <tr>\n",
       "      <th>CHN</th>\n",
       "      <td>9562911.0</td>\n",
       "      <td>1337705000</td>\n",
       "      <td>6.074549e+12</td>\n",
       "      <td>9.447319</td>\n",
       "      <td>108.0</td>\n",
       "      <td>75.236</td>\n",
       "      <td>6.249178</td>\n",
       "    </tr>\n",
       "    <tr>\n",
       "      <th>ZMB</th>\n",
       "      <td>752610.0</td>\n",
       "      <td>13850033</td>\n",
       "      <td>1.890254e+10</td>\n",
       "      <td>3.313305</td>\n",
       "      <td>455.0</td>\n",
       "      <td>56.588</td>\n",
       "      <td>21.387444</td>\n",
       "    </tr>\n",
       "    <tr>\n",
       "      <th>BLZ</th>\n",
       "      <td>22970.0</td>\n",
       "      <td>321608</td>\n",
       "      <td>1.239593e+09</td>\n",
       "      <td>41.644164</td>\n",
       "      <td>36.0</td>\n",
       "      <td>69.676</td>\n",
       "      <td>4.992062</td>\n",
       "    </tr>\n",
       "    <tr>\n",
       "      <th>BRA</th>\n",
       "      <td>8515770.0</td>\n",
       "      <td>196796269</td>\n",
       "      <td>2.144024e+12</td>\n",
       "      <td>8.392290</td>\n",
       "      <td>17.0</td>\n",
       "      <td>73.838</td>\n",
       "      <td>4.452136</td>\n",
       "    </tr>\n",
       "    <tr>\n",
       "      <th>HTI</th>\n",
       "      <td>27750.0</td>\n",
       "      <td>9999617</td>\n",
       "      <td>6.644822e+09</td>\n",
       "      <td>2.545283</td>\n",
       "      <td>524.0</td>\n",
       "      <td>61.296</td>\n",
       "      <td>1.192176</td>\n",
       "    </tr>\n",
       "  </tbody>\n",
       "</table>\n",
       "</div>"
      ],
      "text/plain": [
       "                Surface  Population           GNI  Gvnt_health_exp  \\\n",
       "Country Code                                                         \n",
       "IND           3287260.0  1230980691  1.638663e+12         3.169405   \n",
       "CHN           9562911.0  1337705000  6.074549e+12         9.447319   \n",
       "ZMB            752610.0    13850033  1.890254e+10         3.313305   \n",
       "BLZ             22970.0      321608  1.239593e+09        41.644164   \n",
       "BRA           8515770.0   196796269  2.144024e+12         8.392290   \n",
       "HTI             27750.0     9999617  6.644822e+09         2.545283   \n",
       "\n",
       "              Food Deficit  Life expectancy  Nat_resources_rents  \n",
       "Country Code                                                      \n",
       "IND                  115.0           66.625             4.671042  \n",
       "CHN                  108.0           75.236             6.249178  \n",
       "ZMB                  455.0           56.588            21.387444  \n",
       "BLZ                   36.0           69.676             4.992062  \n",
       "BRA                   17.0           73.838             4.452136  \n",
       "HTI                  524.0           61.296             1.192176  "
      ]
     },
     "execution_count": 59,
     "metadata": {},
     "output_type": "execute_result"
    }
   ],
   "source": [
    "outliers2bis"
   ]
  },
  {
   "cell_type": "code",
   "execution_count": 61,
   "metadata": {},
   "outputs": [],
   "source": [
    "datatri = datan.loc[sorted(list(set(datan.index).difference(set(outliers2bis.index))))]"
   ]
  },
  {
   "cell_type": "code",
   "execution_count": 62,
   "metadata": {},
   "outputs": [
    {
     "data": {
      "text/plain": [
       "105"
      ]
     },
     "execution_count": 62,
     "metadata": {},
     "output_type": "execute_result"
    }
   ],
   "source": [
    "len(datatri)"
   ]
  },
  {
   "cell_type": "markdown",
   "metadata": {},
   "source": [
    "# Correlation\n",
    "\n"
   ]
  },
  {
   "cell_type": "markdown",
   "metadata": {},
   "source": [
    "## dfautrestri"
   ]
  },
  {
   "cell_type": "code",
   "execution_count": 63,
   "metadata": {},
   "outputs": [
    {
     "data": {
      "text/plain": [
       "<matplotlib.axes._subplots.AxesSubplot at 0x7efefb5337d0>"
      ]
     },
     "execution_count": 63,
     "metadata": {},
     "output_type": "execute_result"
    },
    {
     "data": {
      "image/png": "[encoded data removed]",
      "text/plain": [
       "<matplotlib.figure.Figure at 0x7efefb5bc1d0>"
      ]
     },
     "metadata": {},
     "output_type": "display_data"
    }
   ],
   "source": [
    "sns.heatmap(dfautrestri.corr(),annot=True)"
   ]
  },
  {
   "cell_type": "markdown",
   "metadata": {},
   "source": [
    "We can see that the Life expectancy values are correlated both to the Food deficit values and to the Government health expenditure values. From that first test, we can say that countries with a lower food deficit and with higher health expenditures tend to have a higher life expectancy."
   ]
  },
  {
   "cell_type": "markdown",
   "metadata": {},
   "source": [
    "## datatri"
   ]
  },
  {
   "cell_type": "code",
   "execution_count": 44,
   "metadata": {},
   "outputs": [
    {
     "data": {
      "text/plain": [
       "<matplotlib.axes._subplots.AxesSubplot at 0x7f0ac01fcf90>"
      ]
     },
     "execution_count": 44,
     "metadata": {},
     "output_type": "execute_result"
    },
    {
     "data": {
      "image/png": "[encoded data removed]",
      "text/plain": [
       "<matplotlib.figure.Figure at 0x7f0ac3132c10>"
      ]
     },
     "metadata": {},
     "output_type": "display_data"
    }
   ],
   "source": [
    "sns.heatmap(datatri.corr(),annot=True)"
   ]
  },
  {
   "cell_type": "markdown",
   "metadata": {},
   "source": [
    "# Normalize data "
   ]
  },
  {
   "cell_type": "markdown",
   "metadata": {},
   "source": [
    "## dfautrestri"
   ]
  },
  {
   "cell_type": "code",
   "execution_count": 68,
   "metadata": {},
   "outputs": [],
   "source": [
    "Z_dfautrestri = (dfautrestri - dfautrestri.mean())/dfautrestri.std()"
   ]
  },
  {
   "cell_type": "markdown",
   "metadata": {},
   "source": [
    "## datatri"
   ]
  },
  {
   "cell_type": "code",
   "execution_count": 69,
   "metadata": {},
   "outputs": [],
   "source": [
    "Z_datatri = (datatri - datatri.mean())/datatri.std()"
   ]
  },
  {
   "cell_type": "markdown",
   "metadata": {},
   "source": [
    "# Clustering (dfautrestri)"
   ]
  },
  {
   "cell_type": "markdown",
   "metadata": {},
   "source": [
    "## Hierarchical clustering"
   ]
  },
  {
   "cell_type": "code",
   "execution_count": 70,
   "metadata": {},
   "outputs": [
    {
     "data": {
      "text/plain": [
       "<seaborn.matrix.ClusterGrid at 0x7efefb43ed50>"
      ]
     },
     "execution_count": 70,
     "metadata": {},
     "output_type": "execute_result"
    },
    {
     "data": {
      "image/png": "[encoded data removed]",
      "text/plain": [
       "<matplotlib.figure.Figure at 0x7efefb43ea10>"
      ]
     },
     "metadata": {},
     "output_type": "display_data"
    }
   ],
   "source": [
    "sns.clustermap(Z_dfautrestri.T,method='complete')"
   ]
  },
  {
   "cell_type": "markdown",
   "metadata": {},
   "source": [
    "## agglomerative clustering"
   ]
  },
  {
   "cell_type": "code",
   "execution_count": 71,
   "metadata": {},
   "outputs": [],
   "source": [
    "agc = AgglomerativeClustering(n_clusters=4, affinity=\"euclidean\", linkage=\"average\")\n",
    "agc.fit(Z_dfautrestri)\n",
    "        \n",
    "dffdv = Z_dfautrestri.values # get the data matrix of values (dataframe feature data values)\n",
    "clusters = agc.labels_ #cluster labels for each point"
   ]
  },
  {
   "cell_type": "code",
   "execution_count": 72,
   "metadata": {},
   "outputs": [],
   "source": [
    "Z_dfautrestri2=Z_dfautrestri.copy()"
   ]
  },
  {
   "cell_type": "code",
   "execution_count": 73,
   "metadata": {},
   "outputs": [],
   "source": [
    "Z_dfautrestri2=Z_dfautrestri2.assign(cluster=clusters)"
   ]
  },
  {
   "cell_type": "code",
   "execution_count": 74,
   "metadata": {},
   "outputs": [
    {
     "data": {
      "image/png": "[encoded data removed]",
      "text/plain": [
       "<matplotlib.figure.Figure at 0x7efefacb1490>"
      ]
     },
     "metadata": {},
     "output_type": "display_data"
    }
   ],
   "source": [
    "# Represent the clustered data using the parallel coordinates method\n",
    "from pandas.plotting import parallel_coordinates\n",
    "parallel_coordinates(Z_dfautrestri2,'cluster', color=('rebeccapurple', 'darkcyan', 'orange', 'darkgreen'))\n",
    "plt.show()"
   ]
  },
  {
   "cell_type": "code",
   "execution_count": 72,
   "metadata": {},
   "outputs": [
    {
     "data": {
      "image/png": "[encoded data removed]",
      "text/plain": [
       "<matplotlib.figure.Figure at 0x7f0aba42fbd0>"
      ]
     },
     "metadata": {},
     "output_type": "display_data"
    }
   ],
   "source": [
    "plt.title('Hierarchical Clustering Dendrogram')\n",
    "plot_sklearn_dendrogram(agc, labels=agc.labels_, truncate_mode='lastp', p=4) #cf plot_sklearn_dendrogram.py\n",
    "plt.show()"
   ]
  },
  {
   "cell_type": "code",
   "execution_count": 75,
   "metadata": {},
   "outputs": [
    {
     "data": {
      "text/plain": [
       "0.17086809792513927"
      ]
     },
     "execution_count": 75,
     "metadata": {},
     "output_type": "execute_result"
    }
   ],
   "source": [
    "# silhouette score\n",
    "metrics.silhouette_score(dffdv, clusters, metric='euclidean', sample_size=None) # sample_size=None for no sampling "
   ]
  },
  {
   "cell_type": "code",
   "execution_count": 76,
   "metadata": {},
   "outputs": [
    {
     "data": {
      "text/plain": [
       "RandomForestClassifier(bootstrap=True, class_weight=None, criterion='gini',\n",
       "            max_depth=None, max_features='auto', max_leaf_nodes=None,\n",
       "            min_impurity_decrease=0.0, min_impurity_split=None,\n",
       "            min_samples_leaf=1, min_samples_split=2,\n",
       "            min_weight_fraction_leaf=0.0, n_estimators=100, n_jobs=1,\n",
       "            oob_score=False, random_state=None, verbose=0,\n",
       "            warm_start=False)"
      ]
     },
     "execution_count": 76,
     "metadata": {},
     "output_type": "execute_result"
    }
   ],
   "source": [
    "# to get feature importance\n",
    "from sklearn.ensemble import RandomForestClassifier\n",
    "rf = RandomForestClassifier(n_estimators=100)\n",
    "rf.fit(Z_dfautrestri, clusters)"
   ]
  },
  {
   "cell_type": "code",
   "execution_count": 79,
   "metadata": {},
   "outputs": [
    {
     "data": {
      "text/plain": [
       "array([0.21537793, 0.14524375, 0.15618623, 0.48319209])"
      ]
     },
     "execution_count": 79,
     "metadata": {},
     "output_type": "execute_result"
    }
   ],
   "source": [
    "# feature importance\n",
    "rf.feature_importances_"
   ]
  },
  {
   "cell_type": "markdown",
   "metadata": {},
   "source": [
    "We can see that \"Natural Ressources rents\" is the most important feature"
   ]
  },
  {
   "cell_type": "markdown",
   "metadata": {},
   "source": [
    "## Kmeans"
   ]
  },
  {
   "cell_type": "code",
   "execution_count": 91,
   "metadata": {},
   "outputs": [],
   "source": [
    "## test du nombre de cluster:\n",
    "SSE = [] #stockage des SSE pour chaque nombre de cluster\n",
    "silh = [] #stockage des coeff silhouettes pour chaque nombre de cluster\n",
    "for i in range(2,10):\n",
    "    kmeans = KMeans(i)\n",
    "    kmeans = kmeans.fit(Z_dfautrestri)\n",
    "    Z_dfautrestri[\"cluster\"] = kmeans.predict(Z_dfautrestri)\n",
    "    SSE.append(kmeans.inertia_)\n",
    "    silh.append(metrics.silhouette_score(Z_dfautrestri, Z_dfautrestri[\"cluster\"], metric='euclidean', sample_size=None))"
   ]
  },
  {
   "cell_type": "code",
   "execution_count": 92,
   "metadata": {},
   "outputs": [
    {
     "data": {
      "text/plain": [
       "<matplotlib.text.Text at 0x7efef87c3b50>"
      ]
     },
     "execution_count": 92,
     "metadata": {},
     "output_type": "execute_result"
    },
    {
     "data": {
      "image/png": "[encoded data removed]",
      "text/plain": [
       "<matplotlib.figure.Figure at 0x7efef3e51950>"
      ]
     },
     "metadata": {},
     "output_type": "display_data"
    }
   ],
   "source": [
    "## graphe de la SSE:\n",
    "plt.plot(range(2,10),SSE)\n",
    "plt.plot([4,4],[100,350])\n",
    "plt.xlabel(\"$k$\",fontsize=20)\n",
    "plt.ylabel(\"SSE\",fontsize=14)"
   ]
  },
  {
   "cell_type": "code",
   "execution_count": 93,
   "metadata": {},
   "outputs": [
    {
     "data": {
      "text/plain": [
       "<matplotlib.text.Text at 0x7efef3d45a10>"
      ]
     },
     "execution_count": 93,
     "metadata": {},
     "output_type": "execute_result"
    },
    {
     "data": {
      "image/png": "[encoded data removed]",
      "text/plain": [
       "<matplotlib.figure.Figure at 0x7efef3d54e90>"
      ]
     },
     "metadata": {},
     "output_type": "display_data"
    }
   ],
   "source": [
    "## coeff silhouette:\n",
    "plt.plot(range(2,10),silh)\n",
    "plt.plot([4,4],[0.15,0.5])\n",
    "plt.xlabel(\"$k$\",fontsize=20)\n",
    "plt.ylabel(\"coef silhouette\",fontsize=14)"
   ]
  },
  {
   "cell_type": "code",
   "execution_count": 94,
   "metadata": {},
   "outputs": [],
   "source": [
    "from sklearn.cluster import KMeans\n",
    "kmeans = KMeans(4)\n",
    "kmeans = kmeans.fit(Z_dfautrestri)\n",
    "Z_dfautrestri[\"cluster\"] = kmeans.predict(Z_dfautrestri)"
   ]
  },
  {
   "cell_type": "code",
   "execution_count": 95,
   "metadata": {},
   "outputs": [
    {
     "data": {
      "text/plain": [
       "0.3664596958072995"
      ]
     },
     "execution_count": 95,
     "metadata": {},
     "output_type": "execute_result"
    }
   ],
   "source": [
    "metrics.silhouette_score(Z_dfautrestri, Z_dfautrestri[\"cluster\"], metric='euclidean', sample_size=None)"
   ]
  },
  {
   "cell_type": "code",
   "execution_count": 96,
   "metadata": {},
   "outputs": [
    {
     "name": "stdout",
     "output_type": "stream",
     "text": [
      "sse = 265.8873880336548\n"
     ]
    }
   ],
   "source": [
    "sse = kmeans.inertia_\n",
    "print \"sse =\", sse"
   ]
  },
  {
   "cell_type": "markdown",
   "metadata": {},
   "source": [
    "### Stability"
   ]
  },
  {
   "cell_type": "code",
   "execution_count": 97,
   "metadata": {},
   "outputs": [],
   "source": [
    "silhouette_coef = []\n",
    "sse = []\n",
    "k = 4\n",
    "n_init=1\n",
    "for i in range(100):\n",
    "    km = KMeans(n_clusters=k, n_init=n_init, random_state=i) # create a KMeans object\n",
    "    km.fit(Z_dfautrestri)\n",
    "    labels = km.predict(Z_dfautrestri)\n",
    "    sse.append(km.inertia_)\n",
    "    silhouette_coef.append(metrics.silhouette_score(Z_dfautrestri, labels, metric='euclidean', sample_size=None))"
   ]
  },
  {
   "cell_type": "code",
   "execution_count": 98,
   "metadata": {},
   "outputs": [
    {
     "data": {
      "text/plain": [
       "(array([62.,  0.,  0., 21.,  0.,  9.,  3.,  2.,  1.,  2.]),\n",
       " array([209.93965476, 214.3971744 , 218.85469404, 223.31221369,\n",
       "        227.76973333, 232.22725298, 236.68477262, 241.14229226,\n",
       "        245.59981191, 250.05733155, 254.51485119]),\n",
       " <a list of 10 Patch objects>)"
      ]
     },
     "execution_count": 98,
     "metadata": {},
     "output_type": "execute_result"
    },
    {
     "data": {
      "image/png": "[encoded data removed]",
      "text/plain": [
       "<matplotlib.figure.Figure at 0x7efef3eabfd0>"
      ]
     },
     "metadata": {},
     "output_type": "display_data"
    }
   ],
   "source": [
    "plt.hist(sse)"
   ]
  },
  {
   "cell_type": "code",
   "execution_count": 99,
   "metadata": {},
   "outputs": [
    {
     "data": {
      "text/plain": [
       "(array([ 1.,  3.,  0.,  1.,  6., 24.,  0.,  0., 28., 37.]),\n",
       " array([0.24945922, 0.26199196, 0.27452471, 0.28705746, 0.2995902 ,\n",
       "        0.31212295, 0.3246557 , 0.33718844, 0.34972119, 0.36225393,\n",
       "        0.37478668]),\n",
       " <a list of 10 Patch objects>)"
      ]
     },
     "execution_count": 99,
     "metadata": {},
     "output_type": "execute_result"
    },
    {
     "data": {
      "image/png": "[encoded data removed]",
      "text/plain": [
       "<matplotlib.figure.Figure at 0x7efef3ebf290>"
      ]
     },
     "metadata": {},
     "output_type": "display_data"
    }
   ],
   "source": [
    "plt.hist(silhouette_coef)"
   ]
  },
  {
   "cell_type": "code",
   "execution_count": 100,
   "metadata": {},
   "outputs": [],
   "source": [
    "def compute_stability(k,df,iterations=100):\n",
    "    silhouette_coef = []\n",
    "    for i in range(iterations):\n",
    "        km = KMeans(n_clusters=k, n_init=1, random_state=i) # create a KMeans object\n",
    "        km.fit(df)\n",
    "        labels = km.predict(df)\n",
    "        silhouette_coef.append(metrics.silhouette_score(df, labels, metric='euclidean', sample_size=None))\n",
    "    silhouette_coef = np.asarray(silhouette_coef)\n",
    "    return(silhouette_coef.std())"
   ]
  },
  {
   "cell_type": "code",
   "execution_count": 101,
   "metadata": {},
   "outputs": [],
   "source": [
    "stability = []\n",
    "Ks = range(2,30)\n",
    "for k in Ks:\n",
    "    stability.append(compute_stability(k,Z_dfautrestri))"
   ]
  },
  {
   "cell_type": "code",
   "execution_count": 102,
   "metadata": {},
   "outputs": [
    {
     "data": {
      "text/plain": [
       "<matplotlib.text.Text at 0x7efef3ad17d0>"
      ]
     },
     "execution_count": 102,
     "metadata": {},
     "output_type": "execute_result"
    },
    {
     "data": {
      "image/png": "[encoded data removed]",
      "text/plain": [
       "<matplotlib.figure.Figure at 0x7efef3b20b10>"
      ]
     },
     "metadata": {},
     "output_type": "display_data"
    }
   ],
   "source": [
    "plt.plot(Ks,stability,\"o-\")\n",
    "plt.plot([4,4],[0.02,0.050])\n",
    "plt.xlabel(\"$k$\",fontsize=20)\n",
    "plt.ylabel(\"Instability: std(Silhouette Coef. 100 iterations)\")"
   ]
  },
  {
   "cell_type": "markdown",
   "metadata": {},
   "source": [
    "###### ==> we'll keep 4 clusters"
   ]
  },
  {
   "cell_type": "markdown",
   "metadata": {},
   "source": [
    "## DBSCAN"
   ]
  },
  {
   "cell_type": "code",
   "execution_count": null,
   "metadata": {},
   "outputs": [],
   "source": []
  }
 ],
 "metadata": {
  "kernelspec": {
   "display_name": "Python 2.7",
   "language": "python",
   "name": "python_2.7"
  },
  "language_info": {
   "codemirror_mode": {
    "name": "ipython",
    "version": 2
   },
   "file_extension": ".py",
   "mimetype": "text/x-python",
   "name": "python",
   "nbconvert_exporter": "python",
   "pygments_lexer": "ipython2",
   "version": "2.7.14"
  }
 },
 "nbformat": 4,
 "nbformat_minor": 2
}
