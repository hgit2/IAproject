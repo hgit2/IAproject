{
 "cells": [
  {
   "cell_type": "code",
   "execution_count": 1,
   "metadata": {},
   "outputs": [],
   "source": [
    "%matplotlib inline"
   ]
  },
  {
   "cell_type": "code",
   "execution_count": 2,
   "metadata": {},
   "outputs": [],
   "source": [
    "import pandas as pd\n",
    "import numpy as np\n",
    "import sklearn\n",
    "from sklearn import metrics\n",
    "import matplotlib.pyplot as plt\n",
    "import seaborn as sns\n",
    "from sklearn.cluster import KMeans\n",
    "import matplotlib.pyplot as plt\n",
    "from sklearn.cluster import DBSCAN\n",
    "from sklearn.cluster import AgglomerativeClustering\n",
    "from plot_sklearn_dendrogram import plot_sklearn_dendrogram # local python file to view dendrogram\n",
    "from math import floor"
   ]
  },
  {
   "cell_type": "markdown",
   "metadata": {},
   "source": [
    "# Read dataset GNI_Surface"
   ]
  },
  {
   "cell_type": "markdown",
   "metadata": {},
   "source": [
    "### Import dataset"
   ]
  },
  {
   "cell_type": "markdown",
   "metadata": {},
   "source": [
    "### Drop rows with missing values"
   ]
  },
  {
   "cell_type": "code",
   "execution_count": 3,
   "metadata": {},
   "outputs": [
    {
     "data": {
      "text/html": [
       "<div>\n",
       "<style scoped>\n",
       "    .dataframe tbody tr th:only-of-type {\n",
       "        vertical-align: middle;\n",
       "    }\n",
       "\n",
       "    .dataframe tbody tr th {\n",
       "        vertical-align: top;\n",
       "    }\n",
       "\n",
       "    .dataframe thead th {\n",
       "        text-align: right;\n",
       "    }\n",
       "</style>\n",
       "<table border=\"1\" class=\"dataframe\">\n",
       "  <thead>\n",
       "    <tr style=\"text-align: right;\">\n",
       "      <th></th>\n",
       "      <th>Time</th>\n",
       "      <th>Time Code</th>\n",
       "      <th>Country Name</th>\n",
       "      <th>Country Code</th>\n",
       "      <th>Surface</th>\n",
       "      <th>Population</th>\n",
       "      <th>GNI</th>\n",
       "    </tr>\n",
       "  </thead>\n",
       "  <tbody>\n",
       "    <tr>\n",
       "      <th>212</th>\n",
       "      <td>2010</td>\n",
       "      <td>YR2010</td>\n",
       "      <td>Venezuela, RB</td>\n",
       "      <td>VEN</td>\n",
       "      <td>912050.0</td>\n",
       "      <td>29028033</td>\n",
       "      <td>3.883414e+11</td>\n",
       "    </tr>\n",
       "    <tr>\n",
       "      <th>213</th>\n",
       "      <td>2010</td>\n",
       "      <td>YR2010</td>\n",
       "      <td>Virgin Islands (U.S.)</td>\n",
       "      <td>VIR</td>\n",
       "      <td>350.0</td>\n",
       "      <td>108358</td>\n",
       "      <td>NaN</td>\n",
       "    </tr>\n",
       "    <tr>\n",
       "      <th>214</th>\n",
       "      <td>2010</td>\n",
       "      <td>YR2010</td>\n",
       "      <td>Bermuda</td>\n",
       "      <td>BMU</td>\n",
       "      <td>50.0</td>\n",
       "      <td>65124</td>\n",
       "      <td>7.163899e+09</td>\n",
       "    </tr>\n",
       "    <tr>\n",
       "      <th>215</th>\n",
       "      <td>2010</td>\n",
       "      <td>YR2010</td>\n",
       "      <td>Canada</td>\n",
       "      <td>CAN</td>\n",
       "      <td>9984670.0</td>\n",
       "      <td>34005274</td>\n",
       "      <td>1.581500e+12</td>\n",
       "    </tr>\n",
       "    <tr>\n",
       "      <th>216</th>\n",
       "      <td>2010</td>\n",
       "      <td>YR2010</td>\n",
       "      <td>United States</td>\n",
       "      <td>USA</td>\n",
       "      <td>9831510.0</td>\n",
       "      <td>309338421</td>\n",
       "      <td>1.512113e+13</td>\n",
       "    </tr>\n",
       "  </tbody>\n",
       "</table>\n",
       "</div>"
      ],
      "text/plain": [
       "     Time Time Code           Country Name Country Code    Surface  \\\n",
       "212  2010    YR2010          Venezuela, RB          VEN   912050.0   \n",
       "213  2010    YR2010  Virgin Islands (U.S.)          VIR      350.0   \n",
       "214  2010    YR2010                Bermuda          BMU       50.0   \n",
       "215  2010    YR2010                 Canada          CAN  9984670.0   \n",
       "216  2010    YR2010          United States          USA  9831510.0   \n",
       "\n",
       "     Population           GNI  \n",
       "212    29028033  3.883414e+11  \n",
       "213      108358           NaN  \n",
       "214       65124  7.163899e+09  \n",
       "215    34005274  1.581500e+12  \n",
       "216   309338421  1.512113e+13  "
      ]
     },
     "execution_count": 3,
     "metadata": {},
     "output_type": "execute_result"
    }
   ],
   "source": [
    "dfgni = pd.read_csv(\"GNI_Surface_Data.txt\",sep=\"\\t\",header=0)\n",
    "dfgni.tail()"
   ]
  },
  {
   "cell_type": "code",
   "execution_count": 4,
   "metadata": {},
   "outputs": [
    {
     "data": {
      "text/html": [
       "<div>\n",
       "<style scoped>\n",
       "    .dataframe tbody tr th:only-of-type {\n",
       "        vertical-align: middle;\n",
       "    }\n",
       "\n",
       "    .dataframe tbody tr th {\n",
       "        vertical-align: top;\n",
       "    }\n",
       "\n",
       "    .dataframe thead th {\n",
       "        text-align: right;\n",
       "    }\n",
       "</style>\n",
       "<table border=\"1\" class=\"dataframe\">\n",
       "  <thead>\n",
       "    <tr style=\"text-align: right;\">\n",
       "      <th></th>\n",
       "      <th>Time</th>\n",
       "      <th>Time Code</th>\n",
       "      <th>Country Name</th>\n",
       "      <th>Country Code</th>\n",
       "      <th>Surface</th>\n",
       "      <th>Population</th>\n",
       "      <th>GNI</th>\n",
       "    </tr>\n",
       "  </thead>\n",
       "  <tbody>\n",
       "    <tr>\n",
       "      <th>0</th>\n",
       "      <td>2010</td>\n",
       "      <td>YR2010</td>\n",
       "      <td>Afghanistan</td>\n",
       "      <td>AFG</td>\n",
       "      <td>652860.0</td>\n",
       "      <td>28803167</td>\n",
       "      <td>1.599880e+10</td>\n",
       "    </tr>\n",
       "    <tr>\n",
       "      <th>1</th>\n",
       "      <td>2010</td>\n",
       "      <td>YR2010</td>\n",
       "      <td>Bangladesh</td>\n",
       "      <td>BGD</td>\n",
       "      <td>148460.0</td>\n",
       "      <td>152149102</td>\n",
       "      <td>1.246171e+11</td>\n",
       "    </tr>\n",
       "    <tr>\n",
       "      <th>2</th>\n",
       "      <td>2010</td>\n",
       "      <td>YR2010</td>\n",
       "      <td>Bhutan</td>\n",
       "      <td>BTN</td>\n",
       "      <td>38394.0</td>\n",
       "      <td>727641</td>\n",
       "      <td>1.497492e+09</td>\n",
       "    </tr>\n",
       "    <tr>\n",
       "      <th>3</th>\n",
       "      <td>2010</td>\n",
       "      <td>YR2010</td>\n",
       "      <td>India</td>\n",
       "      <td>IND</td>\n",
       "      <td>3287260.0</td>\n",
       "      <td>1230980691</td>\n",
       "      <td>1.638663e+12</td>\n",
       "    </tr>\n",
       "    <tr>\n",
       "      <th>4</th>\n",
       "      <td>2010</td>\n",
       "      <td>YR2010</td>\n",
       "      <td>Maldives</td>\n",
       "      <td>MDV</td>\n",
       "      <td>300.0</td>\n",
       "      <td>364511</td>\n",
       "      <td>2.276923e+09</td>\n",
       "    </tr>\n",
       "  </tbody>\n",
       "</table>\n",
       "</div>"
      ],
      "text/plain": [
       "   Time Time Code Country Name Country Code    Surface  Population  \\\n",
       "0  2010    YR2010  Afghanistan          AFG   652860.0    28803167   \n",
       "1  2010    YR2010   Bangladesh          BGD   148460.0   152149102   \n",
       "2  2010    YR2010       Bhutan          BTN    38394.0      727641   \n",
       "3  2010    YR2010        India          IND  3287260.0  1230980691   \n",
       "4  2010    YR2010     Maldives          MDV      300.0      364511   \n",
       "\n",
       "            GNI  \n",
       "0  1.599880e+10  \n",
       "1  1.246171e+11  \n",
       "2  1.497492e+09  \n",
       "3  1.638663e+12  \n",
       "4  2.276923e+09  "
      ]
     },
     "execution_count": 4,
     "metadata": {},
     "output_type": "execute_result"
    }
   ],
   "source": [
    "dfgni = dfgni.dropna()\n",
    "dfgni.head()"
   ]
  },
  {
   "cell_type": "code",
   "execution_count": 5,
   "metadata": {},
   "outputs": [
    {
     "data": {
      "text/plain": [
       "193"
      ]
     },
     "execution_count": 5,
     "metadata": {},
     "output_type": "execute_result"
    }
   ],
   "source": [
    "len(dfgni)"
   ]
  },
  {
   "cell_type": "markdown",
   "metadata": {},
   "source": [
    "# Read dataset "
   ]
  },
  {
   "cell_type": "markdown",
   "metadata": {},
   "source": [
    "### Import dataset"
   ]
  },
  {
   "cell_type": "code",
   "execution_count": 6,
   "metadata": {},
   "outputs": [
    {
     "data": {
      "text/html": [
       "<div>\n",
       "<style scoped>\n",
       "    .dataframe tbody tr th:only-of-type {\n",
       "        vertical-align: middle;\n",
       "    }\n",
       "\n",
       "    .dataframe tbody tr th {\n",
       "        vertical-align: top;\n",
       "    }\n",
       "\n",
       "    .dataframe thead th {\n",
       "        text-align: right;\n",
       "    }\n",
       "</style>\n",
       "<table border=\"1\" class=\"dataframe\">\n",
       "  <thead>\n",
       "    <tr style=\"text-align: right;\">\n",
       "      <th></th>\n",
       "      <th>Time</th>\n",
       "      <th>Time Code</th>\n",
       "      <th>Country Name</th>\n",
       "      <th>Country Code</th>\n",
       "      <th>Gvnt_health_exp</th>\n",
       "      <th>Food Deficit</th>\n",
       "      <th>Life expectancy</th>\n",
       "      <th>Nat_resources_rents</th>\n",
       "    </tr>\n",
       "  </thead>\n",
       "  <tbody>\n",
       "    <tr>\n",
       "      <th>212</th>\n",
       "      <td>2010</td>\n",
       "      <td>YR2010</td>\n",
       "      <td>Venezuela, RB</td>\n",
       "      <td>VEN</td>\n",
       "      <td>5.680916</td>\n",
       "      <td>19.0</td>\n",
       "      <td>73.625000</td>\n",
       "      <td>10.227491</td>\n",
       "    </tr>\n",
       "    <tr>\n",
       "      <th>213</th>\n",
       "      <td>2010</td>\n",
       "      <td>YR2010</td>\n",
       "      <td>Virgin Islands (U.S.)</td>\n",
       "      <td>VIR</td>\n",
       "      <td>NaN</td>\n",
       "      <td>NaN</td>\n",
       "      <td>77.965854</td>\n",
       "      <td>0.000000</td>\n",
       "    </tr>\n",
       "    <tr>\n",
       "      <th>214</th>\n",
       "      <td>2010</td>\n",
       "      <td>YR2010</td>\n",
       "      <td>Bermuda</td>\n",
       "      <td>BMU</td>\n",
       "      <td>NaN</td>\n",
       "      <td>NaN</td>\n",
       "      <td>79.288537</td>\n",
       "      <td>0.000000</td>\n",
       "    </tr>\n",
       "    <tr>\n",
       "      <th>215</th>\n",
       "      <td>2010</td>\n",
       "      <td>YR2010</td>\n",
       "      <td>Canada</td>\n",
       "      <td>CAN</td>\n",
       "      <td>17.842219</td>\n",
       "      <td>NaN</td>\n",
       "      <td>81.197561</td>\n",
       "      <td>2.798067</td>\n",
       "    </tr>\n",
       "    <tr>\n",
       "      <th>216</th>\n",
       "      <td>2010</td>\n",
       "      <td>YR2010</td>\n",
       "      <td>United States</td>\n",
       "      <td>USA</td>\n",
       "      <td>18.531309</td>\n",
       "      <td>NaN</td>\n",
       "      <td>78.541463</td>\n",
       "      <td>0.981585</td>\n",
       "    </tr>\n",
       "  </tbody>\n",
       "</table>\n",
       "</div>"
      ],
      "text/plain": [
       "     Time Time Code           Country Name Country Code  Gvnt_health_exp  \\\n",
       "212  2010    YR2010          Venezuela, RB          VEN         5.680916   \n",
       "213  2010    YR2010  Virgin Islands (U.S.)          VIR              NaN   \n",
       "214  2010    YR2010                Bermuda          BMU              NaN   \n",
       "215  2010    YR2010                 Canada          CAN        17.842219   \n",
       "216  2010    YR2010          United States          USA        18.531309   \n",
       "\n",
       "     Food Deficit  Life expectancy  Nat_resources_rents  \n",
       "212          19.0        73.625000            10.227491  \n",
       "213           NaN        77.965854             0.000000  \n",
       "214           NaN        79.288537             0.000000  \n",
       "215           NaN        81.197561             2.798067  \n",
       "216           NaN        78.541463             0.981585  "
      ]
     },
     "execution_count": 6,
     "metadata": {},
     "output_type": "execute_result"
    }
   ],
   "source": [
    "dfautres = pd.read_csv(\"autres_Data.txt\",sep=\"\\t\",header=0)\n",
    "dfautres.tail()"
   ]
  },
  {
   "cell_type": "markdown",
   "metadata": {},
   "source": [
    "### Drop rows with missing values"
   ]
  },
  {
   "cell_type": "code",
   "execution_count": 7,
   "metadata": {},
   "outputs": [
    {
     "data": {
      "text/html": [
       "<div>\n",
       "<style scoped>\n",
       "    .dataframe tbody tr th:only-of-type {\n",
       "        vertical-align: middle;\n",
       "    }\n",
       "\n",
       "    .dataframe tbody tr th {\n",
       "        vertical-align: top;\n",
       "    }\n",
       "\n",
       "    .dataframe thead th {\n",
       "        text-align: right;\n",
       "    }\n",
       "</style>\n",
       "<table border=\"1\" class=\"dataframe\">\n",
       "  <thead>\n",
       "    <tr style=\"text-align: right;\">\n",
       "      <th></th>\n",
       "      <th>Time</th>\n",
       "      <th>Time Code</th>\n",
       "      <th>Country Name</th>\n",
       "      <th>Country Code</th>\n",
       "      <th>Gvnt_health_exp</th>\n",
       "      <th>Food Deficit</th>\n",
       "      <th>Life expectancy</th>\n",
       "      <th>Nat_resources_rents</th>\n",
       "    </tr>\n",
       "  </thead>\n",
       "  <tbody>\n",
       "    <tr>\n",
       "      <th>0</th>\n",
       "      <td>2010</td>\n",
       "      <td>YR2010</td>\n",
       "      <td>Afghanistan</td>\n",
       "      <td>AFG</td>\n",
       "      <td>2.255471</td>\n",
       "      <td>158.0</td>\n",
       "      <td>61.226</td>\n",
       "      <td>0.732845</td>\n",
       "    </tr>\n",
       "    <tr>\n",
       "      <th>1</th>\n",
       "      <td>2010</td>\n",
       "      <td>YR2010</td>\n",
       "      <td>Bangladesh</td>\n",
       "      <td>BGD</td>\n",
       "      <td>4.071213</td>\n",
       "      <td>119.0</td>\n",
       "      <td>70.198</td>\n",
       "      <td>1.309144</td>\n",
       "    </tr>\n",
       "    <tr>\n",
       "      <th>3</th>\n",
       "      <td>2010</td>\n",
       "      <td>YR2010</td>\n",
       "      <td>India</td>\n",
       "      <td>IND</td>\n",
       "      <td>3.169405</td>\n",
       "      <td>115.0</td>\n",
       "      <td>66.625</td>\n",
       "      <td>4.671042</td>\n",
       "    </tr>\n",
       "    <tr>\n",
       "      <th>4</th>\n",
       "      <td>2010</td>\n",
       "      <td>YR2010</td>\n",
       "      <td>Maldives</td>\n",
       "      <td>MDV</td>\n",
       "      <td>13.603584</td>\n",
       "      <td>79.0</td>\n",
       "      <td>76.112</td>\n",
       "      <td>0.008966</td>\n",
       "    </tr>\n",
       "    <tr>\n",
       "      <th>5</th>\n",
       "      <td>2010</td>\n",
       "      <td>YR2010</td>\n",
       "      <td>Nepal</td>\n",
       "      <td>NPL</td>\n",
       "      <td>4.802811</td>\n",
       "      <td>74.0</td>\n",
       "      <td>67.914</td>\n",
       "      <td>1.470750</td>\n",
       "    </tr>\n",
       "  </tbody>\n",
       "</table>\n",
       "</div>"
      ],
      "text/plain": [
       "   Time Time Code Country Name Country Code  Gvnt_health_exp  Food Deficit  \\\n",
       "0  2010    YR2010  Afghanistan          AFG         2.255471         158.0   \n",
       "1  2010    YR2010   Bangladesh          BGD         4.071213         119.0   \n",
       "3  2010    YR2010        India          IND         3.169405         115.0   \n",
       "4  2010    YR2010     Maldives          MDV        13.603584          79.0   \n",
       "5  2010    YR2010        Nepal          NPL         4.802811          74.0   \n",
       "\n",
       "   Life expectancy  Nat_resources_rents  \n",
       "0           61.226             0.732845  \n",
       "1           70.198             1.309144  \n",
       "3           66.625             4.671042  \n",
       "4           76.112             0.008966  \n",
       "5           67.914             1.470750  "
      ]
     },
     "execution_count": 7,
     "metadata": {},
     "output_type": "execute_result"
    }
   ],
   "source": [
    "dfautres = dfautres.dropna()\n",
    "dfautres.head()"
   ]
  },
  {
   "cell_type": "code",
   "execution_count": 8,
   "metadata": {},
   "outputs": [
    {
     "data": {
      "text/plain": [
       "112"
      ]
     },
     "execution_count": 8,
     "metadata": {},
     "output_type": "execute_result"
    }
   ],
   "source": [
    "len(dfautres)"
   ]
  },
  {
   "cell_type": "code",
   "execution_count": 9,
   "metadata": {},
   "outputs": [
    {
     "data": {
      "image/png": "[encoded data removed]",
      "text/plain": [
       "<matplotlib.figure.Figure at 0x7f2d324a7150>"
      ]
     },
     "metadata": {},
     "output_type": "display_data"
    }
   ],
   "source": [
    "# Represent the data using the parallel coordinates method\n",
    "from pandas.plotting import parallel_coordinates\n",
    "parallel_coordinates(dfautres.iloc[:, 3:],'Country Code')\n",
    "plt.show()"
   ]
  },
  {
   "cell_type": "markdown",
   "metadata": {},
   "source": [
    "# Merge datasets"
   ]
  },
  {
   "cell_type": "code",
   "execution_count": 10,
   "metadata": {},
   "outputs": [],
   "source": [
    "data = pd.merge(dfgni, dfautres, how='inner', on=['Country Name', 'Country Code'])"
   ]
  },
  {
   "cell_type": "code",
   "execution_count": 11,
   "metadata": {},
   "outputs": [],
   "source": [
    "data=data.drop(columns=['Time_x', 'Time Code_x', 'Time_y', 'Time Code_y' ])"
   ]
  },
  {
   "cell_type": "code",
   "execution_count": 12,
   "metadata": {},
   "outputs": [],
   "source": [
    "# set index with country code\n",
    "data = data.set_index('Country Code')"
   ]
  },
  {
   "cell_type": "code",
   "execution_count": 13,
   "metadata": {},
   "outputs": [
    {
     "data": {
      "text/html": [
       "<div>\n",
       "<style scoped>\n",
       "    .dataframe tbody tr th:only-of-type {\n",
       "        vertical-align: middle;\n",
       "    }\n",
       "\n",
       "    .dataframe tbody tr th {\n",
       "        vertical-align: top;\n",
       "    }\n",
       "\n",
       "    .dataframe thead th {\n",
       "        text-align: right;\n",
       "    }\n",
       "</style>\n",
       "<table border=\"1\" class=\"dataframe\">\n",
       "  <thead>\n",
       "    <tr style=\"text-align: right;\">\n",
       "      <th></th>\n",
       "      <th>Country Name</th>\n",
       "      <th>Surface</th>\n",
       "      <th>Population</th>\n",
       "      <th>GNI</th>\n",
       "      <th>Gvnt_health_exp</th>\n",
       "      <th>Food Deficit</th>\n",
       "      <th>Life expectancy</th>\n",
       "      <th>Nat_resources_rents</th>\n",
       "    </tr>\n",
       "    <tr>\n",
       "      <th>Country Code</th>\n",
       "      <th></th>\n",
       "      <th></th>\n",
       "      <th></th>\n",
       "      <th></th>\n",
       "      <th></th>\n",
       "      <th></th>\n",
       "      <th></th>\n",
       "      <th></th>\n",
       "    </tr>\n",
       "  </thead>\n",
       "  <tbody>\n",
       "    <tr>\n",
       "      <th>AFG</th>\n",
       "      <td>Afghanistan</td>\n",
       "      <td>652860.0</td>\n",
       "      <td>28803167</td>\n",
       "      <td>1.599880e+10</td>\n",
       "      <td>2.255471</td>\n",
       "      <td>158.0</td>\n",
       "      <td>61.226</td>\n",
       "      <td>0.732845</td>\n",
       "    </tr>\n",
       "    <tr>\n",
       "      <th>BGD</th>\n",
       "      <td>Bangladesh</td>\n",
       "      <td>148460.0</td>\n",
       "      <td>152149102</td>\n",
       "      <td>1.246171e+11</td>\n",
       "      <td>4.071213</td>\n",
       "      <td>119.0</td>\n",
       "      <td>70.198</td>\n",
       "      <td>1.309144</td>\n",
       "    </tr>\n",
       "    <tr>\n",
       "      <th>IND</th>\n",
       "      <td>India</td>\n",
       "      <td>3287260.0</td>\n",
       "      <td>1230980691</td>\n",
       "      <td>1.638663e+12</td>\n",
       "      <td>3.169405</td>\n",
       "      <td>115.0</td>\n",
       "      <td>66.625</td>\n",
       "      <td>4.671042</td>\n",
       "    </tr>\n",
       "    <tr>\n",
       "      <th>MDV</th>\n",
       "      <td>Maldives</td>\n",
       "      <td>300.0</td>\n",
       "      <td>364511</td>\n",
       "      <td>2.276923e+09</td>\n",
       "      <td>13.603584</td>\n",
       "      <td>79.0</td>\n",
       "      <td>76.112</td>\n",
       "      <td>0.008966</td>\n",
       "    </tr>\n",
       "    <tr>\n",
       "      <th>NPL</th>\n",
       "      <td>Nepal</td>\n",
       "      <td>147180.0</td>\n",
       "      <td>27023137</td>\n",
       "      <td>1.612497e+10</td>\n",
       "      <td>4.802811</td>\n",
       "      <td>74.0</td>\n",
       "      <td>67.914</td>\n",
       "      <td>1.470750</td>\n",
       "    </tr>\n",
       "  </tbody>\n",
       "</table>\n",
       "</div>"
      ],
      "text/plain": [
       "             Country Name    Surface  Population           GNI  \\\n",
       "Country Code                                                     \n",
       "AFG           Afghanistan   652860.0    28803167  1.599880e+10   \n",
       "BGD            Bangladesh   148460.0   152149102  1.246171e+11   \n",
       "IND                 India  3287260.0  1230980691  1.638663e+12   \n",
       "MDV              Maldives      300.0      364511  2.276923e+09   \n",
       "NPL                 Nepal   147180.0    27023137  1.612497e+10   \n",
       "\n",
       "              Gvnt_health_exp  Food Deficit  Life expectancy  \\\n",
       "Country Code                                                   \n",
       "AFG                  2.255471         158.0           61.226   \n",
       "BGD                  4.071213         119.0           70.198   \n",
       "IND                  3.169405         115.0           66.625   \n",
       "MDV                 13.603584          79.0           76.112   \n",
       "NPL                  4.802811          74.0           67.914   \n",
       "\n",
       "              Nat_resources_rents  \n",
       "Country Code                       \n",
       "AFG                      0.732845  \n",
       "BGD                      1.309144  \n",
       "IND                      4.671042  \n",
       "MDV                      0.008966  \n",
       "NPL                      1.470750  "
      ]
     },
     "execution_count": 13,
     "metadata": {},
     "output_type": "execute_result"
    }
   ],
   "source": [
    "data.head()"
   ]
  },
  {
   "cell_type": "code",
   "execution_count": 14,
   "metadata": {},
   "outputs": [
    {
     "data": {
      "text/plain": [
       "111"
      ]
     },
     "execution_count": 14,
     "metadata": {},
     "output_type": "execute_result"
    }
   ],
   "source": [
    "len(data)"
   ]
  },
  {
   "cell_type": "markdown",
   "metadata": {},
   "source": [
    "# Boxplots"
   ]
  },
  {
   "cell_type": "code",
   "execution_count": 15,
   "metadata": {},
   "outputs": [
    {
     "data": {
      "text/plain": [
       "<matplotlib.axes._subplots.AxesSubplot at 0x7f2d2e00bfd0>"
      ]
     },
     "execution_count": 15,
     "metadata": {},
     "output_type": "execute_result"
    },
    {
     "data": {
      "image/png": "[encoded data removed]",
      "text/plain": [
       "<matplotlib.figure.Figure at 0x7f2d2fdcc490>"
      ]
     },
     "metadata": {},
     "output_type": "display_data"
    }
   ],
   "source": [
    "# set index with country code\n",
    "dfautresn = dfautres\n",
    "dfautresn = dfautresn.set_index('Country Code')\n",
    "# boxplot with the dfautre dataset\n",
    "dfautresn = dfautresn.iloc[:,3:]\n",
    "Z_scored_dfautres = (dfautresn-dfautresn.mean())/dfautresn.std()\n",
    "sns.boxplot(Z_scored_dfautres)"
   ]
  },
  {
   "cell_type": "code",
   "execution_count": 16,
   "metadata": {},
   "outputs": [
    {
     "data": {
      "text/plain": [
       "<matplotlib.axes._subplots.AxesSubplot at 0x7f2d2d73d490>"
      ]
     },
     "execution_count": 16,
     "metadata": {},
     "output_type": "execute_result"
    },
    {
     "data": {
      "image/png": "[encoded data removed]",
      "text/plain": [
       "<matplotlib.figure.Figure at 0x7f2d2d7b6410>"
      ]
     },
     "metadata": {},
     "output_type": "display_data"
    }
   ],
   "source": [
    "# boxplot with the whole dataset\n",
    "datan = data.iloc[:,1:]\n",
    "Z_scored_df = (datan-datan.mean())/datan.std()\n",
    "sns.boxplot(Z_scored_df)"
   ]
  },
  {
   "cell_type": "markdown",
   "metadata": {},
   "source": [
    "# Outliers detection"
   ]
  },
  {
   "cell_type": "markdown",
   "metadata": {},
   "source": [
    "## dfautres"
   ]
  },
  {
   "cell_type": "code",
   "execution_count": 17,
   "metadata": {},
   "outputs": [
    {
     "data": {
      "text/plain": [
       "Gvnt_health_exp          8.378800\n",
       "Food Deficit           112.348214\n",
       "Life expectancy         66.760248\n",
       "Nat_resources_rents     10.867296\n",
       "dtype: float64"
      ]
     },
     "execution_count": 17,
     "metadata": {},
     "output_type": "execute_result"
    }
   ],
   "source": [
    "dfautresn.mean(axis=0) # moyenne des lignes pour chaque colonne"
   ]
  },
  {
   "cell_type": "code",
   "execution_count": 18,
   "metadata": {},
   "outputs": [],
   "source": [
    "threshold = 2.5\n",
    "mask = np.abs(dfautresn) > dfautresn.mean()+threshold*dfautresn.std()\n",
    "outliers = dfautresn[mask.any(axis=1)]"
   ]
  },
  {
   "cell_type": "code",
   "execution_count": 19,
   "metadata": {},
   "outputs": [
    {
     "data": {
      "text/html": [
       "<div>\n",
       "<style scoped>\n",
       "    .dataframe tbody tr th:only-of-type {\n",
       "        vertical-align: middle;\n",
       "    }\n",
       "\n",
       "    .dataframe tbody tr th {\n",
       "        vertical-align: top;\n",
       "    }\n",
       "\n",
       "    .dataframe thead th {\n",
       "        text-align: right;\n",
       "    }\n",
       "</style>\n",
       "<table border=\"1\" class=\"dataframe\">\n",
       "  <thead>\n",
       "    <tr style=\"text-align: right;\">\n",
       "      <th></th>\n",
       "      <th>Gvnt_health_exp</th>\n",
       "      <th>Food Deficit</th>\n",
       "      <th>Life expectancy</th>\n",
       "      <th>Nat_resources_rents</th>\n",
       "    </tr>\n",
       "    <tr>\n",
       "      <th>Country Code</th>\n",
       "      <th></th>\n",
       "      <th></th>\n",
       "      <th></th>\n",
       "      <th></th>\n",
       "    </tr>\n",
       "  </thead>\n",
       "  <tbody>\n",
       "    <tr>\n",
       "      <th>AFG</th>\n",
       "      <td>False</td>\n",
       "      <td>False</td>\n",
       "      <td>False</td>\n",
       "      <td>False</td>\n",
       "    </tr>\n",
       "    <tr>\n",
       "      <th>BGD</th>\n",
       "      <td>False</td>\n",
       "      <td>False</td>\n",
       "      <td>False</td>\n",
       "      <td>False</td>\n",
       "    </tr>\n",
       "    <tr>\n",
       "      <th>IND</th>\n",
       "      <td>False</td>\n",
       "      <td>False</td>\n",
       "      <td>False</td>\n",
       "      <td>False</td>\n",
       "    </tr>\n",
       "    <tr>\n",
       "      <th>MDV</th>\n",
       "      <td>False</td>\n",
       "      <td>False</td>\n",
       "      <td>False</td>\n",
       "      <td>False</td>\n",
       "    </tr>\n",
       "    <tr>\n",
       "      <th>NPL</th>\n",
       "      <td>False</td>\n",
       "      <td>False</td>\n",
       "      <td>False</td>\n",
       "      <td>False</td>\n",
       "    </tr>\n",
       "  </tbody>\n",
       "</table>\n",
       "</div>"
      ],
      "text/plain": [
       "              Gvnt_health_exp  Food Deficit  Life expectancy  \\\n",
       "Country Code                                                   \n",
       "AFG                     False         False            False   \n",
       "BGD                     False         False            False   \n",
       "IND                     False         False            False   \n",
       "MDV                     False         False            False   \n",
       "NPL                     False         False            False   \n",
       "\n",
       "              Nat_resources_rents  \n",
       "Country Code                       \n",
       "AFG                         False  \n",
       "BGD                         False  \n",
       "IND                         False  \n",
       "MDV                         False  \n",
       "NPL                         False  "
      ]
     },
     "execution_count": 19,
     "metadata": {},
     "output_type": "execute_result"
    }
   ],
   "source": [
    "mask.head()"
   ]
  },
  {
   "cell_type": "code",
   "execution_count": 20,
   "metadata": {},
   "outputs": [
    {
     "data": {
      "text/plain": [
       "Gvnt_health_exp         True\n",
       "Food Deficit            True\n",
       "Life expectancy        False\n",
       "Nat_resources_rents     True\n",
       "dtype: bool"
      ]
     },
     "execution_count": 20,
     "metadata": {},
     "output_type": "execute_result"
    }
   ],
   "source": [
    "mask.any()"
   ]
  },
  {
   "cell_type": "code",
   "execution_count": 21,
   "metadata": {},
   "outputs": [
    {
     "data": {
      "text/html": [
       "<div>\n",
       "<style scoped>\n",
       "    .dataframe tbody tr th:only-of-type {\n",
       "        vertical-align: middle;\n",
       "    }\n",
       "\n",
       "    .dataframe tbody tr th {\n",
       "        vertical-align: top;\n",
       "    }\n",
       "\n",
       "    .dataframe thead th {\n",
       "        text-align: right;\n",
       "    }\n",
       "</style>\n",
       "<table border=\"1\" class=\"dataframe\">\n",
       "  <thead>\n",
       "    <tr style=\"text-align: right;\">\n",
       "      <th></th>\n",
       "      <th>Country Name</th>\n",
       "      <th>Surface</th>\n",
       "      <th>Population</th>\n",
       "      <th>GNI</th>\n",
       "      <th>Gvnt_health_exp</th>\n",
       "      <th>Food Deficit</th>\n",
       "      <th>Life expectancy</th>\n",
       "      <th>Nat_resources_rents</th>\n",
       "    </tr>\n",
       "    <tr>\n",
       "      <th>Country Code</th>\n",
       "      <th></th>\n",
       "      <th></th>\n",
       "      <th></th>\n",
       "      <th></th>\n",
       "      <th></th>\n",
       "      <th></th>\n",
       "      <th></th>\n",
       "      <th></th>\n",
       "    </tr>\n",
       "  </thead>\n",
       "  <tbody>\n",
       "    <tr>\n",
       "      <th>BLZ</th>\n",
       "      <td>Belize</td>\n",
       "      <td>22970.0</td>\n",
       "      <td>321608</td>\n",
       "      <td>1.239593e+09</td>\n",
       "      <td>41.644164</td>\n",
       "      <td>36.0</td>\n",
       "      <td>69.676</td>\n",
       "      <td>4.992062</td>\n",
       "    </tr>\n",
       "    <tr>\n",
       "      <th>COG</th>\n",
       "      <td>Congo, Rep.</td>\n",
       "      <td>342000.0</td>\n",
       "      <td>4386693</td>\n",
       "      <td>9.024207e+09</td>\n",
       "      <td>4.226890</td>\n",
       "      <td>226.0</td>\n",
       "      <td>60.473</td>\n",
       "      <td>49.144419</td>\n",
       "    </tr>\n",
       "    <tr>\n",
       "      <th>HTI</th>\n",
       "      <td>Haiti</td>\n",
       "      <td>27750.0</td>\n",
       "      <td>9999617</td>\n",
       "      <td>6.644822e+09</td>\n",
       "      <td>2.545283</td>\n",
       "      <td>524.0</td>\n",
       "      <td>61.296</td>\n",
       "      <td>1.192176</td>\n",
       "    </tr>\n",
       "    <tr>\n",
       "      <th>IRQ</th>\n",
       "      <td>Iraq</td>\n",
       "      <td>435240.0</td>\n",
       "      <td>30762701</td>\n",
       "      <td>1.401081e+11</td>\n",
       "      <td>4.814162</td>\n",
       "      <td>209.0</td>\n",
       "      <td>68.465</td>\n",
       "      <td>41.477584</td>\n",
       "    </tr>\n",
       "    <tr>\n",
       "      <th>KWT</th>\n",
       "      <td>Kuwait</td>\n",
       "      <td>17820.0</td>\n",
       "      <td>2998083</td>\n",
       "      <td>1.238811e+11</td>\n",
       "      <td>5.216216</td>\n",
       "      <td>11.0</td>\n",
       "      <td>73.979</td>\n",
       "      <td>48.295617</td>\n",
       "    </tr>\n",
       "    <tr>\n",
       "      <th>MRT</th>\n",
       "      <td>Mauritania</td>\n",
       "      <td>1030700.0</td>\n",
       "      <td>3609543</td>\n",
       "      <td>4.274665e+09</td>\n",
       "      <td>4.222889</td>\n",
       "      <td>54.0</td>\n",
       "      <td>61.997</td>\n",
       "      <td>48.699262</td>\n",
       "    </tr>\n",
       "    <tr>\n",
       "      <th>SAU</th>\n",
       "      <td>Saudi Arabia</td>\n",
       "      <td>2149690.0</td>\n",
       "      <td>27425676</td>\n",
       "      <td>5.352515e+11</td>\n",
       "      <td>6.669300</td>\n",
       "      <td>18.0</td>\n",
       "      <td>73.574</td>\n",
       "      <td>40.934170</td>\n",
       "    </tr>\n",
       "    <tr>\n",
       "      <th>ZMB</th>\n",
       "      <td>Zambia</td>\n",
       "      <td>752610.0</td>\n",
       "      <td>13850033</td>\n",
       "      <td>1.890254e+10</td>\n",
       "      <td>3.313305</td>\n",
       "      <td>455.0</td>\n",
       "      <td>56.588</td>\n",
       "      <td>21.387444</td>\n",
       "    </tr>\n",
       "  </tbody>\n",
       "</table>\n",
       "</div>"
      ],
      "text/plain": [
       "              Country Name    Surface  Population           GNI  \\\n",
       "Country Code                                                      \n",
       "BLZ                 Belize    22970.0      321608  1.239593e+09   \n",
       "COG            Congo, Rep.   342000.0     4386693  9.024207e+09   \n",
       "HTI                  Haiti    27750.0     9999617  6.644822e+09   \n",
       "IRQ                   Iraq   435240.0    30762701  1.401081e+11   \n",
       "KWT                 Kuwait    17820.0     2998083  1.238811e+11   \n",
       "MRT             Mauritania  1030700.0     3609543  4.274665e+09   \n",
       "SAU           Saudi Arabia  2149690.0    27425676  5.352515e+11   \n",
       "ZMB                 Zambia   752610.0    13850033  1.890254e+10   \n",
       "\n",
       "              Gvnt_health_exp  Food Deficit  Life expectancy  \\\n",
       "Country Code                                                   \n",
       "BLZ                 41.644164          36.0           69.676   \n",
       "COG                  4.226890         226.0           60.473   \n",
       "HTI                  2.545283         524.0           61.296   \n",
       "IRQ                  4.814162         209.0           68.465   \n",
       "KWT                  5.216216          11.0           73.979   \n",
       "MRT                  4.222889          54.0           61.997   \n",
       "SAU                  6.669300          18.0           73.574   \n",
       "ZMB                  3.313305         455.0           56.588   \n",
       "\n",
       "              Nat_resources_rents  \n",
       "Country Code                       \n",
       "BLZ                      4.992062  \n",
       "COG                     49.144419  \n",
       "HTI                      1.192176  \n",
       "IRQ                     41.477584  \n",
       "KWT                     48.295617  \n",
       "MRT                     48.699262  \n",
       "SAU                     40.934170  \n",
       "ZMB                     21.387444  "
      ]
     },
     "execution_count": 21,
     "metadata": {},
     "output_type": "execute_result"
    }
   ],
   "source": [
    "data.loc[sorted(list(set(outliers.index)))]"
   ]
  },
  {
   "cell_type": "code",
   "execution_count": 22,
   "metadata": {},
   "outputs": [
    {
     "data": {
      "text/html": [
       "<div>\n",
       "<style scoped>\n",
       "    .dataframe tbody tr th:only-of-type {\n",
       "        vertical-align: middle;\n",
       "    }\n",
       "\n",
       "    .dataframe tbody tr th {\n",
       "        vertical-align: top;\n",
       "    }\n",
       "\n",
       "    .dataframe thead th {\n",
       "        text-align: right;\n",
       "    }\n",
       "</style>\n",
       "<table border=\"1\" class=\"dataframe\">\n",
       "  <thead>\n",
       "    <tr style=\"text-align: right;\">\n",
       "      <th></th>\n",
       "      <th>Gvnt_health_exp</th>\n",
       "      <th>Food Deficit</th>\n",
       "      <th>Life expectancy</th>\n",
       "      <th>Nat_resources_rents</th>\n",
       "    </tr>\n",
       "    <tr>\n",
       "      <th>Country Code</th>\n",
       "      <th></th>\n",
       "      <th></th>\n",
       "      <th></th>\n",
       "      <th></th>\n",
       "    </tr>\n",
       "  </thead>\n",
       "  <tbody>\n",
       "    <tr>\n",
       "      <th>BLZ</th>\n",
       "      <td>True</td>\n",
       "      <td>False</td>\n",
       "      <td>False</td>\n",
       "      <td>False</td>\n",
       "    </tr>\n",
       "    <tr>\n",
       "      <th>COG</th>\n",
       "      <td>False</td>\n",
       "      <td>False</td>\n",
       "      <td>False</td>\n",
       "      <td>True</td>\n",
       "    </tr>\n",
       "    <tr>\n",
       "      <th>HTI</th>\n",
       "      <td>False</td>\n",
       "      <td>True</td>\n",
       "      <td>False</td>\n",
       "      <td>False</td>\n",
       "    </tr>\n",
       "    <tr>\n",
       "      <th>IRQ</th>\n",
       "      <td>False</td>\n",
       "      <td>False</td>\n",
       "      <td>False</td>\n",
       "      <td>True</td>\n",
       "    </tr>\n",
       "    <tr>\n",
       "      <th>KWT</th>\n",
       "      <td>False</td>\n",
       "      <td>False</td>\n",
       "      <td>False</td>\n",
       "      <td>True</td>\n",
       "    </tr>\n",
       "    <tr>\n",
       "      <th>MRT</th>\n",
       "      <td>False</td>\n",
       "      <td>False</td>\n",
       "      <td>False</td>\n",
       "      <td>True</td>\n",
       "    </tr>\n",
       "    <tr>\n",
       "      <th>SAU</th>\n",
       "      <td>False</td>\n",
       "      <td>False</td>\n",
       "      <td>False</td>\n",
       "      <td>True</td>\n",
       "    </tr>\n",
       "    <tr>\n",
       "      <th>ZMB</th>\n",
       "      <td>False</td>\n",
       "      <td>True</td>\n",
       "      <td>False</td>\n",
       "      <td>False</td>\n",
       "    </tr>\n",
       "  </tbody>\n",
       "</table>\n",
       "</div>"
      ],
      "text/plain": [
       "              Gvnt_health_exp  Food Deficit  Life expectancy  \\\n",
       "Country Code                                                   \n",
       "BLZ                      True         False            False   \n",
       "COG                     False         False            False   \n",
       "HTI                     False          True            False   \n",
       "IRQ                     False         False            False   \n",
       "KWT                     False         False            False   \n",
       "MRT                     False         False            False   \n",
       "SAU                     False         False            False   \n",
       "ZMB                     False          True            False   \n",
       "\n",
       "              Nat_resources_rents  \n",
       "Country Code                       \n",
       "BLZ                         False  \n",
       "COG                          True  \n",
       "HTI                         False  \n",
       "IRQ                          True  \n",
       "KWT                          True  \n",
       "MRT                          True  \n",
       "SAU                          True  \n",
       "ZMB                         False  "
      ]
     },
     "execution_count": 22,
     "metadata": {},
     "output_type": "execute_result"
    }
   ],
   "source": [
    "mask.loc[sorted(list(set(outliers.index)))]"
   ]
  },
  {
   "cell_type": "code",
   "execution_count": 23,
   "metadata": {},
   "outputs": [
    {
     "data": {
      "text/html": [
       "<div>\n",
       "<style scoped>\n",
       "    .dataframe tbody tr th:only-of-type {\n",
       "        vertical-align: middle;\n",
       "    }\n",
       "\n",
       "    .dataframe tbody tr th {\n",
       "        vertical-align: top;\n",
       "    }\n",
       "\n",
       "    .dataframe thead th {\n",
       "        text-align: right;\n",
       "    }\n",
       "</style>\n",
       "<table border=\"1\" class=\"dataframe\">\n",
       "  <thead>\n",
       "    <tr style=\"text-align: right;\">\n",
       "      <th></th>\n",
       "      <th>Gvnt_health_exp</th>\n",
       "      <th>Food Deficit</th>\n",
       "      <th>Life expectancy</th>\n",
       "      <th>Nat_resources_rents</th>\n",
       "    </tr>\n",
       "    <tr>\n",
       "      <th>Country Code</th>\n",
       "      <th></th>\n",
       "      <th></th>\n",
       "      <th></th>\n",
       "      <th></th>\n",
       "    </tr>\n",
       "  </thead>\n",
       "  <tbody>\n",
       "    <tr>\n",
       "      <th>ZMB</th>\n",
       "      <td>3.313305</td>\n",
       "      <td>455.0</td>\n",
       "      <td>56.588</td>\n",
       "      <td>21.387444</td>\n",
       "    </tr>\n",
       "    <tr>\n",
       "      <th>BLZ</th>\n",
       "      <td>41.644164</td>\n",
       "      <td>36.0</td>\n",
       "      <td>69.676</td>\n",
       "      <td>4.992062</td>\n",
       "    </tr>\n",
       "    <tr>\n",
       "      <th>HTI</th>\n",
       "      <td>2.545283</td>\n",
       "      <td>524.0</td>\n",
       "      <td>61.296</td>\n",
       "      <td>1.192176</td>\n",
       "    </tr>\n",
       "  </tbody>\n",
       "</table>\n",
       "</div>"
      ],
      "text/plain": [
       "              Gvnt_health_exp  Food Deficit  Life expectancy  \\\n",
       "Country Code                                                   \n",
       "ZMB                  3.313305         455.0           56.588   \n",
       "BLZ                 41.644164          36.0           69.676   \n",
       "HTI                  2.545283         524.0           61.296   \n",
       "\n",
       "              Nat_resources_rents  \n",
       "Country Code                       \n",
       "ZMB                     21.387444  \n",
       "BLZ                      4.992062  \n",
       "HTI                      1.192176  "
      ]
     },
     "execution_count": 23,
     "metadata": {},
     "output_type": "execute_result"
    }
   ],
   "source": [
    "# we keep outliers not related to nat. ressources\n",
    "maskbis=mask.iloc[:,:3]\n",
    "outliersbis = dfautresn[maskbis.any(axis=1)]\n",
    "outliersbis"
   ]
  },
  {
   "cell_type": "code",
   "execution_count": 24,
   "metadata": {},
   "outputs": [
    {
     "data": {
      "text/html": [
       "<div>\n",
       "<style scoped>\n",
       "    .dataframe tbody tr th:only-of-type {\n",
       "        vertical-align: middle;\n",
       "    }\n",
       "\n",
       "    .dataframe tbody tr th {\n",
       "        vertical-align: top;\n",
       "    }\n",
       "\n",
       "    .dataframe thead th {\n",
       "        text-align: right;\n",
       "    }\n",
       "</style>\n",
       "<table border=\"1\" class=\"dataframe\">\n",
       "  <thead>\n",
       "    <tr style=\"text-align: right;\">\n",
       "      <th></th>\n",
       "      <th>Gvnt_health_exp</th>\n",
       "      <th>Food Deficit</th>\n",
       "      <th>Life expectancy</th>\n",
       "      <th>Nat_resources_rents</th>\n",
       "    </tr>\n",
       "    <tr>\n",
       "      <th>Country Code</th>\n",
       "      <th></th>\n",
       "      <th></th>\n",
       "      <th></th>\n",
       "      <th></th>\n",
       "    </tr>\n",
       "  </thead>\n",
       "  <tbody>\n",
       "    <tr>\n",
       "      <th>AFG</th>\n",
       "      <td>2.255471</td>\n",
       "      <td>158.0</td>\n",
       "      <td>61.226</td>\n",
       "      <td>0.732845</td>\n",
       "    </tr>\n",
       "    <tr>\n",
       "      <th>AGO</th>\n",
       "      <td>4.261282</td>\n",
       "      <td>149.0</td>\n",
       "      <td>58.192</td>\n",
       "      <td>39.037754</td>\n",
       "    </tr>\n",
       "    <tr>\n",
       "      <th>ARE</th>\n",
       "      <td>8.526791</td>\n",
       "      <td>35.0</td>\n",
       "      <td>76.344</td>\n",
       "      <td>20.580810</td>\n",
       "    </tr>\n",
       "    <tr>\n",
       "      <th>ARG</th>\n",
       "      <td>11.692604</td>\n",
       "      <td>10.0</td>\n",
       "      <td>75.595</td>\n",
       "      <td>3.137998</td>\n",
       "    </tr>\n",
       "    <tr>\n",
       "      <th>ARM</th>\n",
       "      <td>6.443148</td>\n",
       "      <td>43.0</td>\n",
       "      <td>73.331</td>\n",
       "      <td>2.992090</td>\n",
       "    </tr>\n",
       "  </tbody>\n",
       "</table>\n",
       "</div>"
      ],
      "text/plain": [
       "              Gvnt_health_exp  Food Deficit  Life expectancy  \\\n",
       "Country Code                                                   \n",
       "AFG                  2.255471         158.0           61.226   \n",
       "AGO                  4.261282         149.0           58.192   \n",
       "ARE                  8.526791          35.0           76.344   \n",
       "ARG                 11.692604          10.0           75.595   \n",
       "ARM                  6.443148          43.0           73.331   \n",
       "\n",
       "              Nat_resources_rents  \n",
       "Country Code                       \n",
       "AFG                      0.732845  \n",
       "AGO                     39.037754  \n",
       "ARE                     20.580810  \n",
       "ARG                      3.137998  \n",
       "ARM                      2.992090  "
      ]
     },
     "execution_count": 24,
     "metadata": {},
     "output_type": "execute_result"
    }
   ],
   "source": [
    "dfautrestri = dfautresn.loc[sorted(list(set(dfautresn.index).difference(set(outliersbis.index))))]\n",
    "dfautrestri.head()"
   ]
  },
  {
   "cell_type": "code",
   "execution_count": 25,
   "metadata": {},
   "outputs": [
    {
     "data": {
      "text/plain": [
       "109"
      ]
     },
     "execution_count": 25,
     "metadata": {},
     "output_type": "execute_result"
    }
   ],
   "source": [
    "len(dfautrestri)"
   ]
  },
  {
   "cell_type": "markdown",
   "metadata": {},
   "source": [
    "## data"
   ]
  },
  {
   "cell_type": "code",
   "execution_count": 26,
   "metadata": {},
   "outputs": [
    {
     "data": {
      "text/plain": [
       "Surface                6.831314e+05\n",
       "Population             4.859118e+07\n",
       "GNI                    1.777908e+11\n",
       "Gvnt_health_exp        8.391488e+00\n",
       "Food Deficit           1.116667e+02\n",
       "Life expectancy        6.681770e+01\n",
       "Nat_resources_rents    1.095765e+01\n",
       "dtype: float64"
      ]
     },
     "execution_count": 26,
     "metadata": {},
     "output_type": "execute_result"
    }
   ],
   "source": [
    "datan.mean(axis=0) # moyenne des lignes pour chaque colonne"
   ]
  },
  {
   "cell_type": "code",
   "execution_count": 27,
   "metadata": {},
   "outputs": [],
   "source": [
    "threshold = 2.5\n",
    "mask2 = np.abs(datan) > datan.mean()+threshold*datan.std()\n",
    "outliers2 = datan[mask2.any(axis=1)]"
   ]
  },
  {
   "cell_type": "code",
   "execution_count": 28,
   "metadata": {},
   "outputs": [
    {
     "data": {
      "text/html": [
       "<div>\n",
       "<style scoped>\n",
       "    .dataframe tbody tr th:only-of-type {\n",
       "        vertical-align: middle;\n",
       "    }\n",
       "\n",
       "    .dataframe tbody tr th {\n",
       "        vertical-align: top;\n",
       "    }\n",
       "\n",
       "    .dataframe thead th {\n",
       "        text-align: right;\n",
       "    }\n",
       "</style>\n",
       "<table border=\"1\" class=\"dataframe\">\n",
       "  <thead>\n",
       "    <tr style=\"text-align: right;\">\n",
       "      <th></th>\n",
       "      <th>Surface</th>\n",
       "      <th>Population</th>\n",
       "      <th>GNI</th>\n",
       "      <th>Gvnt_health_exp</th>\n",
       "      <th>Food Deficit</th>\n",
       "      <th>Life expectancy</th>\n",
       "      <th>Nat_resources_rents</th>\n",
       "    </tr>\n",
       "    <tr>\n",
       "      <th>Country Code</th>\n",
       "      <th></th>\n",
       "      <th></th>\n",
       "      <th></th>\n",
       "      <th></th>\n",
       "      <th></th>\n",
       "      <th></th>\n",
       "      <th></th>\n",
       "    </tr>\n",
       "  </thead>\n",
       "  <tbody>\n",
       "    <tr>\n",
       "      <th>AFG</th>\n",
       "      <td>False</td>\n",
       "      <td>False</td>\n",
       "      <td>False</td>\n",
       "      <td>False</td>\n",
       "      <td>False</td>\n",
       "      <td>False</td>\n",
       "      <td>False</td>\n",
       "    </tr>\n",
       "    <tr>\n",
       "      <th>BGD</th>\n",
       "      <td>False</td>\n",
       "      <td>False</td>\n",
       "      <td>False</td>\n",
       "      <td>False</td>\n",
       "      <td>False</td>\n",
       "      <td>False</td>\n",
       "      <td>False</td>\n",
       "    </tr>\n",
       "    <tr>\n",
       "      <th>IND</th>\n",
       "      <td>False</td>\n",
       "      <td>True</td>\n",
       "      <td>False</td>\n",
       "      <td>False</td>\n",
       "      <td>False</td>\n",
       "      <td>False</td>\n",
       "      <td>False</td>\n",
       "    </tr>\n",
       "    <tr>\n",
       "      <th>MDV</th>\n",
       "      <td>False</td>\n",
       "      <td>False</td>\n",
       "      <td>False</td>\n",
       "      <td>False</td>\n",
       "      <td>False</td>\n",
       "      <td>False</td>\n",
       "      <td>False</td>\n",
       "    </tr>\n",
       "    <tr>\n",
       "      <th>NPL</th>\n",
       "      <td>False</td>\n",
       "      <td>False</td>\n",
       "      <td>False</td>\n",
       "      <td>False</td>\n",
       "      <td>False</td>\n",
       "      <td>False</td>\n",
       "      <td>False</td>\n",
       "    </tr>\n",
       "  </tbody>\n",
       "</table>\n",
       "</div>"
      ],
      "text/plain": [
       "              Surface  Population    GNI  Gvnt_health_exp  Food Deficit  \\\n",
       "Country Code                                                              \n",
       "AFG             False       False  False            False         False   \n",
       "BGD             False       False  False            False         False   \n",
       "IND             False        True  False            False         False   \n",
       "MDV             False       False  False            False         False   \n",
       "NPL             False       False  False            False         False   \n",
       "\n",
       "              Life expectancy  Nat_resources_rents  \n",
       "Country Code                                        \n",
       "AFG                     False                False  \n",
       "BGD                     False                False  \n",
       "IND                     False                False  \n",
       "MDV                     False                False  \n",
       "NPL                     False                False  "
      ]
     },
     "execution_count": 28,
     "metadata": {},
     "output_type": "execute_result"
    }
   ],
   "source": [
    "mask2.head()"
   ]
  },
  {
   "cell_type": "code",
   "execution_count": 29,
   "metadata": {},
   "outputs": [
    {
     "data": {
      "text/plain": [
       "Surface                 True\n",
       "Population              True\n",
       "GNI                     True\n",
       "Gvnt_health_exp         True\n",
       "Food Deficit            True\n",
       "Life expectancy        False\n",
       "Nat_resources_rents     True\n",
       "dtype: bool"
      ]
     },
     "execution_count": 29,
     "metadata": {},
     "output_type": "execute_result"
    }
   ],
   "source": [
    "mask2.any()"
   ]
  },
  {
   "cell_type": "code",
   "execution_count": 30,
   "metadata": {},
   "outputs": [
    {
     "data": {
      "text/html": [
       "<div>\n",
       "<style scoped>\n",
       "    .dataframe tbody tr th:only-of-type {\n",
       "        vertical-align: middle;\n",
       "    }\n",
       "\n",
       "    .dataframe tbody tr th {\n",
       "        vertical-align: top;\n",
       "    }\n",
       "\n",
       "    .dataframe thead th {\n",
       "        text-align: right;\n",
       "    }\n",
       "</style>\n",
       "<table border=\"1\" class=\"dataframe\">\n",
       "  <thead>\n",
       "    <tr style=\"text-align: right;\">\n",
       "      <th></th>\n",
       "      <th>Surface</th>\n",
       "      <th>Population</th>\n",
       "      <th>GNI</th>\n",
       "      <th>Gvnt_health_exp</th>\n",
       "      <th>Food Deficit</th>\n",
       "      <th>Life expectancy</th>\n",
       "      <th>Nat_resources_rents</th>\n",
       "    </tr>\n",
       "    <tr>\n",
       "      <th>Country Code</th>\n",
       "      <th></th>\n",
       "      <th></th>\n",
       "      <th></th>\n",
       "      <th></th>\n",
       "      <th></th>\n",
       "      <th></th>\n",
       "      <th></th>\n",
       "    </tr>\n",
       "  </thead>\n",
       "  <tbody>\n",
       "    <tr>\n",
       "      <th>BLZ</th>\n",
       "      <td>False</td>\n",
       "      <td>False</td>\n",
       "      <td>False</td>\n",
       "      <td>True</td>\n",
       "      <td>False</td>\n",
       "      <td>False</td>\n",
       "      <td>False</td>\n",
       "    </tr>\n",
       "    <tr>\n",
       "      <th>BRA</th>\n",
       "      <td>True</td>\n",
       "      <td>False</td>\n",
       "      <td>True</td>\n",
       "      <td>False</td>\n",
       "      <td>False</td>\n",
       "      <td>False</td>\n",
       "      <td>False</td>\n",
       "    </tr>\n",
       "    <tr>\n",
       "      <th>CHN</th>\n",
       "      <td>True</td>\n",
       "      <td>True</td>\n",
       "      <td>True</td>\n",
       "      <td>False</td>\n",
       "      <td>False</td>\n",
       "      <td>False</td>\n",
       "      <td>False</td>\n",
       "    </tr>\n",
       "    <tr>\n",
       "      <th>COG</th>\n",
       "      <td>False</td>\n",
       "      <td>False</td>\n",
       "      <td>False</td>\n",
       "      <td>False</td>\n",
       "      <td>False</td>\n",
       "      <td>False</td>\n",
       "      <td>True</td>\n",
       "    </tr>\n",
       "    <tr>\n",
       "      <th>HTI</th>\n",
       "      <td>False</td>\n",
       "      <td>False</td>\n",
       "      <td>False</td>\n",
       "      <td>False</td>\n",
       "      <td>True</td>\n",
       "      <td>False</td>\n",
       "      <td>False</td>\n",
       "    </tr>\n",
       "    <tr>\n",
       "      <th>IND</th>\n",
       "      <td>False</td>\n",
       "      <td>True</td>\n",
       "      <td>False</td>\n",
       "      <td>False</td>\n",
       "      <td>False</td>\n",
       "      <td>False</td>\n",
       "      <td>False</td>\n",
       "    </tr>\n",
       "    <tr>\n",
       "      <th>IRQ</th>\n",
       "      <td>False</td>\n",
       "      <td>False</td>\n",
       "      <td>False</td>\n",
       "      <td>False</td>\n",
       "      <td>False</td>\n",
       "      <td>False</td>\n",
       "      <td>True</td>\n",
       "    </tr>\n",
       "    <tr>\n",
       "      <th>KWT</th>\n",
       "      <td>False</td>\n",
       "      <td>False</td>\n",
       "      <td>False</td>\n",
       "      <td>False</td>\n",
       "      <td>False</td>\n",
       "      <td>False</td>\n",
       "      <td>True</td>\n",
       "    </tr>\n",
       "    <tr>\n",
       "      <th>MRT</th>\n",
       "      <td>False</td>\n",
       "      <td>False</td>\n",
       "      <td>False</td>\n",
       "      <td>False</td>\n",
       "      <td>False</td>\n",
       "      <td>False</td>\n",
       "      <td>True</td>\n",
       "    </tr>\n",
       "    <tr>\n",
       "      <th>SAU</th>\n",
       "      <td>False</td>\n",
       "      <td>False</td>\n",
       "      <td>False</td>\n",
       "      <td>False</td>\n",
       "      <td>False</td>\n",
       "      <td>False</td>\n",
       "      <td>True</td>\n",
       "    </tr>\n",
       "    <tr>\n",
       "      <th>ZMB</th>\n",
       "      <td>False</td>\n",
       "      <td>False</td>\n",
       "      <td>False</td>\n",
       "      <td>False</td>\n",
       "      <td>True</td>\n",
       "      <td>False</td>\n",
       "      <td>False</td>\n",
       "    </tr>\n",
       "  </tbody>\n",
       "</table>\n",
       "</div>"
      ],
      "text/plain": [
       "              Surface  Population    GNI  Gvnt_health_exp  Food Deficit  \\\n",
       "Country Code                                                              \n",
       "BLZ             False       False  False             True         False   \n",
       "BRA              True       False   True            False         False   \n",
       "CHN              True        True   True            False         False   \n",
       "COG             False       False  False            False         False   \n",
       "HTI             False       False  False            False          True   \n",
       "IND             False        True  False            False         False   \n",
       "IRQ             False       False  False            False         False   \n",
       "KWT             False       False  False            False         False   \n",
       "MRT             False       False  False            False         False   \n",
       "SAU             False       False  False            False         False   \n",
       "ZMB             False       False  False            False          True   \n",
       "\n",
       "              Life expectancy  Nat_resources_rents  \n",
       "Country Code                                        \n",
       "BLZ                     False                False  \n",
       "BRA                     False                False  \n",
       "CHN                     False                False  \n",
       "COG                     False                 True  \n",
       "HTI                     False                False  \n",
       "IND                     False                False  \n",
       "IRQ                     False                 True  \n",
       "KWT                     False                 True  \n",
       "MRT                     False                 True  \n",
       "SAU                     False                 True  \n",
       "ZMB                     False                False  "
      ]
     },
     "execution_count": 30,
     "metadata": {},
     "output_type": "execute_result"
    }
   ],
   "source": [
    "mask2.loc[sorted(list(set(outliers2.index)))]"
   ]
  },
  {
   "cell_type": "code",
   "execution_count": 31,
   "metadata": {},
   "outputs": [
    {
     "data": {
      "text/html": [
       "<div>\n",
       "<style scoped>\n",
       "    .dataframe tbody tr th:only-of-type {\n",
       "        vertical-align: middle;\n",
       "    }\n",
       "\n",
       "    .dataframe tbody tr th {\n",
       "        vertical-align: top;\n",
       "    }\n",
       "\n",
       "    .dataframe thead th {\n",
       "        text-align: right;\n",
       "    }\n",
       "</style>\n",
       "<table border=\"1\" class=\"dataframe\">\n",
       "  <thead>\n",
       "    <tr style=\"text-align: right;\">\n",
       "      <th></th>\n",
       "      <th>Country Name</th>\n",
       "      <th>Surface</th>\n",
       "      <th>Population</th>\n",
       "      <th>GNI</th>\n",
       "      <th>Gvnt_health_exp</th>\n",
       "      <th>Food Deficit</th>\n",
       "      <th>Life expectancy</th>\n",
       "      <th>Nat_resources_rents</th>\n",
       "    </tr>\n",
       "    <tr>\n",
       "      <th>Country Code</th>\n",
       "      <th></th>\n",
       "      <th></th>\n",
       "      <th></th>\n",
       "      <th></th>\n",
       "      <th></th>\n",
       "      <th></th>\n",
       "      <th></th>\n",
       "      <th></th>\n",
       "    </tr>\n",
       "  </thead>\n",
       "  <tbody>\n",
       "    <tr>\n",
       "      <th>BLZ</th>\n",
       "      <td>Belize</td>\n",
       "      <td>22970.0</td>\n",
       "      <td>321608</td>\n",
       "      <td>1.239593e+09</td>\n",
       "      <td>41.644164</td>\n",
       "      <td>36.0</td>\n",
       "      <td>69.676</td>\n",
       "      <td>4.992062</td>\n",
       "    </tr>\n",
       "    <tr>\n",
       "      <th>BRA</th>\n",
       "      <td>Brazil</td>\n",
       "      <td>8515770.0</td>\n",
       "      <td>196796269</td>\n",
       "      <td>2.144024e+12</td>\n",
       "      <td>8.392290</td>\n",
       "      <td>17.0</td>\n",
       "      <td>73.838</td>\n",
       "      <td>4.452136</td>\n",
       "    </tr>\n",
       "    <tr>\n",
       "      <th>CHN</th>\n",
       "      <td>China</td>\n",
       "      <td>9562911.0</td>\n",
       "      <td>1337705000</td>\n",
       "      <td>6.074549e+12</td>\n",
       "      <td>9.447319</td>\n",
       "      <td>108.0</td>\n",
       "      <td>75.236</td>\n",
       "      <td>6.249178</td>\n",
       "    </tr>\n",
       "    <tr>\n",
       "      <th>COG</th>\n",
       "      <td>Congo, Rep.</td>\n",
       "      <td>342000.0</td>\n",
       "      <td>4386693</td>\n",
       "      <td>9.024207e+09</td>\n",
       "      <td>4.226890</td>\n",
       "      <td>226.0</td>\n",
       "      <td>60.473</td>\n",
       "      <td>49.144419</td>\n",
       "    </tr>\n",
       "    <tr>\n",
       "      <th>HTI</th>\n",
       "      <td>Haiti</td>\n",
       "      <td>27750.0</td>\n",
       "      <td>9999617</td>\n",
       "      <td>6.644822e+09</td>\n",
       "      <td>2.545283</td>\n",
       "      <td>524.0</td>\n",
       "      <td>61.296</td>\n",
       "      <td>1.192176</td>\n",
       "    </tr>\n",
       "    <tr>\n",
       "      <th>IND</th>\n",
       "      <td>India</td>\n",
       "      <td>3287260.0</td>\n",
       "      <td>1230980691</td>\n",
       "      <td>1.638663e+12</td>\n",
       "      <td>3.169405</td>\n",
       "      <td>115.0</td>\n",
       "      <td>66.625</td>\n",
       "      <td>4.671042</td>\n",
       "    </tr>\n",
       "    <tr>\n",
       "      <th>IRQ</th>\n",
       "      <td>Iraq</td>\n",
       "      <td>435240.0</td>\n",
       "      <td>30762701</td>\n",
       "      <td>1.401081e+11</td>\n",
       "      <td>4.814162</td>\n",
       "      <td>209.0</td>\n",
       "      <td>68.465</td>\n",
       "      <td>41.477584</td>\n",
       "    </tr>\n",
       "    <tr>\n",
       "      <th>KWT</th>\n",
       "      <td>Kuwait</td>\n",
       "      <td>17820.0</td>\n",
       "      <td>2998083</td>\n",
       "      <td>1.238811e+11</td>\n",
       "      <td>5.216216</td>\n",
       "      <td>11.0</td>\n",
       "      <td>73.979</td>\n",
       "      <td>48.295617</td>\n",
       "    </tr>\n",
       "    <tr>\n",
       "      <th>MRT</th>\n",
       "      <td>Mauritania</td>\n",
       "      <td>1030700.0</td>\n",
       "      <td>3609543</td>\n",
       "      <td>4.274665e+09</td>\n",
       "      <td>4.222889</td>\n",
       "      <td>54.0</td>\n",
       "      <td>61.997</td>\n",
       "      <td>48.699262</td>\n",
       "    </tr>\n",
       "    <tr>\n",
       "      <th>SAU</th>\n",
       "      <td>Saudi Arabia</td>\n",
       "      <td>2149690.0</td>\n",
       "      <td>27425676</td>\n",
       "      <td>5.352515e+11</td>\n",
       "      <td>6.669300</td>\n",
       "      <td>18.0</td>\n",
       "      <td>73.574</td>\n",
       "      <td>40.934170</td>\n",
       "    </tr>\n",
       "    <tr>\n",
       "      <th>ZMB</th>\n",
       "      <td>Zambia</td>\n",
       "      <td>752610.0</td>\n",
       "      <td>13850033</td>\n",
       "      <td>1.890254e+10</td>\n",
       "      <td>3.313305</td>\n",
       "      <td>455.0</td>\n",
       "      <td>56.588</td>\n",
       "      <td>21.387444</td>\n",
       "    </tr>\n",
       "  </tbody>\n",
       "</table>\n",
       "</div>"
      ],
      "text/plain": [
       "              Country Name    Surface  Population           GNI  \\\n",
       "Country Code                                                      \n",
       "BLZ                 Belize    22970.0      321608  1.239593e+09   \n",
       "BRA                 Brazil  8515770.0   196796269  2.144024e+12   \n",
       "CHN                  China  9562911.0  1337705000  6.074549e+12   \n",
       "COG            Congo, Rep.   342000.0     4386693  9.024207e+09   \n",
       "HTI                  Haiti    27750.0     9999617  6.644822e+09   \n",
       "IND                  India  3287260.0  1230980691  1.638663e+12   \n",
       "IRQ                   Iraq   435240.0    30762701  1.401081e+11   \n",
       "KWT                 Kuwait    17820.0     2998083  1.238811e+11   \n",
       "MRT             Mauritania  1030700.0     3609543  4.274665e+09   \n",
       "SAU           Saudi Arabia  2149690.0    27425676  5.352515e+11   \n",
       "ZMB                 Zambia   752610.0    13850033  1.890254e+10   \n",
       "\n",
       "              Gvnt_health_exp  Food Deficit  Life expectancy  \\\n",
       "Country Code                                                   \n",
       "BLZ                 41.644164          36.0           69.676   \n",
       "BRA                  8.392290          17.0           73.838   \n",
       "CHN                  9.447319         108.0           75.236   \n",
       "COG                  4.226890         226.0           60.473   \n",
       "HTI                  2.545283         524.0           61.296   \n",
       "IND                  3.169405         115.0           66.625   \n",
       "IRQ                  4.814162         209.0           68.465   \n",
       "KWT                  5.216216          11.0           73.979   \n",
       "MRT                  4.222889          54.0           61.997   \n",
       "SAU                  6.669300          18.0           73.574   \n",
       "ZMB                  3.313305         455.0           56.588   \n",
       "\n",
       "              Nat_resources_rents  \n",
       "Country Code                       \n",
       "BLZ                      4.992062  \n",
       "BRA                      4.452136  \n",
       "CHN                      6.249178  \n",
       "COG                     49.144419  \n",
       "HTI                      1.192176  \n",
       "IND                      4.671042  \n",
       "IRQ                     41.477584  \n",
       "KWT                     48.295617  \n",
       "MRT                     48.699262  \n",
       "SAU                     40.934170  \n",
       "ZMB                     21.387444  "
      ]
     },
     "execution_count": 31,
     "metadata": {},
     "output_type": "execute_result"
    }
   ],
   "source": [
    "data.loc[sorted(list(set(outliers2.index)))]"
   ]
  },
  {
   "cell_type": "code",
   "execution_count": 32,
   "metadata": {},
   "outputs": [
    {
     "data": {
      "text/html": [
       "<div>\n",
       "<style scoped>\n",
       "    .dataframe tbody tr th:only-of-type {\n",
       "        vertical-align: middle;\n",
       "    }\n",
       "\n",
       "    .dataframe tbody tr th {\n",
       "        vertical-align: top;\n",
       "    }\n",
       "\n",
       "    .dataframe thead th {\n",
       "        text-align: right;\n",
       "    }\n",
       "</style>\n",
       "<table border=\"1\" class=\"dataframe\">\n",
       "  <thead>\n",
       "    <tr style=\"text-align: right;\">\n",
       "      <th></th>\n",
       "      <th>Surface</th>\n",
       "      <th>Population</th>\n",
       "      <th>GNI</th>\n",
       "      <th>Gvnt_health_exp</th>\n",
       "      <th>Food Deficit</th>\n",
       "      <th>Life expectancy</th>\n",
       "      <th>Nat_resources_rents</th>\n",
       "    </tr>\n",
       "    <tr>\n",
       "      <th>Country Code</th>\n",
       "      <th></th>\n",
       "      <th></th>\n",
       "      <th></th>\n",
       "      <th></th>\n",
       "      <th></th>\n",
       "      <th></th>\n",
       "      <th></th>\n",
       "    </tr>\n",
       "  </thead>\n",
       "  <tbody>\n",
       "    <tr>\n",
       "      <th>IND</th>\n",
       "      <td>3287260.0</td>\n",
       "      <td>1230980691</td>\n",
       "      <td>1.638663e+12</td>\n",
       "      <td>3.169405</td>\n",
       "      <td>115.0</td>\n",
       "      <td>66.625</td>\n",
       "      <td>4.671042</td>\n",
       "    </tr>\n",
       "    <tr>\n",
       "      <th>CHN</th>\n",
       "      <td>9562911.0</td>\n",
       "      <td>1337705000</td>\n",
       "      <td>6.074549e+12</td>\n",
       "      <td>9.447319</td>\n",
       "      <td>108.0</td>\n",
       "      <td>75.236</td>\n",
       "      <td>6.249178</td>\n",
       "    </tr>\n",
       "    <tr>\n",
       "      <th>ZMB</th>\n",
       "      <td>752610.0</td>\n",
       "      <td>13850033</td>\n",
       "      <td>1.890254e+10</td>\n",
       "      <td>3.313305</td>\n",
       "      <td>455.0</td>\n",
       "      <td>56.588</td>\n",
       "      <td>21.387444</td>\n",
       "    </tr>\n",
       "    <tr>\n",
       "      <th>BLZ</th>\n",
       "      <td>22970.0</td>\n",
       "      <td>321608</td>\n",
       "      <td>1.239593e+09</td>\n",
       "      <td>41.644164</td>\n",
       "      <td>36.0</td>\n",
       "      <td>69.676</td>\n",
       "      <td>4.992062</td>\n",
       "    </tr>\n",
       "    <tr>\n",
       "      <th>BRA</th>\n",
       "      <td>8515770.0</td>\n",
       "      <td>196796269</td>\n",
       "      <td>2.144024e+12</td>\n",
       "      <td>8.392290</td>\n",
       "      <td>17.0</td>\n",
       "      <td>73.838</td>\n",
       "      <td>4.452136</td>\n",
       "    </tr>\n",
       "    <tr>\n",
       "      <th>HTI</th>\n",
       "      <td>27750.0</td>\n",
       "      <td>9999617</td>\n",
       "      <td>6.644822e+09</td>\n",
       "      <td>2.545283</td>\n",
       "      <td>524.0</td>\n",
       "      <td>61.296</td>\n",
       "      <td>1.192176</td>\n",
       "    </tr>\n",
       "  </tbody>\n",
       "</table>\n",
       "</div>"
      ],
      "text/plain": [
       "                Surface  Population           GNI  Gvnt_health_exp  \\\n",
       "Country Code                                                         \n",
       "IND           3287260.0  1230980691  1.638663e+12         3.169405   \n",
       "CHN           9562911.0  1337705000  6.074549e+12         9.447319   \n",
       "ZMB            752610.0    13850033  1.890254e+10         3.313305   \n",
       "BLZ             22970.0      321608  1.239593e+09        41.644164   \n",
       "BRA           8515770.0   196796269  2.144024e+12         8.392290   \n",
       "HTI             27750.0     9999617  6.644822e+09         2.545283   \n",
       "\n",
       "              Food Deficit  Life expectancy  Nat_resources_rents  \n",
       "Country Code                                                      \n",
       "IND                  115.0           66.625             4.671042  \n",
       "CHN                  108.0           75.236             6.249178  \n",
       "ZMB                  455.0           56.588            21.387444  \n",
       "BLZ                   36.0           69.676             4.992062  \n",
       "BRA                   17.0           73.838             4.452136  \n",
       "HTI                  524.0           61.296             1.192176  "
      ]
     },
     "execution_count": 32,
     "metadata": {},
     "output_type": "execute_result"
    }
   ],
   "source": [
    "# we keep outliers not related to nat. ressources\n",
    "mask2bis=mask2.iloc[:,:6]\n",
    "outliers2bis = datan[mask2bis.any(axis=1)]\n",
    "outliers2bis"
   ]
  },
  {
   "cell_type": "markdown",
   "metadata": {},
   "source": [
    "We decided to remove both Haïti and Zambia, because they appear as outliers for our Food Deficit indicator, which is already given in kilocalories per person per day. As for the others outliers, we decided to calculate Density instead of keeping Surface and Population, and divided GNI by the population, so that it is expressed as a ratio of the total population."
   ]
  },
  {
   "cell_type": "code",
   "execution_count": 33,
   "metadata": {},
   "outputs": [],
   "source": [
    "datanbis=datan.copy(deep=True)\n",
    "Density=datanbis.iloc[:,1]/datanbis.iloc[:,0]\n",
    "datanbis.iloc[:,2]=datanbis.iloc[:,2]/datanbis.iloc[:,1]\n",
    "datanbis=datanbis.drop(columns=\"Population\")"
   ]
  },
  {
   "cell_type": "code",
   "execution_count": 34,
   "metadata": {},
   "outputs": [
    {
     "data": {
      "text/plain": [
       "111"
      ]
     },
     "execution_count": 34,
     "metadata": {},
     "output_type": "execute_result"
    }
   ],
   "source": [
    "datanbis.iloc[:,0]=Density\n",
    "datanbis=datanbis.rename({\"Surface\":\"Density\"}, axis='columns')\n",
    "len(datanbis)"
   ]
  },
  {
   "cell_type": "code",
   "execution_count": 35,
   "metadata": {},
   "outputs": [
    {
     "data": {
      "text/html": [
       "<div>\n",
       "<style scoped>\n",
       "    .dataframe tbody tr th:only-of-type {\n",
       "        vertical-align: middle;\n",
       "    }\n",
       "\n",
       "    .dataframe tbody tr th {\n",
       "        vertical-align: top;\n",
       "    }\n",
       "\n",
       "    .dataframe thead th {\n",
       "        text-align: right;\n",
       "    }\n",
       "</style>\n",
       "<table border=\"1\" class=\"dataframe\">\n",
       "  <thead>\n",
       "    <tr style=\"text-align: right;\">\n",
       "      <th></th>\n",
       "      <th>Density</th>\n",
       "      <th>GNI</th>\n",
       "      <th>Gvnt_health_exp</th>\n",
       "      <th>Food Deficit</th>\n",
       "      <th>Life expectancy</th>\n",
       "      <th>Nat_resources_rents</th>\n",
       "    </tr>\n",
       "    <tr>\n",
       "      <th>Country Code</th>\n",
       "      <th></th>\n",
       "      <th></th>\n",
       "      <th></th>\n",
       "      <th></th>\n",
       "      <th></th>\n",
       "      <th></th>\n",
       "    </tr>\n",
       "  </thead>\n",
       "  <tbody>\n",
       "    <tr>\n",
       "      <th>AFG</th>\n",
       "      <td>44.118443</td>\n",
       "      <td>555.452845</td>\n",
       "      <td>2.255471</td>\n",
       "      <td>158.0</td>\n",
       "      <td>61.226</td>\n",
       "      <td>0.732845</td>\n",
       "    </tr>\n",
       "    <tr>\n",
       "      <th>BGD</th>\n",
       "      <td>1024.849131</td>\n",
       "      <td>819.045892</td>\n",
       "      <td>4.071213</td>\n",
       "      <td>119.0</td>\n",
       "      <td>70.198</td>\n",
       "      <td>1.309144</td>\n",
       "    </tr>\n",
       "    <tr>\n",
       "      <th>IND</th>\n",
       "      <td>374.470133</td>\n",
       "      <td>1331.185348</td>\n",
       "      <td>3.169405</td>\n",
       "      <td>115.0</td>\n",
       "      <td>66.625</td>\n",
       "      <td>4.671042</td>\n",
       "    </tr>\n",
       "    <tr>\n",
       "      <th>MDV</th>\n",
       "      <td>1215.036667</td>\n",
       "      <td>6246.514208</td>\n",
       "      <td>13.603584</td>\n",
       "      <td>79.0</td>\n",
       "      <td>76.112</td>\n",
       "      <td>0.008966</td>\n",
       "    </tr>\n",
       "    <tr>\n",
       "      <th>NPL</th>\n",
       "      <td>183.606040</td>\n",
       "      <td>596.709892</td>\n",
       "      <td>4.802811</td>\n",
       "      <td>74.0</td>\n",
       "      <td>67.914</td>\n",
       "      <td>1.470750</td>\n",
       "    </tr>\n",
       "  </tbody>\n",
       "</table>\n",
       "</div>"
      ],
      "text/plain": [
       "                  Density          GNI  Gvnt_health_exp  Food Deficit  \\\n",
       "Country Code                                                            \n",
       "AFG             44.118443   555.452845         2.255471         158.0   \n",
       "BGD           1024.849131   819.045892         4.071213         119.0   \n",
       "IND            374.470133  1331.185348         3.169405         115.0   \n",
       "MDV           1215.036667  6246.514208        13.603584          79.0   \n",
       "NPL            183.606040   596.709892         4.802811          74.0   \n",
       "\n",
       "              Life expectancy  Nat_resources_rents  \n",
       "Country Code                                        \n",
       "AFG                    61.226             0.732845  \n",
       "BGD                    70.198             1.309144  \n",
       "IND                    66.625             4.671042  \n",
       "MDV                    76.112             0.008966  \n",
       "NPL                    67.914             1.470750  "
      ]
     },
     "execution_count": 35,
     "metadata": {},
     "output_type": "execute_result"
    }
   ],
   "source": [
    "datanbis.head()"
   ]
  },
  {
   "cell_type": "code",
   "execution_count": 36,
   "metadata": {},
   "outputs": [
    {
     "data": {
      "text/html": [
       "<div>\n",
       "<style scoped>\n",
       "    .dataframe tbody tr th:only-of-type {\n",
       "        vertical-align: middle;\n",
       "    }\n",
       "\n",
       "    .dataframe tbody tr th {\n",
       "        vertical-align: top;\n",
       "    }\n",
       "\n",
       "    .dataframe thead th {\n",
       "        text-align: right;\n",
       "    }\n",
       "</style>\n",
       "<table border=\"1\" class=\"dataframe\">\n",
       "  <thead>\n",
       "    <tr style=\"text-align: right;\">\n",
       "      <th></th>\n",
       "      <th>Density</th>\n",
       "      <th>GNI</th>\n",
       "      <th>Gvnt_health_exp</th>\n",
       "      <th>Food Deficit</th>\n",
       "      <th>Life expectancy</th>\n",
       "      <th>Nat_resources_rents</th>\n",
       "    </tr>\n",
       "    <tr>\n",
       "      <th>Country Code</th>\n",
       "      <th></th>\n",
       "      <th></th>\n",
       "      <th></th>\n",
       "      <th></th>\n",
       "      <th></th>\n",
       "      <th></th>\n",
       "    </tr>\n",
       "  </thead>\n",
       "  <tbody>\n",
       "    <tr>\n",
       "      <th>ARE</th>\n",
       "      <td>98.931627</td>\n",
       "      <td>35037.098572</td>\n",
       "      <td>8.526791</td>\n",
       "      <td>35.0</td>\n",
       "      <td>76.344000</td>\n",
       "      <td>20.580810</td>\n",
       "    </tr>\n",
       "    <tr>\n",
       "      <th>BGD</th>\n",
       "      <td>1024.849131</td>\n",
       "      <td>819.045892</td>\n",
       "      <td>4.071213</td>\n",
       "      <td>119.0</td>\n",
       "      <td>70.198000</td>\n",
       "      <td>1.309144</td>\n",
       "    </tr>\n",
       "    <tr>\n",
       "      <th>BLZ</th>\n",
       "      <td>14.001219</td>\n",
       "      <td>3854.358722</td>\n",
       "      <td>41.644164</td>\n",
       "      <td>36.0</td>\n",
       "      <td>69.676000</td>\n",
       "      <td>4.992062</td>\n",
       "    </tr>\n",
       "    <tr>\n",
       "      <th>BRB</th>\n",
       "      <td>650.160465</td>\n",
       "      <td>15602.767117</td>\n",
       "      <td>9.003511</td>\n",
       "      <td>32.0</td>\n",
       "      <td>74.973000</td>\n",
       "      <td>0.357216</td>\n",
       "    </tr>\n",
       "    <tr>\n",
       "      <th>BRN</th>\n",
       "      <td>67.359099</td>\n",
       "      <td>35009.581649</td>\n",
       "      <td>5.776835</td>\n",
       "      <td>18.0</td>\n",
       "      <td>76.719000</td>\n",
       "      <td>19.628028</td>\n",
       "    </tr>\n",
       "    <tr>\n",
       "      <th>HTI</th>\n",
       "      <td>360.346559</td>\n",
       "      <td>664.507604</td>\n",
       "      <td>2.545283</td>\n",
       "      <td>524.0</td>\n",
       "      <td>61.296000</td>\n",
       "      <td>1.192176</td>\n",
       "    </tr>\n",
       "    <tr>\n",
       "      <th>KWT</th>\n",
       "      <td>168.242593</td>\n",
       "      <td>41320.087183</td>\n",
       "      <td>5.216216</td>\n",
       "      <td>11.0</td>\n",
       "      <td>73.979000</td>\n",
       "      <td>48.295617</td>\n",
       "    </tr>\n",
       "    <tr>\n",
       "      <th>MDV</th>\n",
       "      <td>1215.036667</td>\n",
       "      <td>6246.514208</td>\n",
       "      <td>13.603584</td>\n",
       "      <td>79.0</td>\n",
       "      <td>76.112000</td>\n",
       "      <td>0.008966</td>\n",
       "    </tr>\n",
       "    <tr>\n",
       "      <th>MUS</th>\n",
       "      <td>612.941176</td>\n",
       "      <td>8095.978692</td>\n",
       "      <td>8.087430</td>\n",
       "      <td>37.0</td>\n",
       "      <td>72.967317</td>\n",
       "      <td>0.006834</td>\n",
       "    </tr>\n",
       "    <tr>\n",
       "      <th>ZMB</th>\n",
       "      <td>18.402669</td>\n",
       "      <td>1364.801384</td>\n",
       "      <td>3.313305</td>\n",
       "      <td>455.0</td>\n",
       "      <td>56.588000</td>\n",
       "      <td>21.387444</td>\n",
       "    </tr>\n",
       "  </tbody>\n",
       "</table>\n",
       "</div>"
      ],
      "text/plain": [
       "                  Density           GNI  Gvnt_health_exp  Food Deficit  \\\n",
       "Country Code                                                             \n",
       "ARE             98.931627  35037.098572         8.526791          35.0   \n",
       "BGD           1024.849131    819.045892         4.071213         119.0   \n",
       "BLZ             14.001219   3854.358722        41.644164          36.0   \n",
       "BRB            650.160465  15602.767117         9.003511          32.0   \n",
       "BRN             67.359099  35009.581649         5.776835          18.0   \n",
       "HTI            360.346559    664.507604         2.545283         524.0   \n",
       "KWT            168.242593  41320.087183         5.216216          11.0   \n",
       "MDV           1215.036667   6246.514208        13.603584          79.0   \n",
       "MUS            612.941176   8095.978692         8.087430          37.0   \n",
       "ZMB             18.402669   1364.801384         3.313305         455.0   \n",
       "\n",
       "              Life expectancy  Nat_resources_rents  \n",
       "Country Code                                        \n",
       "ARE                 76.344000            20.580810  \n",
       "BGD                 70.198000             1.309144  \n",
       "BLZ                 69.676000             4.992062  \n",
       "BRB                 74.973000             0.357216  \n",
       "BRN                 76.719000            19.628028  \n",
       "HTI                 61.296000             1.192176  \n",
       "KWT                 73.979000            48.295617  \n",
       "MDV                 76.112000             0.008966  \n",
       "MUS                 72.967317             0.006834  \n",
       "ZMB                 56.588000            21.387444  "
      ]
     },
     "execution_count": 36,
     "metadata": {},
     "output_type": "execute_result"
    }
   ],
   "source": [
    "threshold = 2.5\n",
    "mask3 = np.abs(datanbis) > datanbis.mean()+threshold*datanbis.std()\n",
    "outliers3 = datanbis[mask3.any(axis=1)]\n",
    "# we keep outliers not related to nat. ressources\n",
    "mask3=mask3.iloc[:,:5]\n",
    "outliers3 = datanbis[mask3.any(axis=1)]\n",
    "outliers3.loc[sorted(list(set(outliers3.index)))]"
   ]
  },
  {
   "cell_type": "code",
   "execution_count": 37,
   "metadata": {},
   "outputs": [
    {
     "data": {
      "text/html": [
       "<div>\n",
       "<style scoped>\n",
       "    .dataframe tbody tr th:only-of-type {\n",
       "        vertical-align: middle;\n",
       "    }\n",
       "\n",
       "    .dataframe tbody tr th {\n",
       "        vertical-align: top;\n",
       "    }\n",
       "\n",
       "    .dataframe thead th {\n",
       "        text-align: right;\n",
       "    }\n",
       "</style>\n",
       "<table border=\"1\" class=\"dataframe\">\n",
       "  <thead>\n",
       "    <tr style=\"text-align: right;\">\n",
       "      <th></th>\n",
       "      <th>Density</th>\n",
       "      <th>GNI</th>\n",
       "      <th>Gvnt_health_exp</th>\n",
       "      <th>Food Deficit</th>\n",
       "      <th>Life expectancy</th>\n",
       "    </tr>\n",
       "    <tr>\n",
       "      <th>Country Code</th>\n",
       "      <th></th>\n",
       "      <th></th>\n",
       "      <th></th>\n",
       "      <th></th>\n",
       "      <th></th>\n",
       "    </tr>\n",
       "  </thead>\n",
       "  <tbody>\n",
       "    <tr>\n",
       "      <th>ARE</th>\n",
       "      <td>False</td>\n",
       "      <td>True</td>\n",
       "      <td>False</td>\n",
       "      <td>False</td>\n",
       "      <td>False</td>\n",
       "    </tr>\n",
       "    <tr>\n",
       "      <th>BGD</th>\n",
       "      <td>True</td>\n",
       "      <td>False</td>\n",
       "      <td>False</td>\n",
       "      <td>False</td>\n",
       "      <td>False</td>\n",
       "    </tr>\n",
       "    <tr>\n",
       "      <th>BLZ</th>\n",
       "      <td>False</td>\n",
       "      <td>False</td>\n",
       "      <td>True</td>\n",
       "      <td>False</td>\n",
       "      <td>False</td>\n",
       "    </tr>\n",
       "    <tr>\n",
       "      <th>BRB</th>\n",
       "      <td>True</td>\n",
       "      <td>False</td>\n",
       "      <td>False</td>\n",
       "      <td>False</td>\n",
       "      <td>False</td>\n",
       "    </tr>\n",
       "    <tr>\n",
       "      <th>BRN</th>\n",
       "      <td>False</td>\n",
       "      <td>True</td>\n",
       "      <td>False</td>\n",
       "      <td>False</td>\n",
       "      <td>False</td>\n",
       "    </tr>\n",
       "    <tr>\n",
       "      <th>HTI</th>\n",
       "      <td>False</td>\n",
       "      <td>False</td>\n",
       "      <td>False</td>\n",
       "      <td>True</td>\n",
       "      <td>False</td>\n",
       "    </tr>\n",
       "    <tr>\n",
       "      <th>KWT</th>\n",
       "      <td>False</td>\n",
       "      <td>True</td>\n",
       "      <td>False</td>\n",
       "      <td>False</td>\n",
       "      <td>False</td>\n",
       "    </tr>\n",
       "    <tr>\n",
       "      <th>MDV</th>\n",
       "      <td>True</td>\n",
       "      <td>False</td>\n",
       "      <td>False</td>\n",
       "      <td>False</td>\n",
       "      <td>False</td>\n",
       "    </tr>\n",
       "    <tr>\n",
       "      <th>MUS</th>\n",
       "      <td>True</td>\n",
       "      <td>False</td>\n",
       "      <td>False</td>\n",
       "      <td>False</td>\n",
       "      <td>False</td>\n",
       "    </tr>\n",
       "    <tr>\n",
       "      <th>ZMB</th>\n",
       "      <td>False</td>\n",
       "      <td>False</td>\n",
       "      <td>False</td>\n",
       "      <td>True</td>\n",
       "      <td>False</td>\n",
       "    </tr>\n",
       "  </tbody>\n",
       "</table>\n",
       "</div>"
      ],
      "text/plain": [
       "              Density    GNI  Gvnt_health_exp  Food Deficit  Life expectancy\n",
       "Country Code                                                                \n",
       "ARE             False   True            False         False            False\n",
       "BGD              True  False            False         False            False\n",
       "BLZ             False  False             True         False            False\n",
       "BRB              True  False            False         False            False\n",
       "BRN             False   True            False         False            False\n",
       "HTI             False  False            False          True            False\n",
       "KWT             False   True            False         False            False\n",
       "MDV              True  False            False         False            False\n",
       "MUS              True  False            False         False            False\n",
       "ZMB             False  False            False          True            False"
      ]
     },
     "execution_count": 37,
     "metadata": {},
     "output_type": "execute_result"
    }
   ],
   "source": [
    "mask3.loc[sorted(list(set(outliers3.index)))]"
   ]
  },
  {
   "cell_type": "markdown",
   "metadata": {},
   "source": [
    "As there are even more outliers with transformed data, we keep the former dataframe and remove the outliers previously identified"
   ]
  },
  {
   "cell_type": "code",
   "execution_count": 38,
   "metadata": {
    "scrolled": true
   },
   "outputs": [
    {
     "data": {
      "text/html": [
       "<div>\n",
       "<style scoped>\n",
       "    .dataframe tbody tr th:only-of-type {\n",
       "        vertical-align: middle;\n",
       "    }\n",
       "\n",
       "    .dataframe tbody tr th {\n",
       "        vertical-align: top;\n",
       "    }\n",
       "\n",
       "    .dataframe thead th {\n",
       "        text-align: right;\n",
       "    }\n",
       "</style>\n",
       "<table border=\"1\" class=\"dataframe\">\n",
       "  <thead>\n",
       "    <tr style=\"text-align: right;\">\n",
       "      <th></th>\n",
       "      <th>Surface</th>\n",
       "      <th>Population</th>\n",
       "      <th>GNI</th>\n",
       "      <th>Gvnt_health_exp</th>\n",
       "      <th>Food Deficit</th>\n",
       "      <th>Life expectancy</th>\n",
       "      <th>Nat_resources_rents</th>\n",
       "    </tr>\n",
       "    <tr>\n",
       "      <th>Country Code</th>\n",
       "      <th></th>\n",
       "      <th></th>\n",
       "      <th></th>\n",
       "      <th></th>\n",
       "      <th></th>\n",
       "      <th></th>\n",
       "      <th></th>\n",
       "    </tr>\n",
       "  </thead>\n",
       "  <tbody>\n",
       "    <tr>\n",
       "      <th>IND</th>\n",
       "      <td>3287260.0</td>\n",
       "      <td>1230980691</td>\n",
       "      <td>1.638663e+12</td>\n",
       "      <td>3.169405</td>\n",
       "      <td>115.0</td>\n",
       "      <td>66.625</td>\n",
       "      <td>4.671042</td>\n",
       "    </tr>\n",
       "    <tr>\n",
       "      <th>CHN</th>\n",
       "      <td>9562911.0</td>\n",
       "      <td>1337705000</td>\n",
       "      <td>6.074549e+12</td>\n",
       "      <td>9.447319</td>\n",
       "      <td>108.0</td>\n",
       "      <td>75.236</td>\n",
       "      <td>6.249178</td>\n",
       "    </tr>\n",
       "    <tr>\n",
       "      <th>ZMB</th>\n",
       "      <td>752610.0</td>\n",
       "      <td>13850033</td>\n",
       "      <td>1.890254e+10</td>\n",
       "      <td>3.313305</td>\n",
       "      <td>455.0</td>\n",
       "      <td>56.588</td>\n",
       "      <td>21.387444</td>\n",
       "    </tr>\n",
       "    <tr>\n",
       "      <th>BLZ</th>\n",
       "      <td>22970.0</td>\n",
       "      <td>321608</td>\n",
       "      <td>1.239593e+09</td>\n",
       "      <td>41.644164</td>\n",
       "      <td>36.0</td>\n",
       "      <td>69.676</td>\n",
       "      <td>4.992062</td>\n",
       "    </tr>\n",
       "    <tr>\n",
       "      <th>BRA</th>\n",
       "      <td>8515770.0</td>\n",
       "      <td>196796269</td>\n",
       "      <td>2.144024e+12</td>\n",
       "      <td>8.392290</td>\n",
       "      <td>17.0</td>\n",
       "      <td>73.838</td>\n",
       "      <td>4.452136</td>\n",
       "    </tr>\n",
       "    <tr>\n",
       "      <th>HTI</th>\n",
       "      <td>27750.0</td>\n",
       "      <td>9999617</td>\n",
       "      <td>6.644822e+09</td>\n",
       "      <td>2.545283</td>\n",
       "      <td>524.0</td>\n",
       "      <td>61.296</td>\n",
       "      <td>1.192176</td>\n",
       "    </tr>\n",
       "  </tbody>\n",
       "</table>\n",
       "</div>"
      ],
      "text/plain": [
       "                Surface  Population           GNI  Gvnt_health_exp  \\\n",
       "Country Code                                                         \n",
       "IND           3287260.0  1230980691  1.638663e+12         3.169405   \n",
       "CHN           9562911.0  1337705000  6.074549e+12         9.447319   \n",
       "ZMB            752610.0    13850033  1.890254e+10         3.313305   \n",
       "BLZ             22970.0      321608  1.239593e+09        41.644164   \n",
       "BRA           8515770.0   196796269  2.144024e+12         8.392290   \n",
       "HTI             27750.0     9999617  6.644822e+09         2.545283   \n",
       "\n",
       "              Food Deficit  Life expectancy  Nat_resources_rents  \n",
       "Country Code                                                      \n",
       "IND                  115.0           66.625             4.671042  \n",
       "CHN                  108.0           75.236             6.249178  \n",
       "ZMB                  455.0           56.588            21.387444  \n",
       "BLZ                   36.0           69.676             4.992062  \n",
       "BRA                   17.0           73.838             4.452136  \n",
       "HTI                  524.0           61.296             1.192176  "
      ]
     },
     "execution_count": 38,
     "metadata": {},
     "output_type": "execute_result"
    }
   ],
   "source": [
    "outliers2bis"
   ]
  },
  {
   "cell_type": "code",
   "execution_count": 39,
   "metadata": {},
   "outputs": [
    {
     "data": {
      "text/html": [
       "<div>\n",
       "<style scoped>\n",
       "    .dataframe tbody tr th:only-of-type {\n",
       "        vertical-align: middle;\n",
       "    }\n",
       "\n",
       "    .dataframe tbody tr th {\n",
       "        vertical-align: top;\n",
       "    }\n",
       "\n",
       "    .dataframe thead th {\n",
       "        text-align: right;\n",
       "    }\n",
       "</style>\n",
       "<table border=\"1\" class=\"dataframe\">\n",
       "  <thead>\n",
       "    <tr style=\"text-align: right;\">\n",
       "      <th></th>\n",
       "      <th>Surface</th>\n",
       "      <th>Population</th>\n",
       "      <th>GNI</th>\n",
       "      <th>Gvnt_health_exp</th>\n",
       "      <th>Food Deficit</th>\n",
       "      <th>Life expectancy</th>\n",
       "      <th>Nat_resources_rents</th>\n",
       "    </tr>\n",
       "    <tr>\n",
       "      <th>Country Code</th>\n",
       "      <th></th>\n",
       "      <th></th>\n",
       "      <th></th>\n",
       "      <th></th>\n",
       "      <th></th>\n",
       "      <th></th>\n",
       "      <th></th>\n",
       "    </tr>\n",
       "  </thead>\n",
       "  <tbody>\n",
       "    <tr>\n",
       "      <th>AFG</th>\n",
       "      <td>652860.0</td>\n",
       "      <td>28803167</td>\n",
       "      <td>1.599880e+10</td>\n",
       "      <td>2.255471</td>\n",
       "      <td>158.0</td>\n",
       "      <td>61.226</td>\n",
       "      <td>0.732845</td>\n",
       "    </tr>\n",
       "    <tr>\n",
       "      <th>AGO</th>\n",
       "      <td>1246700.0</td>\n",
       "      <td>23369131</td>\n",
       "      <td>7.443928e+10</td>\n",
       "      <td>4.261282</td>\n",
       "      <td>149.0</td>\n",
       "      <td>58.192</td>\n",
       "      <td>39.037754</td>\n",
       "    </tr>\n",
       "    <tr>\n",
       "      <th>ARE</th>\n",
       "      <td>83600.0</td>\n",
       "      <td>8270684</td>\n",
       "      <td>2.897808e+11</td>\n",
       "      <td>8.526791</td>\n",
       "      <td>35.0</td>\n",
       "      <td>76.344</td>\n",
       "      <td>20.580810</td>\n",
       "    </tr>\n",
       "    <tr>\n",
       "      <th>ARG</th>\n",
       "      <td>2780400.0</td>\n",
       "      <td>41223889</td>\n",
       "      <td>4.091479e+11</td>\n",
       "      <td>11.692604</td>\n",
       "      <td>10.0</td>\n",
       "      <td>75.595</td>\n",
       "      <td>3.137998</td>\n",
       "    </tr>\n",
       "    <tr>\n",
       "      <th>ARM</th>\n",
       "      <td>29740.0</td>\n",
       "      <td>2877311</td>\n",
       "      <td>9.718566e+09</td>\n",
       "      <td>6.443148</td>\n",
       "      <td>43.0</td>\n",
       "      <td>73.331</td>\n",
       "      <td>2.992090</td>\n",
       "    </tr>\n",
       "  </tbody>\n",
       "</table>\n",
       "</div>"
      ],
      "text/plain": [
       "                Surface  Population           GNI  Gvnt_health_exp  \\\n",
       "Country Code                                                         \n",
       "AFG            652860.0    28803167  1.599880e+10         2.255471   \n",
       "AGO           1246700.0    23369131  7.443928e+10         4.261282   \n",
       "ARE             83600.0     8270684  2.897808e+11         8.526791   \n",
       "ARG           2780400.0    41223889  4.091479e+11        11.692604   \n",
       "ARM             29740.0     2877311  9.718566e+09         6.443148   \n",
       "\n",
       "              Food Deficit  Life expectancy  Nat_resources_rents  \n",
       "Country Code                                                      \n",
       "AFG                  158.0           61.226             0.732845  \n",
       "AGO                  149.0           58.192            39.037754  \n",
       "ARE                   35.0           76.344            20.580810  \n",
       "ARG                   10.0           75.595             3.137998  \n",
       "ARM                   43.0           73.331             2.992090  "
      ]
     },
     "execution_count": 39,
     "metadata": {},
     "output_type": "execute_result"
    }
   ],
   "source": [
    "datatri = datan.loc[sorted(list(set(datan.index).difference(set(outliers2bis.index))))]\n",
    "datatri.head()"
   ]
  },
  {
   "cell_type": "code",
   "execution_count": 40,
   "metadata": {},
   "outputs": [
    {
     "data": {
      "text/plain": [
       "105"
      ]
     },
     "execution_count": 40,
     "metadata": {},
     "output_type": "execute_result"
    }
   ],
   "source": [
    "len(datatri)"
   ]
  },
  {
   "cell_type": "markdown",
   "metadata": {},
   "source": [
    "# Correlation"
   ]
  },
  {
   "cell_type": "markdown",
   "metadata": {},
   "source": [
    "## dfautrestri"
   ]
  },
  {
   "cell_type": "code",
   "execution_count": 41,
   "metadata": {},
   "outputs": [
    {
     "data": {
      "text/plain": [
       "<matplotlib.axes._subplots.AxesSubplot at 0x7f2d2c62da90>"
      ]
     },
     "execution_count": 41,
     "metadata": {},
     "output_type": "execute_result"
    },
    {
     "data": {
      "image/png": "[encoded data removed]",
      "text/plain": [
       "<matplotlib.figure.Figure at 0x7f2d2d7c3150>"
      ]
     },
     "metadata": {},
     "output_type": "display_data"
    }
   ],
   "source": [
    "sns.heatmap(dfautrestri.corr(),annot=True)"
   ]
  },
  {
   "cell_type": "markdown",
   "metadata": {},
   "source": [
    "## datatri"
   ]
  },
  {
   "cell_type": "code",
   "execution_count": 42,
   "metadata": {},
   "outputs": [
    {
     "data": {
      "text/plain": [
       "<matplotlib.axes._subplots.AxesSubplot at 0x7f2d2c577190>"
      ]
     },
     "execution_count": 42,
     "metadata": {},
     "output_type": "execute_result"
    },
    {
     "data": {
      "image/png": "[encoded data removed]",
      "text/plain": [
       "<matplotlib.figure.Figure at 0x7f2d2fd60f50>"
      ]
     },
     "metadata": {},
     "output_type": "display_data"
    }
   ],
   "source": [
    "sns.heatmap(datatri.corr(),annot=True)"
   ]
  },
  {
   "cell_type": "markdown",
   "metadata": {},
   "source": [
    "# Normalize data "
   ]
  },
  {
   "cell_type": "markdown",
   "metadata": {},
   "source": [
    "## dfautrestri"
   ]
  },
  {
   "cell_type": "code",
   "execution_count": 43,
   "metadata": {},
   "outputs": [
    {
     "data": {
      "text/html": [
       "<div>\n",
       "<style scoped>\n",
       "    .dataframe tbody tr th:only-of-type {\n",
       "        vertical-align: middle;\n",
       "    }\n",
       "\n",
       "    .dataframe tbody tr th {\n",
       "        vertical-align: top;\n",
       "    }\n",
       "\n",
       "    .dataframe thead th {\n",
       "        text-align: right;\n",
       "    }\n",
       "</style>\n",
       "<table border=\"1\" class=\"dataframe\">\n",
       "  <thead>\n",
       "    <tr style=\"text-align: right;\">\n",
       "      <th></th>\n",
       "      <th>Gvnt_health_exp</th>\n",
       "      <th>Food Deficit</th>\n",
       "      <th>Life expectancy</th>\n",
       "      <th>Nat_resources_rents</th>\n",
       "    </tr>\n",
       "    <tr>\n",
       "      <th>Country Code</th>\n",
       "      <th></th>\n",
       "      <th></th>\n",
       "      <th></th>\n",
       "      <th></th>\n",
       "    </tr>\n",
       "  </thead>\n",
       "  <tbody>\n",
       "    <tr>\n",
       "      <th>AFG</th>\n",
       "      <td>2.255471</td>\n",
       "      <td>158.0</td>\n",
       "      <td>61.226</td>\n",
       "      <td>0.732845</td>\n",
       "    </tr>\n",
       "    <tr>\n",
       "      <th>AGO</th>\n",
       "      <td>4.261282</td>\n",
       "      <td>149.0</td>\n",
       "      <td>58.192</td>\n",
       "      <td>39.037754</td>\n",
       "    </tr>\n",
       "    <tr>\n",
       "      <th>ARE</th>\n",
       "      <td>8.526791</td>\n",
       "      <td>35.0</td>\n",
       "      <td>76.344</td>\n",
       "      <td>20.580810</td>\n",
       "    </tr>\n",
       "    <tr>\n",
       "      <th>ARG</th>\n",
       "      <td>11.692604</td>\n",
       "      <td>10.0</td>\n",
       "      <td>75.595</td>\n",
       "      <td>3.137998</td>\n",
       "    </tr>\n",
       "    <tr>\n",
       "      <th>ARM</th>\n",
       "      <td>6.443148</td>\n",
       "      <td>43.0</td>\n",
       "      <td>73.331</td>\n",
       "      <td>2.992090</td>\n",
       "    </tr>\n",
       "  </tbody>\n",
       "</table>\n",
       "</div>"
      ],
      "text/plain": [
       "              Gvnt_health_exp  Food Deficit  Life expectancy  \\\n",
       "Country Code                                                   \n",
       "AFG                  2.255471         158.0           61.226   \n",
       "AGO                  4.261282         149.0           58.192   \n",
       "ARE                  8.526791          35.0           76.344   \n",
       "ARG                 11.692604          10.0           75.595   \n",
       "ARM                  6.443148          43.0           73.331   \n",
       "\n",
       "              Nat_resources_rents  \n",
       "Country Code                       \n",
       "AFG                      0.732845  \n",
       "AGO                     39.037754  \n",
       "ARE                     20.580810  \n",
       "ARG                      3.137998  \n",
       "ARM                      2.992090  "
      ]
     },
     "execution_count": 43,
     "metadata": {},
     "output_type": "execute_result"
    }
   ],
   "source": [
    "Z_dfautrestri = (dfautrestri - dfautrestri.mean())/dfautrestri.std()\n",
    "dfautrestri.head()"
   ]
  },
  {
   "cell_type": "code",
   "execution_count": 44,
   "metadata": {},
   "outputs": [],
   "source": [
    "# Represent the data using the parallel coordinates method\n",
    "#from pandas.plotting import parallel_coordinates\n",
    "#parallel_coordinates(dfautresn,dfautresn.index, alpha=0.2)\n",
    "#plt.show()"
   ]
  },
  {
   "cell_type": "markdown",
   "metadata": {},
   "source": [
    "## datatri"
   ]
  },
  {
   "cell_type": "code",
   "execution_count": 45,
   "metadata": {},
   "outputs": [],
   "source": [
    "Z_datatri = (datatri - datatri.mean())/datatri.std()"
   ]
  },
  {
   "cell_type": "markdown",
   "metadata": {},
   "source": [
    "# Clustering (dfautrestri)"
   ]
  },
  {
   "cell_type": "markdown",
   "metadata": {},
   "source": [
    "## Hierarchical clustering"
   ]
  },
  {
   "cell_type": "code",
   "execution_count": 46,
   "metadata": {},
   "outputs": [
    {
     "data": {
      "text/plain": [
       "<seaborn.matrix.ClusterGrid at 0x7f2d2c4df750>"
      ]
     },
     "execution_count": 46,
     "metadata": {},
     "output_type": "execute_result"
    },
    {
     "data": {
      "image/png": "[encoded data removed]",
      "text/plain": [
       "<matplotlib.figure.Figure at 0x7f2d2c4df210>"
      ]
     },
     "metadata": {},
     "output_type": "display_data"
    }
   ],
   "source": [
    "sns.clustermap(Z_dfautrestri.T,method='complete')"
   ]
  },
  {
   "cell_type": "markdown",
   "metadata": {},
   "source": [
    "### agglomerative clustering"
   ]
  },
  {
   "cell_type": "code",
   "execution_count": 47,
   "metadata": {},
   "outputs": [],
   "source": [
    "agc = AgglomerativeClustering(n_clusters=4, affinity=\"euclidean\", linkage=\"average\")\n",
    "agc.fit(Z_dfautrestri)\n",
    "        \n",
    "dffdv = Z_dfautrestri.values # get the data matrix of values (dataframe feature data values)\n",
    "clusters = agc.labels_ #cluster labels for each point"
   ]
  },
  {
   "cell_type": "code",
   "execution_count": 48,
   "metadata": {},
   "outputs": [],
   "source": [
    "Z_dfautrestri2=Z_dfautrestri.copy()"
   ]
  },
  {
   "cell_type": "code",
   "execution_count": 49,
   "metadata": {},
   "outputs": [],
   "source": [
    "Z_dfautrestri2=Z_dfautrestri2.assign(cluster=clusters)"
   ]
  },
  {
   "cell_type": "code",
   "execution_count": 50,
   "metadata": {},
   "outputs": [
    {
     "data": {
      "text/html": [
       "<div>\n",
       "<style scoped>\n",
       "    .dataframe tbody tr th:only-of-type {\n",
       "        vertical-align: middle;\n",
       "    }\n",
       "\n",
       "    .dataframe tbody tr th {\n",
       "        vertical-align: top;\n",
       "    }\n",
       "\n",
       "    .dataframe thead th {\n",
       "        text-align: right;\n",
       "    }\n",
       "</style>\n",
       "<table border=\"1\" class=\"dataframe\">\n",
       "  <thead>\n",
       "    <tr style=\"text-align: right;\">\n",
       "      <th></th>\n",
       "      <th>Gvnt_health_exp</th>\n",
       "      <th>Food Deficit</th>\n",
       "      <th>Life expectancy</th>\n",
       "      <th>Nat_resources_rents</th>\n",
       "      <th>cluster</th>\n",
       "    </tr>\n",
       "    <tr>\n",
       "      <th>Country Code</th>\n",
       "      <th></th>\n",
       "      <th></th>\n",
       "      <th></th>\n",
       "      <th></th>\n",
       "      <th></th>\n",
       "    </tr>\n",
       "  </thead>\n",
       "  <tbody>\n",
       "    <tr>\n",
       "      <th>AFG</th>\n",
       "      <td>-1.423516</td>\n",
       "      <td>0.630369</td>\n",
       "      <td>-0.701610</td>\n",
       "      <td>-0.854344</td>\n",
       "      <td>0</td>\n",
       "    </tr>\n",
       "    <tr>\n",
       "      <th>AGO</th>\n",
       "      <td>-0.941049</td>\n",
       "      <td>0.520997</td>\n",
       "      <td>-1.078304</td>\n",
       "      <td>2.360159</td>\n",
       "      <td>1</td>\n",
       "    </tr>\n",
       "    <tr>\n",
       "      <th>ARE</th>\n",
       "      <td>0.084953</td>\n",
       "      <td>-0.864389</td>\n",
       "      <td>1.175408</td>\n",
       "      <td>0.811274</td>\n",
       "      <td>0</td>\n",
       "    </tr>\n",
       "    <tr>\n",
       "      <th>ARG</th>\n",
       "      <td>0.846441</td>\n",
       "      <td>-1.168201</td>\n",
       "      <td>1.082413</td>\n",
       "      <td>-0.652506</td>\n",
       "      <td>0</td>\n",
       "    </tr>\n",
       "    <tr>\n",
       "      <th>ARM</th>\n",
       "      <td>-0.416235</td>\n",
       "      <td>-0.767169</td>\n",
       "      <td>0.801320</td>\n",
       "      <td>-0.664751</td>\n",
       "      <td>0</td>\n",
       "    </tr>\n",
       "  </tbody>\n",
       "</table>\n",
       "</div>"
      ],
      "text/plain": [
       "              Gvnt_health_exp  Food Deficit  Life expectancy  \\\n",
       "Country Code                                                   \n",
       "AFG                 -1.423516      0.630369        -0.701610   \n",
       "AGO                 -0.941049      0.520997        -1.078304   \n",
       "ARE                  0.084953     -0.864389         1.175408   \n",
       "ARG                  0.846441     -1.168201         1.082413   \n",
       "ARM                 -0.416235     -0.767169         0.801320   \n",
       "\n",
       "              Nat_resources_rents  cluster  \n",
       "Country Code                                \n",
       "AFG                     -0.854344        0  \n",
       "AGO                      2.360159        1  \n",
       "ARE                      0.811274        0  \n",
       "ARG                     -0.652506        0  \n",
       "ARM                     -0.664751        0  "
      ]
     },
     "execution_count": 50,
     "metadata": {},
     "output_type": "execute_result"
    }
   ],
   "source": [
    "Z_dfautrestri2.head()"
   ]
  },
  {
   "cell_type": "code",
   "execution_count": 51,
   "metadata": {},
   "outputs": [
    {
     "data": {
      "image/png": "[encoded data removed]",
      "text/plain": [
       "<matplotlib.figure.Figure at 0x7f2d300604d0>"
      ]
     },
     "metadata": {},
     "output_type": "display_data"
    }
   ],
   "source": [
    "# Represent the clustered data using the parallel coordinates method\n",
    "from pandas.plotting import parallel_coordinates\n",
    "parallel_coordinates(Z_dfautrestri2,'cluster', color=('rebeccapurple', 'darkcyan', 'orange', 'darkgreen'))\n",
    "plt.show()"
   ]
  },
  {
   "cell_type": "code",
   "execution_count": 52,
   "metadata": {},
   "outputs": [
    {
     "data": {
      "image/png": "[encoded data removed]",
      "text/plain": [
       "<matplotlib.figure.Figure at 0x7f2d2c4103d0>"
      ]
     },
     "metadata": {},
     "output_type": "display_data"
    }
   ],
   "source": [
    "plt.title('Hierarchical Clustering Dendrogram')\n",
    "plot_sklearn_dendrogram(agc, labels=agc.labels_, truncate_mode='lastp', p=4) #cf plot_sklearn_dendrogram.py\n",
    "plt.show()"
   ]
  },
  {
   "cell_type": "code",
   "execution_count": 53,
   "metadata": {},
   "outputs": [
    {
     "data": {
      "text/plain": [
       "0.17086809792513927"
      ]
     },
     "execution_count": 53,
     "metadata": {},
     "output_type": "execute_result"
    }
   ],
   "source": [
    "# silhouette score\n",
    "metrics.silhouette_score(dffdv, clusters, metric='euclidean', sample_size=None) # sample_size=None for no sampling "
   ]
  },
  {
   "cell_type": "code",
   "execution_count": 54,
   "metadata": {},
   "outputs": [
    {
     "data": {
      "text/plain": [
       "RandomForestClassifier(bootstrap=True, class_weight=None, criterion='gini',\n",
       "            max_depth=None, max_features='auto', max_leaf_nodes=None,\n",
       "            min_impurity_decrease=0.0, min_impurity_split=None,\n",
       "            min_samples_leaf=1, min_samples_split=2,\n",
       "            min_weight_fraction_leaf=0.0, n_estimators=100, n_jobs=1,\n",
       "            oob_score=False, random_state=None, verbose=0,\n",
       "            warm_start=False)"
      ]
     },
     "execution_count": 54,
     "metadata": {},
     "output_type": "execute_result"
    }
   ],
   "source": [
    "# to get feature importance\n",
    "from sklearn.ensemble import RandomForestClassifier\n",
    "rf = RandomForestClassifier(n_estimators=100)\n",
    "rf.fit(Z_dfautrestri, clusters)"
   ]
  },
  {
   "cell_type": "code",
   "execution_count": 55,
   "metadata": {},
   "outputs": [
    {
     "data": {
      "text/plain": [
       "4"
      ]
     },
     "execution_count": 55,
     "metadata": {},
     "output_type": "execute_result"
    }
   ],
   "source": [
    "# number of classes\n",
    "rf.n_classes_"
   ]
  },
  {
   "cell_type": "code",
   "execution_count": 56,
   "metadata": {},
   "outputs": [
    {
     "data": {
      "text/plain": [
       "array([0.20616929, 0.1510495 , 0.14828306, 0.49449816])"
      ]
     },
     "execution_count": 56,
     "metadata": {},
     "output_type": "execute_result"
    }
   ],
   "source": [
    "# feature importance\n",
    "rf.feature_importances_"
   ]
  },
  {
   "cell_type": "markdown",
   "metadata": {},
   "source": [
    "We can see that \"Natural Ressources rents\" is the most important feature"
   ]
  },
  {
   "cell_type": "markdown",
   "metadata": {},
   "source": [
    "## Kmeans"
   ]
  },
  {
   "cell_type": "code",
   "execution_count": 57,
   "metadata": {},
   "outputs": [],
   "source": [
    "## test du nombre de cluster:\n",
    "SSE = [] #stockage des SSE pour chaque nombre de cluster\n",
    "silh = [] #stockage des coeff silhouettes pour chaque nombre de cluster\n",
    "for i in range(2,10):\n",
    "    kmeans = KMeans(i)\n",
    "    kmeans = kmeans.fit(Z_dfautrestri)\n",
    "    Z_dfautrestri[\"cluster\"] = kmeans.predict(Z_dfautrestri)\n",
    "    SSE.append(kmeans.inertia_)\n",
    "    silh.append(metrics.silhouette_score(Z_dfautrestri, Z_dfautrestri[\"cluster\"], metric='euclidean', sample_size=None))"
   ]
  },
  {
   "cell_type": "code",
   "execution_count": 58,
   "metadata": {},
   "outputs": [
    {
     "data": {
      "text/plain": [
       "<matplotlib.text.Text at 0x7f2d2c34f250>"
      ]
     },
     "execution_count": 58,
     "metadata": {},
     "output_type": "execute_result"
    },
    {
     "data": {
      "image/png": "[encoded data removed]",
      "text/plain": [
       "<matplotlib.figure.Figure at 0x7f2d2c3b6810>"
      ]
     },
     "metadata": {},
     "output_type": "display_data"
    }
   ],
   "source": [
    "## graphe de la SSE:\n",
    "plt.plot(range(2,10),SSE)\n",
    "plt.plot([4,4],[100,350])\n",
    "plt.xlabel(\"$k$\",fontsize=20)\n",
    "plt.ylabel(\"SSE\",fontsize=14)"
   ]
  },
  {
   "cell_type": "code",
   "execution_count": 59,
   "metadata": {},
   "outputs": [
    {
     "data": {
      "text/plain": [
       "<matplotlib.text.Text at 0x7f2d2ffeeb90>"
      ]
     },
     "execution_count": 59,
     "metadata": {},
     "output_type": "execute_result"
    },
    {
     "data": {
      "image/png": "[encoded data removed]",
      "text/plain": [
       "<matplotlib.figure.Figure at 0x7f2d2c331b90>"
      ]
     },
     "metadata": {},
     "output_type": "display_data"
    }
   ],
   "source": [
    "## coeff silhouette:\n",
    "plt.plot(range(2,10),silh)\n",
    "plt.plot([4,4],[0.15,0.5])\n",
    "plt.xlabel(\"$k$\",fontsize=20)\n",
    "plt.ylabel(\"coef silhouette\",fontsize=14)"
   ]
  },
  {
   "cell_type": "code",
   "execution_count": 60,
   "metadata": {},
   "outputs": [],
   "source": [
    "from sklearn.cluster import KMeans\n",
    "kmeans = KMeans(4)\n",
    "kmeans = kmeans.fit(Z_dfautrestri)\n",
    "Z_dfautrestri[\"cluster\"] = kmeans.predict(Z_dfautrestri)"
   ]
  },
  {
   "cell_type": "code",
   "execution_count": 61,
   "metadata": {},
   "outputs": [
    {
     "data": {
      "text/plain": [
       "0.320916083265109"
      ]
     },
     "execution_count": 61,
     "metadata": {},
     "output_type": "execute_result"
    }
   ],
   "source": [
    "metrics.silhouette_score(Z_dfautrestri, Z_dfautrestri[\"cluster\"], metric='euclidean', sample_size=None)"
   ]
  },
  {
   "cell_type": "code",
   "execution_count": 62,
   "metadata": {},
   "outputs": [
    {
     "name": "stdout",
     "output_type": "stream",
     "text": [
      "sse = 299.1518108000723\n"
     ]
    }
   ],
   "source": [
    "sse = kmeans.inertia_\n",
    "print \"sse =\", sse"
   ]
  },
  {
   "cell_type": "code",
   "execution_count": 63,
   "metadata": {},
   "outputs": [
    {
     "data": {
      "text/plain": [
       "<seaborn.axisgrid.PairGrid at 0x7f2d2c3ffcd0>"
      ]
     },
     "execution_count": 63,
     "metadata": {},
     "output_type": "execute_result"
    },
    {
     "data": {
      "image/png": "[encoded data removed]",
      "text/plain": [
       "<matplotlib.figure.Figure at 0x7f2d2c3ff990>"
      ]
     },
     "metadata": {},
     "output_type": "display_data"
    }
   ],
   "source": [
    "sns.pairplot(Z_dfautrestri,vars=[\"Gvnt_health_exp\",\"Life expectancy\",\"Food Deficit\"],hue=\"cluster\")"
   ]
  },
  {
   "cell_type": "code",
   "execution_count": 64,
   "metadata": {},
   "outputs": [
    {
     "data": {
      "text/plain": [
       "<seaborn.axisgrid.PairGrid at 0x7f2d30074f90>"
      ]
     },
     "execution_count": 64,
     "metadata": {},
     "output_type": "execute_result"
    },
    {
     "data": {
      "image/png": "[encoded data removed]",
      "text/plain": [
       "<matplotlib.figure.Figure at 0x7f2d26e19fd0>"
      ]
     },
     "metadata": {},
     "output_type": "display_data"
    }
   ],
   "source": [
    "sns.pairplot(Z_dfautrestri,vars=[\"Gvnt_health_exp\",\"Nat_resources_rents\"],hue=\"cluster\")"
   ]
  },
  {
   "cell_type": "markdown",
   "metadata": {},
   "source": [
    "### Stability"
   ]
  },
  {
   "cell_type": "code",
   "execution_count": 65,
   "metadata": {},
   "outputs": [],
   "source": [
    "silhouette_coef = []\n",
    "sse = []\n",
    "k = 4\n",
    "n_init=1\n",
    "for i in range(100):\n",
    "    km = KMeans(n_clusters=k, n_init=n_init, random_state=i) # create a KMeans object\n",
    "    km.fit(Z_dfautrestri)\n",
    "    labels = km.predict(Z_dfautrestri)\n",
    "    sse.append(km.inertia_)\n",
    "    silhouette_coef.append(metrics.silhouette_score(Z_dfautrestri, labels, metric='euclidean', sample_size=None))"
   ]
  },
  {
   "cell_type": "code",
   "execution_count": 66,
   "metadata": {},
   "outputs": [
    {
     "data": {
      "text/plain": [
       "(array([73.,  7.,  3., 10.,  4.,  0.,  1.,  0.,  1.,  1.]),\n",
       " array([225.14510007, 231.17266876, 237.20023745, 243.22780614,\n",
       "        249.25537483, 255.28294352, 261.31051221, 267.3380809 ,\n",
       "        273.36564959, 279.39321828, 285.42078697]),\n",
       " <a list of 10 Patch objects>)"
      ]
     },
     "execution_count": 66,
     "metadata": {},
     "output_type": "execute_result"
    },
    {
     "data": {
      "image/png": "[encoded data removed]",
      "text/plain": [
       "<matplotlib.figure.Figure at 0x7f2d27340310>"
      ]
     },
     "metadata": {},
     "output_type": "display_data"
    }
   ],
   "source": [
    "plt.hist(sse)"
   ]
  },
  {
   "cell_type": "code",
   "execution_count": 67,
   "metadata": {},
   "outputs": [
    {
     "data": {
      "text/plain": [
       "(array([ 1.,  3.,  5.,  1.,  6., 14., 33.,  3.,  4., 30.]),\n",
       " array([0.26547813, 0.27684055, 0.28820297, 0.29956539, 0.3109278 ,\n",
       "        0.32229022, 0.33365264, 0.34501506, 0.35637748, 0.3677399 ,\n",
       "        0.37910232]),\n",
       " <a list of 10 Patch objects>)"
      ]
     },
     "execution_count": 67,
     "metadata": {},
     "output_type": "execute_result"
    },
    {
     "data": {
      "image/png": "[encoded data removed]",
      "text/plain": [
       "<matplotlib.figure.Figure at 0x7f2d267e59d0>"
      ]
     },
     "metadata": {},
     "output_type": "display_data"
    }
   ],
   "source": [
    "plt.hist(silhouette_coef)"
   ]
  },
  {
   "cell_type": "code",
   "execution_count": 68,
   "metadata": {},
   "outputs": [],
   "source": [
    "def compute_stability(k,df,iterations=100):\n",
    "    silhouette_coef = []\n",
    "    for i in range(iterations):\n",
    "        km = KMeans(n_clusters=k, n_init=1, random_state=i) # create a KMeans object\n",
    "        km.fit(df)\n",
    "        labels = km.predict(df)\n",
    "        silhouette_coef.append(metrics.silhouette_score(df, labels, metric='euclidean', sample_size=None))\n",
    "    silhouette_coef = np.asarray(silhouette_coef)\n",
    "    return(silhouette_coef.std())"
   ]
  },
  {
   "cell_type": "code",
   "execution_count": 69,
   "metadata": {},
   "outputs": [],
   "source": [
    "stability = []\n",
    "Ks = range(2,30)\n",
    "for k in Ks:\n",
    "    stability.append(compute_stability(k,Z_dfautrestri))"
   ]
  },
  {
   "cell_type": "code",
   "execution_count": 70,
   "metadata": {},
   "outputs": [
    {
     "data": {
      "text/plain": [
       "<matplotlib.text.Text at 0x7f2d2668a910>"
      ]
     },
     "execution_count": 70,
     "metadata": {},
     "output_type": "execute_result"
    },
    {
     "data": {
      "image/png": "[encoded data removed]",
      "text/plain": [
       "<matplotlib.figure.Figure at 0x7f2d267b6d10>"
      ]
     },
     "metadata": {},
     "output_type": "display_data"
    }
   ],
   "source": [
    "plt.plot(Ks,stability,\"o-\")\n",
    "plt.plot([4,4],[0.02,0.050])\n",
    "plt.xlabel(\"$k$\",fontsize=20)\n",
    "plt.ylabel(\"Instability: std(Silhouette Coef. 100 iterations)\")"
   ]
  },
  {
   "cell_type": "markdown",
   "metadata": {},
   "source": [
    "###### ==> we'll keep 4 clusters"
   ]
  },
  {
   "cell_type": "markdown",
   "metadata": {},
   "source": [
    "### Parallel coordinates method to represent the clustered data"
   ]
  },
  {
   "cell_type": "code",
   "execution_count": 71,
   "metadata": {},
   "outputs": [
    {
     "data": {
      "image/png": "[encoded data removed]",
      "text/plain": [
       "<matplotlib.figure.Figure at 0x7f2d267f4e50>"
      ]
     },
     "metadata": {},
     "output_type": "display_data"
    }
   ],
   "source": [
    "# Represent the clustered data using the parallel coordinates method\n",
    "from pandas.plotting import parallel_coordinates\n",
    "parallel_coordinates(Z_dfautrestri,'cluster', color=('rebeccapurple', 'darkcyan', 'orange', 'darkgreen'))\n",
    "plt.show()"
   ]
  },
  {
   "cell_type": "markdown",
   "metadata": {},
   "source": [
    "### Use a decision Tree to Describe the Clusters"
   ]
  },
  {
   "cell_type": "code",
   "execution_count": 72,
   "metadata": {},
   "outputs": [],
   "source": [
    "from sklearn.tree import DecisionTreeClassifier\n",
    "from sklearn.tree import export_graphviz\n",
    "from sklearn.metrics import confusion_matrix\n",
    "import graphviz"
   ]
  },
  {
   "cell_type": "code",
   "execution_count": 77,
   "metadata": {},
   "outputs": [],
   "source": [
    "dt = DecisionTreeClassifier(max_depth=4,criterion=\"entropy\")\n",
    "prediction_features = [c for c in Z_dfautrestri.columns if c != \"cluster\"]\n",
    "dt = dt.fit(Z_dfautrestri[prediction_features],Z_dfautrestri[\"cluster\"])"
   ]
  },
  {
   "cell_type": "code",
   "execution_count": 78,
   "metadata": {},
   "outputs": [
    {
     "data": {
      "image/svg+xml": [
       "<?xml version=\"1.0\" encoding=\"UTF-8\" standalone=\"no\"?>\n",
       "<!DOCTYPE svg PUBLIC \"-//W3C//DTD SVG 1.1//EN\"\n",
       " \"http://www.w3.org/Graphics/SVG/1.1/DTD/svg11.dtd\">\n",
       "<!-- Generated by graphviz version 2.40.1 (20161225.0304)\n",
       " -->\n",
       "<!-- Title: Tree Pages: 1 -->\n",
       "<svg width=\"1011pt\" height=\"552pt\"\n",
       " viewBox=\"0.00 0.00 1011.00 552.00\" xmlns=\"http://www.w3.org/2000/svg\" xmlns:xlink=\"http://www.w3.org/1999/xlink\">\n",
       "<g id=\"graph0\" class=\"graph\" transform=\"scale(1 1) rotate(0) translate(4 548)\">\n",
       "<title>Tree</title>\n",
       "<polygon fill=\"#ffffff\" stroke=\"transparent\" points=\"-4,4 -4,-548 1007,-548 1007,4 -4,4\"/>\n",
       "<!-- 0 -->\n",
       "<g id=\"node1\" class=\"node\">\n",
       "<title>0</title>\n",
       "<path fill=\"#e58139\" fill-opacity=\"0.341176\" stroke=\"#000000\" d=\"M768,-544C768,-544 617,-544 617,-544 611,-544 605,-538 605,-532 605,-532 605,-473 605,-473 605,-467 611,-461 617,-461 617,-461 768,-461 768,-461 774,-461 780,-467 780,-473 780,-473 780,-532 780,-532 780,-538 774,-544 768,-544\"/>\n",
       "<text text-anchor=\"start\" x=\"613\" y=\"-528.8\" font-family=\"Helvetica,sans-Serif\" font-size=\"14.00\" fill=\"#000000\">Gvnt_health_exp ≤ 0.706</text>\n",
       "<text text-anchor=\"start\" x=\"642.5\" y=\"-513.8\" font-family=\"Helvetica,sans-Serif\" font-size=\"14.00\" fill=\"#000000\">entropy = 1.792</text>\n",
       "<text text-anchor=\"start\" x=\"646\" y=\"-498.8\" font-family=\"Helvetica,sans-Serif\" font-size=\"14.00\" fill=\"#000000\">samples = 109</text>\n",
       "<text text-anchor=\"start\" x=\"620\" y=\"-483.8\" font-family=\"Helvetica,sans-Serif\" font-size=\"14.00\" fill=\"#000000\">value = [53, 24, 19, 13]</text>\n",
       "<text text-anchor=\"start\" x=\"664\" y=\"-468.8\" font-family=\"Helvetica,sans-Serif\" font-size=\"14.00\" fill=\"#000000\">class = 0</text>\n",
       "</g>\n",
       "<!-- 1 -->\n",
       "<g id=\"node2\" class=\"node\">\n",
       "<title>1</title>\n",
       "<path fill=\"#e58139\" fill-opacity=\"0.501961\" stroke=\"#000000\" d=\"M666,-425C666,-425 537,-425 537,-425 531,-425 525,-419 525,-413 525,-413 525,-354 525,-354 525,-348 531,-342 537,-342 537,-342 666,-342 666,-342 672,-342 678,-348 678,-354 678,-354 678,-413 678,-413 678,-419 672,-425 666,-425\"/>\n",
       "<text text-anchor=\"start\" x=\"535.5\" y=\"-409.8\" font-family=\"Helvetica,sans-Serif\" font-size=\"14.00\" fill=\"#000000\">Food Deficit ≤ 1.007</text>\n",
       "<text text-anchor=\"start\" x=\"551.5\" y=\"-394.8\" font-family=\"Helvetica,sans-Serif\" font-size=\"14.00\" fill=\"#000000\">entropy = 1.332</text>\n",
       "<text text-anchor=\"start\" x=\"559.5\" y=\"-379.8\" font-family=\"Helvetica,sans-Serif\" font-size=\"14.00\" fill=\"#000000\">samples = 86</text>\n",
       "<text text-anchor=\"start\" x=\"533\" y=\"-364.8\" font-family=\"Helvetica,sans-Serif\" font-size=\"14.00\" fill=\"#000000\">value = [53, 20, 0, 13]</text>\n",
       "<text text-anchor=\"start\" x=\"573\" y=\"-349.8\" font-family=\"Helvetica,sans-Serif\" font-size=\"14.00\" fill=\"#000000\">class = 0</text>\n",
       "</g>\n",
       "<!-- 0&#45;&gt;1 -->\n",
       "<g id=\"edge1\" class=\"edge\">\n",
       "<title>0&#45;&gt;1</title>\n",
       "<path fill=\"none\" stroke=\"#000000\" d=\"M660.6726,-460.8796C653.8543,-451.9633 646.5844,-442.4565 639.5579,-433.268\"/>\n",
       "<polygon fill=\"#000000\" stroke=\"#000000\" points=\"642.318,-431.1156 633.4632,-425.2981 636.7575,-435.3678 642.318,-431.1156\"/>\n",
       "<text text-anchor=\"middle\" x=\"630.1591\" y=\"-446.3788\" font-family=\"Helvetica,sans-Serif\" font-size=\"14.00\" fill=\"#000000\">True</text>\n",
       "</g>\n",
       "<!-- 12 -->\n",
       "<g id=\"node13\" class=\"node\">\n",
       "<title>12</title>\n",
       "<path fill=\"#399de5\" fill-opacity=\"0.788235\" stroke=\"#000000\" d=\"M858,-425C858,-425 709,-425 709,-425 703,-425 697,-419 697,-413 697,-413 697,-354 697,-354 697,-348 703,-342 709,-342 709,-342 858,-342 858,-342 864,-342 870,-348 870,-354 870,-354 870,-413 870,-413 870,-419 864,-425 858,-425\"/>\n",
       "<text text-anchor=\"start\" x=\"705\" y=\"-409.8\" font-family=\"Helvetica,sans-Serif\" font-size=\"14.00\" fill=\"#000000\">Life expectancy ≤ &#45;0.129</text>\n",
       "<text text-anchor=\"start\" x=\"734\" y=\"-394.8\" font-family=\"Helvetica,sans-Serif\" font-size=\"14.00\" fill=\"#000000\">entropy = 0.667</text>\n",
       "<text text-anchor=\"start\" x=\"741\" y=\"-379.8\" font-family=\"Helvetica,sans-Serif\" font-size=\"14.00\" fill=\"#000000\">samples = 23</text>\n",
       "<text text-anchor=\"start\" x=\"723\" y=\"-364.8\" font-family=\"Helvetica,sans-Serif\" font-size=\"14.00\" fill=\"#000000\">value = [0, 4, 19, 0]</text>\n",
       "<text text-anchor=\"start\" x=\"755\" y=\"-349.8\" font-family=\"Helvetica,sans-Serif\" font-size=\"14.00\" fill=\"#000000\">class = 2</text>\n",
       "</g>\n",
       "<!-- 0&#45;&gt;12 -->\n",
       "<g id=\"edge12\" class=\"edge\">\n",
       "<title>0&#45;&gt;12</title>\n",
       "<path fill=\"none\" stroke=\"#000000\" d=\"M724.3274,-460.8796C731.1457,-451.9633 738.4156,-442.4565 745.4421,-433.268\"/>\n",
       "<polygon fill=\"#000000\" stroke=\"#000000\" points=\"748.2425,-435.3678 751.5368,-425.2981 742.682,-431.1156 748.2425,-435.3678\"/>\n",
       "<text text-anchor=\"middle\" x=\"754.8409\" y=\"-446.3788\" font-family=\"Helvetica,sans-Serif\" font-size=\"14.00\" fill=\"#000000\">False</text>\n",
       "</g>\n",
       "<!-- 2 -->\n",
       "<g id=\"node3\" class=\"node\">\n",
       "<title>2</title>\n",
       "<path fill=\"#e58139\" fill-opacity=\"0.678431\" stroke=\"#000000\" d=\"M471.5,-306C471.5,-306 303.5,-306 303.5,-306 297.5,-306 291.5,-300 291.5,-294 291.5,-294 291.5,-235 291.5,-235 291.5,-229 297.5,-223 303.5,-223 303.5,-223 471.5,-223 471.5,-223 477.5,-223 483.5,-229 483.5,-235 483.5,-235 483.5,-294 483.5,-294 483.5,-300 477.5,-306 471.5,-306\"/>\n",
       "<text text-anchor=\"start\" x=\"299.5\" y=\"-290.8\" font-family=\"Helvetica,sans-Serif\" font-size=\"14.00\" fill=\"#000000\">Nat_resources_rents ≤ 0.87</text>\n",
       "<text text-anchor=\"start\" x=\"345.5\" y=\"-275.8\" font-family=\"Helvetica,sans-Serif\" font-size=\"14.00\" fill=\"#000000\">entropy = 0.8</text>\n",
       "<text text-anchor=\"start\" x=\"345\" y=\"-260.8\" font-family=\"Helvetica,sans-Serif\" font-size=\"14.00\" fill=\"#000000\">samples = 70</text>\n",
       "<text text-anchor=\"start\" x=\"323\" y=\"-245.8\" font-family=\"Helvetica,sans-Serif\" font-size=\"14.00\" fill=\"#000000\">value = [53, 17, 0, 0]</text>\n",
       "<text text-anchor=\"start\" x=\"359\" y=\"-230.8\" font-family=\"Helvetica,sans-Serif\" font-size=\"14.00\" fill=\"#000000\">class = 0</text>\n",
       "</g>\n",
       "<!-- 1&#45;&gt;2 -->\n",
       "<g id=\"edge2\" class=\"edge\">\n",
       "<title>1&#45;&gt;2</title>\n",
       "<path fill=\"none\" stroke=\"#000000\" d=\"M526.6532,-341.8796C508.7337,-331.915 489.488,-321.2129 471.197,-311.0418\"/>\n",
       "<polygon fill=\"#000000\" stroke=\"#000000\" points=\"472.7452,-307.898 462.3046,-306.0969 469.3432,-314.0158 472.7452,-307.898\"/>\n",
       "</g>\n",
       "<!-- 9 -->\n",
       "<g id=\"node10\" class=\"node\">\n",
       "<title>9</title>\n",
       "<path fill=\"#d739e5\" fill-opacity=\"0.768627\" stroke=\"#000000\" d=\"M689.5,-306C689.5,-306 513.5,-306 513.5,-306 507.5,-306 501.5,-300 501.5,-294 501.5,-294 501.5,-235 501.5,-235 501.5,-229 507.5,-223 513.5,-223 513.5,-223 689.5,-223 689.5,-223 695.5,-223 701.5,-229 701.5,-235 701.5,-235 701.5,-294 701.5,-294 701.5,-300 695.5,-306 689.5,-306\"/>\n",
       "<text text-anchor=\"start\" x=\"509.5\" y=\"-290.8\" font-family=\"Helvetica,sans-Serif\" font-size=\"14.00\" fill=\"#000000\">Nat_resources_rents ≤ 1.929</text>\n",
       "<text text-anchor=\"start\" x=\"552\" y=\"-275.8\" font-family=\"Helvetica,sans-Serif\" font-size=\"14.00\" fill=\"#000000\">entropy = 0.696</text>\n",
       "<text text-anchor=\"start\" x=\"559.5\" y=\"-260.8\" font-family=\"Helvetica,sans-Serif\" font-size=\"14.00\" fill=\"#000000\">samples = 16</text>\n",
       "<text text-anchor=\"start\" x=\"541\" y=\"-245.8\" font-family=\"Helvetica,sans-Serif\" font-size=\"14.00\" fill=\"#000000\">value = [0, 3, 0, 13]</text>\n",
       "<text text-anchor=\"start\" x=\"573\" y=\"-230.8\" font-family=\"Helvetica,sans-Serif\" font-size=\"14.00\" fill=\"#000000\">class = 3</text>\n",
       "</g>\n",
       "<!-- 1&#45;&gt;9 -->\n",
       "<g id=\"edge9\" class=\"edge\">\n",
       "<title>1&#45;&gt;9</title>\n",
       "<path fill=\"none\" stroke=\"#000000\" d=\"M601.5,-341.8796C601.5,-333.6838 601.5,-324.9891 601.5,-316.5013\"/>\n",
       "<polygon fill=\"#000000\" stroke=\"#000000\" points=\"605.0001,-316.298 601.5,-306.2981 598.0001,-316.2981 605.0001,-316.298\"/>\n",
       "</g>\n",
       "<!-- 3 -->\n",
       "<g id=\"node4\" class=\"node\">\n",
       "<title>3</title>\n",
       "<path fill=\"#e58139\" fill-opacity=\"0.847059\" stroke=\"#000000\" d=\"M279.5,-187C279.5,-187 151.5,-187 151.5,-187 145.5,-187 139.5,-181 139.5,-175 139.5,-175 139.5,-116 139.5,-116 139.5,-110 145.5,-104 151.5,-104 151.5,-104 279.5,-104 279.5,-104 285.5,-104 291.5,-110 291.5,-116 291.5,-116 291.5,-175 291.5,-175 291.5,-181 285.5,-187 279.5,-187\"/>\n",
       "<text text-anchor=\"start\" x=\"147.5\" y=\"-171.8\" font-family=\"Helvetica,sans-Serif\" font-size=\"14.00\" fill=\"#000000\">Food Deficit ≤ &#45;0.172</text>\n",
       "<text text-anchor=\"start\" x=\"166\" y=\"-156.8\" font-family=\"Helvetica,sans-Serif\" font-size=\"14.00\" fill=\"#000000\">entropy = 0.567</text>\n",
       "<text text-anchor=\"start\" x=\"173.5\" y=\"-141.8\" font-family=\"Helvetica,sans-Serif\" font-size=\"14.00\" fill=\"#000000\">samples = 60</text>\n",
       "<text text-anchor=\"start\" x=\"155\" y=\"-126.8\" font-family=\"Helvetica,sans-Serif\" font-size=\"14.00\" fill=\"#000000\">value = [52, 8, 0, 0]</text>\n",
       "<text text-anchor=\"start\" x=\"187\" y=\"-111.8\" font-family=\"Helvetica,sans-Serif\" font-size=\"14.00\" fill=\"#000000\">class = 0</text>\n",
       "</g>\n",
       "<!-- 2&#45;&gt;3 -->\n",
       "<g id=\"edge3\" class=\"edge\">\n",
       "<title>2&#45;&gt;3</title>\n",
       "<path fill=\"none\" stroke=\"#000000\" d=\"M327.3427,-222.8796C313.333,-213.1868 298.3146,-202.7961 283.975,-192.8752\"/>\n",
       "<polygon fill=\"#000000\" stroke=\"#000000\" points=\"285.8383,-189.9083 275.6233,-187.0969 281.8556,-195.6649 285.8383,-189.9083\"/>\n",
       "</g>\n",
       "<!-- 6 -->\n",
       "<g id=\"node7\" class=\"node\">\n",
       "<title>6</title>\n",
       "<path fill=\"#47e539\" fill-opacity=\"0.890196\" stroke=\"#000000\" d=\"M473.5,-187C473.5,-187 321.5,-187 321.5,-187 315.5,-187 309.5,-181 309.5,-175 309.5,-175 309.5,-116 309.5,-116 309.5,-110 315.5,-104 321.5,-104 321.5,-104 473.5,-104 473.5,-104 479.5,-104 485.5,-110 485.5,-116 485.5,-116 485.5,-175 485.5,-175 485.5,-181 479.5,-187 473.5,-187\"/>\n",
       "<text text-anchor=\"start\" x=\"317.5\" y=\"-171.8\" font-family=\"Helvetica,sans-Serif\" font-size=\"14.00\" fill=\"#000000\">Gvnt_health_exp ≤ 0.002</text>\n",
       "<text text-anchor=\"start\" x=\"348\" y=\"-156.8\" font-family=\"Helvetica,sans-Serif\" font-size=\"14.00\" fill=\"#000000\">entropy = 0.469</text>\n",
       "<text text-anchor=\"start\" x=\"355\" y=\"-141.8\" font-family=\"Helvetica,sans-Serif\" font-size=\"14.00\" fill=\"#000000\">samples = 10</text>\n",
       "<text text-anchor=\"start\" x=\"341\" y=\"-126.8\" font-family=\"Helvetica,sans-Serif\" font-size=\"14.00\" fill=\"#000000\">value = [1, 9, 0, 0]</text>\n",
       "<text text-anchor=\"start\" x=\"369\" y=\"-111.8\" font-family=\"Helvetica,sans-Serif\" font-size=\"14.00\" fill=\"#000000\">class = 1</text>\n",
       "</g>\n",
       "<!-- 2&#45;&gt;6 -->\n",
       "<g id=\"edge6\" class=\"edge\">\n",
       "<title>2&#45;&gt;6</title>\n",
       "<path fill=\"none\" stroke=\"#000000\" d=\"M390.9975,-222.8796C391.6862,-214.6838 392.4169,-205.9891 393.1301,-197.5013\"/>\n",
       "<polygon fill=\"#000000\" stroke=\"#000000\" points=\"396.6378,-197.5561 393.9876,-187.2981 389.6624,-196.9698 396.6378,-197.5561\"/>\n",
       "</g>\n",
       "<!-- 4 -->\n",
       "<g id=\"node5\" class=\"node\">\n",
       "<title>4</title>\n",
       "<path fill=\"#e58139\" stroke=\"#000000\" d=\"M125,-68C125,-68 12,-68 12,-68 6,-68 0,-62 0,-56 0,-56 0,-12 0,-12 0,-6 6,0 12,0 12,0 125,0 125,0 131,0 137,-6 137,-12 137,-12 137,-56 137,-56 137,-62 131,-68 125,-68\"/>\n",
       "<text text-anchor=\"start\" x=\"26.5\" y=\"-52.8\" font-family=\"Helvetica,sans-Serif\" font-size=\"14.00\" fill=\"#000000\">entropy = 0.0</text>\n",
       "<text text-anchor=\"start\" x=\"26\" y=\"-37.8\" font-family=\"Helvetica,sans-Serif\" font-size=\"14.00\" fill=\"#000000\">samples = 37</text>\n",
       "<text text-anchor=\"start\" x=\"8\" y=\"-22.8\" font-family=\"Helvetica,sans-Serif\" font-size=\"14.00\" fill=\"#000000\">value = [37, 0, 0, 0]</text>\n",
       "<text text-anchor=\"start\" x=\"40\" y=\"-7.8\" font-family=\"Helvetica,sans-Serif\" font-size=\"14.00\" fill=\"#000000\">class = 0</text>\n",
       "</g>\n",
       "<!-- 3&#45;&gt;4 -->\n",
       "<g id=\"edge4\" class=\"edge\">\n",
       "<title>3&#45;&gt;4</title>\n",
       "<path fill=\"none\" stroke=\"#000000\" d=\"M160.7626,-103.9815C148.0399,-94.3313 134.5134,-84.0714 121.8515,-74.4673\"/>\n",
       "<polygon fill=\"#000000\" stroke=\"#000000\" points=\"123.7553,-71.5184 113.6727,-68.2637 119.525,-77.0956 123.7553,-71.5184\"/>\n",
       "</g>\n",
       "<!-- 5 -->\n",
       "<g id=\"node6\" class=\"node\">\n",
       "<title>5</title>\n",
       "<path fill=\"#e58139\" fill-opacity=\"0.466667\" stroke=\"#000000\" d=\"M280,-68C280,-68 167,-68 167,-68 161,-68 155,-62 155,-56 155,-56 155,-12 155,-12 155,-6 161,0 167,0 167,0 280,0 280,0 286,0 292,-6 292,-12 292,-12 292,-56 292,-56 292,-62 286,-68 280,-68\"/>\n",
       "<text text-anchor=\"start\" x=\"173.5\" y=\"-52.8\" font-family=\"Helvetica,sans-Serif\" font-size=\"14.00\" fill=\"#000000\">entropy = 0.932</text>\n",
       "<text text-anchor=\"start\" x=\"181\" y=\"-37.8\" font-family=\"Helvetica,sans-Serif\" font-size=\"14.00\" fill=\"#000000\">samples = 23</text>\n",
       "<text text-anchor=\"start\" x=\"163\" y=\"-22.8\" font-family=\"Helvetica,sans-Serif\" font-size=\"14.00\" fill=\"#000000\">value = [15, 8, 0, 0]</text>\n",
       "<text text-anchor=\"start\" x=\"195\" y=\"-7.8\" font-family=\"Helvetica,sans-Serif\" font-size=\"14.00\" fill=\"#000000\">class = 0</text>\n",
       "</g>\n",
       "<!-- 3&#45;&gt;5 -->\n",
       "<g id=\"edge5\" class=\"edge\">\n",
       "<title>3&#45;&gt;5</title>\n",
       "<path fill=\"none\" stroke=\"#000000\" d=\"M218.4789,-103.9815C219.079,-95.618 219.7119,-86.7965 220.3186,-78.3409\"/>\n",
       "<polygon fill=\"#000000\" stroke=\"#000000\" points=\"223.8169,-78.4885 221.0416,-68.2637 216.8349,-77.9875 223.8169,-78.4885\"/>\n",
       "</g>\n",
       "<!-- 7 -->\n",
       "<g id=\"node8\" class=\"node\">\n",
       "<title>7</title>\n",
       "<path fill=\"#47e539\" stroke=\"#000000\" d=\"M442,-68C442,-68 337,-68 337,-68 331,-68 325,-62 325,-56 325,-56 325,-12 325,-12 325,-6 331,0 337,0 337,0 442,0 442,0 448,0 454,-6 454,-12 454,-12 454,-56 454,-56 454,-62 448,-68 442,-68\"/>\n",
       "<text text-anchor=\"start\" x=\"347.5\" y=\"-52.8\" font-family=\"Helvetica,sans-Serif\" font-size=\"14.00\" fill=\"#000000\">entropy = 0.0</text>\n",
       "<text text-anchor=\"start\" x=\"351.5\" y=\"-37.8\" font-family=\"Helvetica,sans-Serif\" font-size=\"14.00\" fill=\"#000000\">samples = 9</text>\n",
       "<text text-anchor=\"start\" x=\"333\" y=\"-22.8\" font-family=\"Helvetica,sans-Serif\" font-size=\"14.00\" fill=\"#000000\">value = [0, 9, 0, 0]</text>\n",
       "<text text-anchor=\"start\" x=\"361\" y=\"-7.8\" font-family=\"Helvetica,sans-Serif\" font-size=\"14.00\" fill=\"#000000\">class = 1</text>\n",
       "</g>\n",
       "<!-- 6&#45;&gt;7 -->\n",
       "<g id=\"edge7\" class=\"edge\">\n",
       "<title>6&#45;&gt;7</title>\n",
       "<path fill=\"none\" stroke=\"#000000\" d=\"M394.5211,-103.9815C393.921,-95.618 393.2881,-86.7965 392.6814,-78.3409\"/>\n",
       "<polygon fill=\"#000000\" stroke=\"#000000\" points=\"396.1651,-77.9875 391.9584,-68.2637 389.1831,-78.4885 396.1651,-77.9875\"/>\n",
       "</g>\n",
       "<!-- 8 -->\n",
       "<g id=\"node9\" class=\"node\">\n",
       "<title>8</title>\n",
       "<path fill=\"#e58139\" stroke=\"#000000\" d=\"M589,-68C589,-68 484,-68 484,-68 478,-68 472,-62 472,-56 472,-56 472,-12 472,-12 472,-6 478,0 484,0 484,0 589,0 589,0 595,0 601,-6 601,-12 601,-12 601,-56 601,-56 601,-62 595,-68 589,-68\"/>\n",
       "<text text-anchor=\"start\" x=\"494.5\" y=\"-52.8\" font-family=\"Helvetica,sans-Serif\" font-size=\"14.00\" fill=\"#000000\">entropy = 0.0</text>\n",
       "<text text-anchor=\"start\" x=\"498.5\" y=\"-37.8\" font-family=\"Helvetica,sans-Serif\" font-size=\"14.00\" fill=\"#000000\">samples = 1</text>\n",
       "<text text-anchor=\"start\" x=\"480\" y=\"-22.8\" font-family=\"Helvetica,sans-Serif\" font-size=\"14.00\" fill=\"#000000\">value = [1, 0, 0, 0]</text>\n",
       "<text text-anchor=\"start\" x=\"508\" y=\"-7.8\" font-family=\"Helvetica,sans-Serif\" font-size=\"14.00\" fill=\"#000000\">class = 0</text>\n",
       "</g>\n",
       "<!-- 6&#45;&gt;8 -->\n",
       "<g id=\"edge8\" class=\"edge\">\n",
       "<title>6&#45;&gt;8</title>\n",
       "<path fill=\"none\" stroke=\"#000000\" d=\"M449.2585,-103.9815C461.1742,-94.4232 473.8356,-84.2668 485.7097,-74.7419\"/>\n",
       "<polygon fill=\"#000000\" stroke=\"#000000\" points=\"488.1752,-77.2511 493.7856,-68.2637 483.7951,-71.7907 488.1752,-77.2511\"/>\n",
       "</g>\n",
       "<!-- 10 -->\n",
       "<g id=\"node11\" class=\"node\">\n",
       "<title>10</title>\n",
       "<path fill=\"#d739e5\" stroke=\"#000000\" d=\"M648,-179.5C648,-179.5 535,-179.5 535,-179.5 529,-179.5 523,-173.5 523,-167.5 523,-167.5 523,-123.5 523,-123.5 523,-117.5 529,-111.5 535,-111.5 535,-111.5 648,-111.5 648,-111.5 654,-111.5 660,-117.5 660,-123.5 660,-123.5 660,-167.5 660,-167.5 660,-173.5 654,-179.5 648,-179.5\"/>\n",
       "<text text-anchor=\"start\" x=\"549.5\" y=\"-164.3\" font-family=\"Helvetica,sans-Serif\" font-size=\"14.00\" fill=\"#000000\">entropy = 0.0</text>\n",
       "<text text-anchor=\"start\" x=\"549\" y=\"-149.3\" font-family=\"Helvetica,sans-Serif\" font-size=\"14.00\" fill=\"#000000\">samples = 13</text>\n",
       "<text text-anchor=\"start\" x=\"531\" y=\"-134.3\" font-family=\"Helvetica,sans-Serif\" font-size=\"14.00\" fill=\"#000000\">value = [0, 0, 0, 13]</text>\n",
       "<text text-anchor=\"start\" x=\"563\" y=\"-119.3\" font-family=\"Helvetica,sans-Serif\" font-size=\"14.00\" fill=\"#000000\">class = 3</text>\n",
       "</g>\n",
       "<!-- 9&#45;&gt;10 -->\n",
       "<g id=\"edge10\" class=\"edge\">\n",
       "<title>9&#45;&gt;10</title>\n",
       "<path fill=\"none\" stroke=\"#000000\" d=\"M598.0025,-222.8796C597.1062,-212.2134 596.1388,-200.7021 595.2312,-189.9015\"/>\n",
       "<polygon fill=\"#000000\" stroke=\"#000000\" points=\"598.7088,-189.4867 594.3836,-179.8149 591.7334,-190.0729 598.7088,-189.4867\"/>\n",
       "</g>\n",
       "<!-- 11 -->\n",
       "<g id=\"node12\" class=\"node\">\n",
       "<title>11</title>\n",
       "<path fill=\"#47e539\" stroke=\"#000000\" d=\"M795,-179.5C795,-179.5 690,-179.5 690,-179.5 684,-179.5 678,-173.5 678,-167.5 678,-167.5 678,-123.5 678,-123.5 678,-117.5 684,-111.5 690,-111.5 690,-111.5 795,-111.5 795,-111.5 801,-111.5 807,-117.5 807,-123.5 807,-123.5 807,-167.5 807,-167.5 807,-173.5 801,-179.5 795,-179.5\"/>\n",
       "<text text-anchor=\"start\" x=\"700.5\" y=\"-164.3\" font-family=\"Helvetica,sans-Serif\" font-size=\"14.00\" fill=\"#000000\">entropy = 0.0</text>\n",
       "<text text-anchor=\"start\" x=\"704.5\" y=\"-149.3\" font-family=\"Helvetica,sans-Serif\" font-size=\"14.00\" fill=\"#000000\">samples = 3</text>\n",
       "<text text-anchor=\"start\" x=\"686\" y=\"-134.3\" font-family=\"Helvetica,sans-Serif\" font-size=\"14.00\" fill=\"#000000\">value = [0, 3, 0, 0]</text>\n",
       "<text text-anchor=\"start\" x=\"714\" y=\"-119.3\" font-family=\"Helvetica,sans-Serif\" font-size=\"14.00\" fill=\"#000000\">class = 1</text>\n",
       "</g>\n",
       "<!-- 9&#45;&gt;11 -->\n",
       "<g id=\"edge11\" class=\"edge\">\n",
       "<title>9&#45;&gt;11</title>\n",
       "<path fill=\"none\" stroke=\"#000000\" d=\"M650.815,-222.8796C664.756,-211.1138 679.9154,-198.3197 693.8188,-186.5855\"/>\n",
       "<polygon fill=\"#000000\" stroke=\"#000000\" points=\"696.4564,-188.9394 701.8411,-179.8149 691.9416,-183.5899 696.4564,-188.9394\"/>\n",
       "</g>\n",
       "<!-- 13 -->\n",
       "<g id=\"node14\" class=\"node\">\n",
       "<title>13</title>\n",
       "<path fill=\"#47e539\" stroke=\"#000000\" d=\"M835.5,-298.5C835.5,-298.5 731.5,-298.5 731.5,-298.5 725.5,-298.5 719.5,-292.5 719.5,-286.5 719.5,-286.5 719.5,-242.5 719.5,-242.5 719.5,-236.5 725.5,-230.5 731.5,-230.5 731.5,-230.5 835.5,-230.5 835.5,-230.5 841.5,-230.5 847.5,-236.5 847.5,-242.5 847.5,-242.5 847.5,-286.5 847.5,-286.5 847.5,-292.5 841.5,-298.5 835.5,-298.5\"/>\n",
       "<text text-anchor=\"start\" x=\"741.5\" y=\"-283.3\" font-family=\"Helvetica,sans-Serif\" font-size=\"14.00\" fill=\"#000000\">entropy = 0.0</text>\n",
       "<text text-anchor=\"start\" x=\"745.5\" y=\"-268.3\" font-family=\"Helvetica,sans-Serif\" font-size=\"14.00\" fill=\"#000000\">samples = 4</text>\n",
       "<text text-anchor=\"start\" x=\"727.5\" y=\"-253.3\" font-family=\"Helvetica,sans-Serif\" font-size=\"14.00\" fill=\"#000000\">value = [0, 4, 0, 0]</text>\n",
       "<text text-anchor=\"start\" x=\"755\" y=\"-238.3\" font-family=\"Helvetica,sans-Serif\" font-size=\"14.00\" fill=\"#000000\">class = 1</text>\n",
       "</g>\n",
       "<!-- 12&#45;&gt;13 -->\n",
       "<g id=\"edge13\" class=\"edge\">\n",
       "<title>12&#45;&gt;13</title>\n",
       "<path fill=\"none\" stroke=\"#000000\" d=\"M783.5,-341.8796C783.5,-331.2134 783.5,-319.7021 783.5,-308.9015\"/>\n",
       "<polygon fill=\"#000000\" stroke=\"#000000\" points=\"787.0001,-308.8149 783.5,-298.8149 780.0001,-308.815 787.0001,-308.8149\"/>\n",
       "</g>\n",
       "<!-- 14 -->\n",
       "<g id=\"node15\" class=\"node\">\n",
       "<title>14</title>\n",
       "<path fill=\"#399de5\" stroke=\"#000000\" d=\"M991,-298.5C991,-298.5 878,-298.5 878,-298.5 872,-298.5 866,-292.5 866,-286.5 866,-286.5 866,-242.5 866,-242.5 866,-236.5 872,-230.5 878,-230.5 878,-230.5 991,-230.5 991,-230.5 997,-230.5 1003,-236.5 1003,-242.5 1003,-242.5 1003,-286.5 1003,-286.5 1003,-292.5 997,-298.5 991,-298.5\"/>\n",
       "<text text-anchor=\"start\" x=\"892.5\" y=\"-283.3\" font-family=\"Helvetica,sans-Serif\" font-size=\"14.00\" fill=\"#000000\">entropy = 0.0</text>\n",
       "<text text-anchor=\"start\" x=\"892\" y=\"-268.3\" font-family=\"Helvetica,sans-Serif\" font-size=\"14.00\" fill=\"#000000\">samples = 19</text>\n",
       "<text text-anchor=\"start\" x=\"874\" y=\"-253.3\" font-family=\"Helvetica,sans-Serif\" font-size=\"14.00\" fill=\"#000000\">value = [0, 0, 19, 0]</text>\n",
       "<text text-anchor=\"start\" x=\"906\" y=\"-238.3\" font-family=\"Helvetica,sans-Serif\" font-size=\"14.00\" fill=\"#000000\">class = 2</text>\n",
       "</g>\n",
       "<!-- 12&#45;&gt;14 -->\n",
       "<g id=\"edge14\" class=\"edge\">\n",
       "<title>12&#45;&gt;14</title>\n",
       "<path fill=\"none\" stroke=\"#000000\" d=\"M836.3125,-341.8796C851.3817,-330.0038 867.7803,-317.0804 882.7834,-305.2568\"/>\n",
       "<polygon fill=\"#000000\" stroke=\"#000000\" points=\"885.2698,-307.7536 890.9575,-298.8149 880.9369,-302.2557 885.2698,-307.7536\"/>\n",
       "</g>\n",
       "</g>\n",
       "</svg>\n"
      ],
      "text/plain": [
       "<graphviz.files.Source at 0x7f2d262344d0>"
      ]
     },
     "execution_count": 78,
     "metadata": {},
     "output_type": "execute_result"
    }
   ],
   "source": [
    "dot_data = export_graphviz(dt, out_file=None, \n",
    "                         feature_names=prediction_features,  \n",
    "                         class_names=[\"0\",\"1\",\"2\",\"3\"], # needs to be lexicographically sorted\n",
    "                         filled=True, rounded=True,  \n",
    "                         special_characters=True) \n",
    "graph = graphviz.Source(dot_data)\n",
    "graph"
   ]
  },
  {
   "cell_type": "markdown",
   "metadata": {},
   "source": [
    "We can see how the different classes are characterized by:\n",
    "- class 0 : the government health expenditure is low with high natural resources rents\n",
    "- class 1 : the food deficit is extremely small with a high government health expenditure\n",
    "- class 2 : the government health expenditure is low with a high food deficit\n",
    "- class 3 : the government health expenditure, life expectancy and natural resources rents are low"
   ]
  },
  {
   "cell_type": "markdown",
   "metadata": {},
   "source": [
    "## DBSCAN"
   ]
  },
  {
   "cell_type": "code",
   "execution_count": null,
   "metadata": {},
   "outputs": [],
   "source": []
  },
  {
   "cell_type": "markdown",
   "metadata": {},
   "source": [
    "## Comparaison des différents clustering"
   ]
  },
  {
   "cell_type": "markdown",
   "metadata": {},
   "source": [
    "### Confusion matrix"
   ]
  },
  {
   "cell_type": "markdown",
   "metadata": {},
   "source": [
    "#### Kmeans vs ..."
   ]
  },
  {
   "cell_type": "code",
   "execution_count": 75,
   "metadata": {},
   "outputs": [
    {
     "ename": "NameError",
     "evalue": "name 'classes' is not defined",
     "output_type": "error",
     "traceback": [
      "\u001b[0;31m---------------------------------------------------------------------------\u001b[0m",
      "\u001b[0;31mNameError\u001b[0m                                 Traceback (most recent call last)",
      "\u001b[0;32m<ipython-input-75-a7adff146e23>\u001b[0m in \u001b[0;36m<module>\u001b[0;34m()\u001b[0m\n\u001b[1;32m      1\u001b[0m \u001b[0mallLabels\u001b[0m \u001b[0;34m=\u001b[0m \u001b[0;34m[\u001b[0m\u001b[0;34m'0'\u001b[0m\u001b[0;34m,\u001b[0m \u001b[0;34m'1'\u001b[0m\u001b[0;34m,\u001b[0m \u001b[0;34m'2'\u001b[0m\u001b[0;34m,\u001b[0m \u001b[0;34m'3'\u001b[0m\u001b[0;34m]\u001b[0m\u001b[0;34m\u001b[0m\u001b[0m\n\u001b[0;32m----> 2\u001b[0;31m \u001b[0mcm\u001b[0m \u001b[0;34m=\u001b[0m \u001b[0mmetrics\u001b[0m\u001b[0;34m.\u001b[0m\u001b[0mconfusion_matrix\u001b[0m\u001b[0;34m(\u001b[0m\u001b[0mclasses\u001b[0m\u001b[0;34m,\u001b[0m \u001b[0mclusters\u001b[0m\u001b[0;34m.\u001b[0m\u001b[0mastype\u001b[0m\u001b[0;34m(\u001b[0m\u001b[0mstr\u001b[0m\u001b[0;34m)\u001b[0m\u001b[0;34m,\u001b[0m \u001b[0mlabels\u001b[0m\u001b[0;34m=\u001b[0m\u001b[0mallLabels\u001b[0m\u001b[0;34m)\u001b[0m\u001b[0;31m# classes les classes de l'autre clusterings\u001b[0m\u001b[0;34m\u001b[0m\u001b[0m\n\u001b[0m\u001b[1;32m      3\u001b[0m \u001b[0mcm\u001b[0m\u001b[0;34m.\u001b[0m\u001b[0mshape\u001b[0m\u001b[0;34m\u001b[0m\u001b[0m\n",
      "\u001b[0;31mNameError\u001b[0m: name 'classes' is not defined"
     ]
    }
   ],
   "source": [
    "allLabels = ['0', '1', '2', '3']\n",
    "cm = metrics.confusion_matrix(classes, clusters.astype(str), labels=allLabels)# classes les classes de l'autre clusterings\n",
    "cm.shape"
   ]
  },
  {
   "cell_type": "code",
   "execution_count": null,
   "metadata": {},
   "outputs": [],
   "source": [
    "cmdf = pds.DataFrame(data=cm, copy=True, index=allLabels, columns=allLabels).loc[classLabels, clusterLabels]\n",
    "cmdf = cmdf.transpose()\n",
    "sns.heatmap(cmdf, annot=True)"
   ]
  },
  {
   "cell_type": "markdown",
   "metadata": {},
   "source": [
    "### Entropy"
   ]
  },
  {
   "cell_type": "markdown",
   "metadata": {},
   "source": [
    "#### Kmeans vs ..."
   ]
  },
  {
   "cell_type": "code",
   "execution_count": null,
   "metadata": {},
   "outputs": [],
   "source": [
    "proba = cmdf.values/cmdf.values.sum(axis=1, keepdims=True) # divide each element of a row by the sum of the row\n",
    "print(proba)\n",
    "entropy = [stats.entropy(row, base=2) for row in proba]\n",
    "print \"entropy of each cluster:\", entropy"
   ]
  },
  {
   "cell_type": "code",
   "execution_count": null,
   "metadata": {},
   "outputs": [],
   "source": []
  },
  {
   "cell_type": "markdown",
   "metadata": {},
   "source": [
    "# Classification"
   ]
  },
  {
   "cell_type": "markdown",
   "metadata": {},
   "source": [
    "## Construct the labels"
   ]
  },
  {
   "cell_type": "code",
   "execution_count": null,
   "metadata": {},
   "outputs": [],
   "source": [
    "sort_datatri=Z_datatri.sort_values('Life expectancy')"
   ]
  },
  {
   "cell_type": "code",
   "execution_count": null,
   "metadata": {},
   "outputs": [],
   "source": [
    "n=len(sort_datatri)"
   ]
  },
  {
   "cell_type": "markdown",
   "metadata": {},
   "source": [
    "###### Essais de labels pour voir comment ça marche"
   ]
  },
  {
   "cell_type": "code",
   "execution_count": null,
   "metadata": {},
   "outputs": [],
   "source": [
    "# class 1 : low life expectancy\n",
    "datatri_1 = sort_datatri.iloc[ : int(floor(n/3)), :]\n",
    "datatri_1."
   ]
  },
  {
   "cell_type": "code",
   "execution_count": null,
   "metadata": {},
   "outputs": [],
   "source": [
    "datatri_1.head()"
   ]
  },
  {
   "cell_type": "code",
   "execution_count": null,
   "metadata": {},
   "outputs": [],
   "source": [
    "# class 2 : medium life expectancy\n",
    "datatri_2 = sort_datatri.iloc[ int(floor(n/3)) : int(floor(2*n/3)), :]\n",
    "datatri_2.head()"
   ]
  },
  {
   "cell_type": "code",
   "execution_count": null,
   "metadata": {},
   "outputs": [],
   "source": [
    "# class 3 : high life expectancy\n",
    "datatri_3 = sort_datatri.iloc[ int(floor(2*n/3)) : n, :]\n",
    "datatri_3.head()"
   ]
  },
  {
   "cell_type": "markdown",
   "metadata": {},
   "source": [
    "##### Vrais labels"
   ]
  },
  {
   "cell_type": "code",
   "execution_count": null,
   "metadata": {},
   "outputs": [],
   "source": [
    "from math import floor\n",
    "sort_datatri=Z_datatri.sort_values('Life expectancy')"
   ]
  },
  {
   "cell_type": "code",
   "execution_count": null,
   "metadata": {},
   "outputs": [],
   "source": [
    "n=len(sort_datatri) \n",
    "x=np.array([1,2,3]) # array needed to create the classes array\n",
    "classes=np.repeat(x, floor(n/3))\n",
    "classes"
   ]
  },
  {
   "cell_type": "code",
   "execution_count": null,
   "metadata": {},
   "outputs": [],
   "source": [
    "sort_datatri=sort_datatri.assign(classe=classes)\n",
    "sort_datatri"
   ]
  },
  {
   "cell_type": "code",
   "execution_count": null,
   "metadata": {},
   "outputs": [],
   "source": [
    "sort_datatri=sort_datatri.drop(labels='Life expectancy', axis=1)\n",
    "sort_datatri"
   ]
  },
  {
   "cell_type": "code",
   "execution_count": null,
   "metadata": {},
   "outputs": [],
   "source": []
  },
  {
   "cell_type": "markdown",
   "metadata": {},
   "source": [
    "## KNN Classification"
   ]
  },
  {
   "cell_type": "code",
   "execution_count": null,
   "metadata": {},
   "outputs": [],
   "source": [
    "from sklearn.model_selection import train_test_split\n",
    "from sklearn import neighbors\n",
    "#X_train, X_test, y_train, y_test = train_test_split(dff, classes, test_size=0.33)\n",
    "data_train, data_test, label_train, label_test = train_test_split(sort_datatri, classes, test_size=0.33, random_state=10)\n",
    "sortedLabelList = sorted(list(set(classes)))"
   ]
  },
  {
   "cell_type": "code",
   "execution_count": null,
   "metadata": {},
   "outputs": [],
   "source": [
    "# knn model\n",
    "model = neighbors.KNeighborsClassifier(n_neighbors=7, weights='uniform', p=2)"
   ]
  },
  {
   "cell_type": "code",
   "execution_count": null,
   "metadata": {},
   "outputs": [],
   "source": [
    "# Training\n",
    "model.fit(data_train, label_train)"
   ]
  },
  {
   "cell_type": "code",
   "execution_count": null,
   "metadata": {},
   "outputs": [],
   "source": [
    "# Testing\n",
    "label_predict = model.predict(data_test)\n",
    "print(metrics.accuracy_score(label_test, label_predict))\n",
    "print(metrics.classification_report(label_test, label_predict))"
   ]
  },
  {
   "cell_type": "code",
   "execution_count": null,
   "metadata": {},
   "outputs": [],
   "source": [
    "metrics.confusion_matrix(y_true=label_test, y_pred=label_predict, labels=sortedLabelList)"
   ]
  },
  {
   "cell_type": "code",
   "execution_count": null,
   "metadata": {},
   "outputs": [],
   "source": [
    "# Confusion matrix\n",
    "import pandas as pds\n",
    "pds.DataFrame(\n",
    "    metrics.confusion_matrix(y_true=label_test, y_pred=label_predict, labels=sortedLabelList),\n",
    "    columns=['Predicted ' + str(className) for className in sortedLabelList],\n",
    "    index=['True ' + str(className) for className in sortedLabelList]\n",
    ")"
   ]
  },
  {
   "cell_type": "markdown",
   "metadata": {},
   "source": [
    "### Cross-validation"
   ]
  },
  {
   "cell_type": "code",
   "execution_count": null,
   "metadata": {},
   "outputs": [],
   "source": [
    "from sklearn.model_selection import StratifiedKFold,cross_validate"
   ]
  },
  {
   "cell_type": "code",
   "execution_count": null,
   "metadata": {},
   "outputs": [],
   "source": [
    "# essai\n",
    "cross_validate(model, sort_datatri, classes)"
   ]
  },
  {
   "cell_type": "code",
   "execution_count": null,
   "metadata": {},
   "outputs": [],
   "source": [
    "#version finale\n",
    "scoring = ['accuracy', 'precision_macro', 'precision_weighted', 'recall_macro', 'recall_weighted', 'f1_macro', 'f1_weighted']\n",
    "cv = StratifiedKFold(n_splits=8, random_state=10, shuffle=True) # n_split=nombre d'échantillons, random_state=fixe la graine\n",
    "scores = cross_validate(model, sort_datatri, classes, scoring=scoring, cv=cv, return_train_score=False) #on ne veut pas le score sur le jeu d'apprentissage\n"
   ]
  },
  {
   "cell_type": "code",
   "execution_count": null,
   "metadata": {},
   "outputs": [],
   "source": [
    "scores"
   ]
  },
  {
   "cell_type": "markdown",
   "metadata": {},
   "source": [
    "### Overfitting"
   ]
  },
  {
   "cell_type": "code",
   "execution_count": null,
   "metadata": {},
   "outputs": [],
   "source": [
    "scores['test_accuracy']"
   ]
  },
  {
   "cell_type": "code",
   "execution_count": null,
   "metadata": {},
   "outputs": [],
   "source": [
    "scores['train_accuracy']"
   ]
  },
  {
   "cell_type": "code",
   "execution_count": null,
   "metadata": {},
   "outputs": [],
   "source": [
    "import matplotlib.pyplot as plt\n",
    "plt.plot(scores['test_accuracy'])\n",
    "#plt.plot(scores['train_accuracy'])"
   ]
  },
  {
   "cell_type": "code",
   "execution_count": null,
   "metadata": {},
   "outputs": [],
   "source": [
    "# variation of the number of neighbours\n",
    "train_accuracy = []\n",
    "test_accuracy = []\n",
    "for i in range(1,30):\n",
    "    model_i = neighbors.KNeighborsClassifier(n_neighbors=i, weights='uniform', p=2)\n",
    "    # Training\n",
    "    model_i.fit(data_train, label_train)\n",
    "    train_predict = model_i.predict(data_train)\n",
    "    # Testing\n",
    "    test_predict = model_i.predict(data_test)\n",
    "    train_accuracy.append(metrics.accuracy_score(label_train, train_predict))\n",
    "    test_accuracy.append(metrics.accuracy_score(label_test, test_predict))"
   ]
  },
  {
   "cell_type": "code",
   "execution_count": null,
   "metadata": {},
   "outputs": [],
   "source": [
    "plt.plot(test_accuracy, label=\"Test set\")\n",
    "plt.plot(train_accuracy, label=\"Training set\")\n",
    "plt.legend()"
   ]
  },
  {
   "cell_type": "code",
   "execution_count": null,
   "metadata": {},
   "outputs": [],
   "source": [
    "# variation of the number of neighbours with cross validation\n",
    "train_accuracy = []\n",
    "test_accuracy = []\n",
    "for i in range(1,30):\n",
    "    model_i = neighbors.KNeighborsClassifier(n_neighbors=i, weights='uniform', p=2)\n",
    "    scoring = ['accuracy', 'precision_macro']\n",
    "    cv = StratifiedKFold(n_splits=8, random_state=10, shuffle=True) # n_split=nombre d'échantillons, random_state=fixe la graine\n",
    "    scores = cross_validate(model, sort_datatri, classes, scoring=scoring, cv=cv, return_train_score=True) #on ne veut pas le score sur le jeu d'apprentissage\n",
    "    train_accuracy.append(scores['Test'])\n",
    "    test_accuracy.append(metrics.accuracy_score(label_test, test_predict))\n"
   ]
  },
  {
   "cell_type": "markdown",
   "metadata": {},
   "source": [
    "#### Overcoming overfitting"
   ]
  },
  {
   "cell_type": "code",
   "execution_count": null,
   "metadata": {},
   "outputs": [],
   "source": [
    "\n"
   ]
  },
  {
   "cell_type": "code",
   "execution_count": null,
   "metadata": {},
   "outputs": [],
   "source": []
  }
 ],
 "metadata": {
  "kernelspec": {
   "display_name": "Python 2.7",
   "language": "python",
   "name": "python_2.7"
  },
  "language_info": {
   "codemirror_mode": {
    "name": "ipython",
    "version": 2
   },
   "file_extension": ".py",
   "mimetype": "text/x-python",
   "name": "python",
   "nbconvert_exporter": "python",
   "pygments_lexer": "ipython2",
   "version": "2.7.14"
  }
 },
 "nbformat": 4,
 "nbformat_minor": 2
}
